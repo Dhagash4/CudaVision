{
 "cells": [
  {
   "cell_type": "markdown",
   "source": [
    "# Import"
   ],
   "metadata": {}
  },
  {
   "cell_type": "code",
   "execution_count": 1,
   "source": [
    "import torch\n",
    "import torchvision\n",
    "import torch.nn as nn\n",
    "import torch.nn.functional as F\n",
    "import torchvision.transforms as transforms\n",
    "from torch.utils.data.dataloader import DataLoader\n",
    "from torch.utils.data import random_split\n",
    "\n",
    "import numpy as np\n",
    "import matplotlib.pyplot as plt\n",
    "import os\n",
    "from tqdm import tqdm\n",
    "from typing import Tuple, NoReturn"
   ],
   "outputs": [],
   "metadata": {}
  },
  {
   "cell_type": "markdown",
   "source": [
    "# Dataloader"
   ],
   "metadata": {}
  },
  {
   "cell_type": "code",
   "execution_count": 2,
   "source": [
    "#Transforms from https://pytorch.org/tutorials/beginner/blitz/cifar10_tutorial.html\n",
    "\n",
    "transform = transforms.Compose(\n",
    "    [transforms.ToTensor(),\n",
    "     transforms.Normalize((0.5, 0.5, 0.5), (0.5, 0.5, 0.5))])\n",
    "\n",
    "train_dataset = torchvision.datasets.CIFAR10(root='./data', train=True, transform=transform, download=True)\n",
    "test_dataset = torchvision.datasets.CIFAR10(root='./data', train=False, transform=transform, download=True)\n",
    "train_dataset,validation_dataset = random_split(train_dataset,[round(0.9 * len(train_dataset)), round(0.1 * len(train_dataset))])"
   ],
   "outputs": [
    {
     "output_type": "stream",
     "name": "stdout",
     "text": [
      "Files already downloaded and verified\n",
      "Files already downloaded and verified\n"
     ]
    }
   ],
   "metadata": {}
  },
  {
   "cell_type": "code",
   "execution_count": 3,
   "source": [
    "BATCH_SIZE = 128\n",
    "SHUFFLE = True\n",
    "train_loader = DataLoader(train_dataset, batch_size=BATCH_SIZE, num_workers=4, shuffle=SHUFFLE)\n",
    "test_loader = DataLoader(test_dataset, batch_size=BATCH_SIZE, num_workers=4, shuffle=SHUFFLE)\n",
    "val_loader = DataLoader(validation_dataset, batch_size=BATCH_SIZE, num_workers=4, shuffle=SHUFFLE)\n"
   ],
   "outputs": [],
   "metadata": {}
  },
  {
   "cell_type": "markdown",
   "source": [
    "## Visualizing Data"
   ],
   "metadata": {}
  },
  {
   "cell_type": "code",
   "execution_count": null,
   "source": [],
   "outputs": [],
   "metadata": {}
  },
  {
   "cell_type": "markdown",
   "source": [
    "# Model"
   ],
   "metadata": {}
  },
  {
   "cell_type": "code",
   "execution_count": 4,
   "source": [
    "class SCNN(nn.Module):\n",
    "    def __init__(self, activation: str, batch_norm: str, dropout: bool) -> None:\n",
    "        super().__init__()\n",
    "\n",
    "        #BASE MODEL\n",
    "        \n",
    "        #Conv Block 1\n",
    "        #(Nx3x32x32) -> (Nx16x32x32)\n",
    "        conv1 = nn.Conv2d(in_channels=3, out_channels=32,\n",
    "                          kernel_size=5, padding=2)\n",
    "\n",
    "        #Conv Block 2\n",
    "        #(Nx32x32x32) -> (Nx64x28x28)\n",
    "        conv2 = nn.Conv2d(in_channels=32, out_channels=64,\n",
    "                          kernel_size=5, stride=1)\n",
    "        #(Nx64x28x28) -> (Nx64x14x14)\n",
    "        pool2 = nn.MaxPool2d(kernel_size=2, stride=2)\n",
    "\n",
    "        #Conv Block 3\n",
    "        #(Nx64x14x14) -> (Nx128x12x12)\n",
    "        conv3 = nn.Conv2d(in_channels=64, out_channels=128,\n",
    "                          kernel_size=3, padding=0, stride=1)\n",
    "\n",
    "        #(Nx128x12x12) -> (Nx128x6x6)\n",
    "        pool3 = nn.MaxPool2d(kernel_size=2, stride=2)\n",
    "\n",
    "        \n",
    "        in_dim = 128*6*6\n",
    "        fc1 = nn.Linear(in_dim,1024)\n",
    "        fc2 = nn.Linear(1024,10)\n",
    "\n",
    "        activation_layer = None\n",
    "        dropout_layer = None\n",
    "        if activation == 'relu':\n",
    "            activation_layer = nn.ReLU()\n",
    "        elif activation == 'lrelu':\n",
    "            activation_layer = nn.LeakyReLU()\n",
    "        else:\n",
    "            if activation == 'elu':\n",
    "                activation_layer = nn.ELU()\n",
    "\n",
    "\n",
    "\n",
    "        self.conv_net = nn.Sequential(conv1,\n",
    "                                     activation_layer,\n",
    "                                     conv2,\n",
    "                                     activation_layer,\n",
    "                                     pool2,\n",
    "                                     conv3,\n",
    "                                     activation_layer,\n",
    "                                     pool3,\n",
    "                                     nn.Flatten(start_dim=1),\n",
    "                                     fc1,\n",
    "                                     activation_layer,\n",
    "                                     fc2\n",
    "                                     )\n",
    "\n",
    "        if batch_norm == 'bnorm':\n",
    "            bnorm1 = nn.BatchNorm2d(32)\n",
    "            bnorm2 = nn.BatchNorm2d(64)\n",
    "            bnorm3 = nn.BatchNorm2d(128)\n",
    "\n",
    "            self.conv_net = nn.Sequential(conv1,\n",
    "                                          activation_layer,\n",
    "                                          bnorm1,\n",
    "                                          conv2,\n",
    "                                          activation_layer,\n",
    "                                          pool2,\n",
    "                                          bnorm2,\n",
    "                                          conv3,\n",
    "                                          activation_layer,\n",
    "                                          pool3,\n",
    "                                          bnorm3,\n",
    "                                          nn.Flatten(start_dim=1),\n",
    "                                          fc1,\n",
    "                                          activation_layer,\n",
    "                                          fc2\n",
    "                                          )\n",
    "        elif batch_norm == 'gnorm':\n",
    "\n",
    "            gnorm1 = nn.GroupNorm(8,32)\n",
    "            gnorm2 = nn.GroupNorm(8,64)\n",
    "            gnorm3 = nn.GroupNorm(8,128)\n",
    "\n",
    "            self.conv_net = nn.Sequential(conv1,\n",
    "                                          activation_layer,\n",
    "                                          gnorm1,\n",
    "                                          conv2,\n",
    "                                          activation_layer,\n",
    "                                          pool2,\n",
    "                                          gnorm2,\n",
    "                                          conv3,\n",
    "                                          activation_layer,\n",
    "                                          pool3,\n",
    "                                          gnorm3,\n",
    "                                          nn.Flatten(start_dim=1),\n",
    "                                          fc1,\n",
    "                                          activation_layer,\n",
    "                                          fc2\n",
    "                                          )\n",
    "\n",
    "        else:\n",
    "            pass\n",
    "\n",
    "\n",
    "\n",
    "\n",
    "        #############################################################################################\n",
    "        #Add dropout in similar way, so one code for all\n",
    "        ###############################################################################################\n",
    "\n",
    "    def forward(self, x):\n",
    "        \n",
    "        \n",
    "        y = self.conv_net(x)\n",
    "\n",
    "        return y\n",
    "\n",
    "def count_model_params(model):\n",
    "    \"\"\" Counting the number of learnable parameters in a nn.Module \"\"\"\n",
    "    num_params = sum(p.numel() for p in model.parameters() if p.requires_grad)\n",
    "    return num_params"
   ],
   "outputs": [],
   "metadata": {}
  },
  {
   "cell_type": "code",
   "execution_count": 5,
   "source": [
    "cnn = SCNN(activation='relu',batch_norm='none',dropout=False)\n",
    "params = count_model_params(cnn)\n",
    "print(cnn)\n",
    "print(f\"Model has {params} learnable parameters\")\n"
   ],
   "outputs": [
    {
     "output_type": "stream",
     "name": "stdout",
     "text": [
      "SCNN(\n",
      "  (conv_net): Sequential(\n",
      "    (0): Conv2d(3, 32, kernel_size=(5, 5), stride=(1, 1), padding=(2, 2))\n",
      "    (1): ReLU()\n",
      "    (2): Conv2d(32, 64, kernel_size=(5, 5), stride=(1, 1))\n",
      "    (3): ReLU()\n",
      "    (4): MaxPool2d(kernel_size=2, stride=2, padding=0, dilation=1, ceil_mode=False)\n",
      "    (5): Conv2d(64, 128, kernel_size=(3, 3), stride=(1, 1))\n",
      "    (6): ReLU()\n",
      "    (7): MaxPool2d(kernel_size=2, stride=2, padding=0, dilation=1, ceil_mode=False)\n",
      "    (8): Flatten(start_dim=1, end_dim=-1)\n",
      "    (9): Linear(in_features=4608, out_features=1024, bias=True)\n",
      "    (10): ReLU()\n",
      "    (11): Linear(in_features=1024, out_features=10, bias=True)\n",
      "  )\n",
      ")\n",
      "Model has 4857418 learnable parameters\n"
     ]
    }
   ],
   "metadata": {}
  },
  {
   "cell_type": "markdown",
   "source": [
    "# Training"
   ],
   "metadata": {}
  },
  {
   "cell_type": "markdown",
   "source": [
    "## Todo\n",
    "\n",
    "-> Visualization of images and plots for eval and train loss <br />\n",
    "-> Early stopping criterion <br />\n",
    "-> Accuracy above 85% by modifying parameters <br />\n",
    "-> Visualizing activations of different layers <br />"
   ],
   "metadata": {}
  },
  {
   "cell_type": "markdown",
   "source": [
    "## Parameters for training"
   ],
   "metadata": {}
  },
  {
   "cell_type": "code",
   "execution_count": 6,
   "source": [
    "LR = 3e-4\n",
    "EPOCHS = 50\n",
    "EVAL_FREQ = 10\n",
    "SAVE_FREQ = 10"
   ],
   "outputs": [],
   "metadata": {}
  },
  {
   "cell_type": "code",
   "execution_count": 7,
   "source": [
    "stats = {\n",
    "    \"epoch\": [],\n",
    "    \"train_loss\": [],\n",
    "    \"valid_loss\": [],\n",
    "    \"accuracy\": []\n",
    "}\n",
    "init_epoch = 0"
   ],
   "outputs": [],
   "metadata": {}
  },
  {
   "cell_type": "code",
   "execution_count": 8,
   "source": [
    "device = torch.device(\"cuda\" if torch.cuda.is_available() else \"cpu\")\n",
    "\n",
    "cnn = cnn.to(device)"
   ],
   "outputs": [],
   "metadata": {}
  },
  {
   "cell_type": "code",
   "execution_count": 9,
   "source": [
    "criterion = nn.CrossEntropyLoss().to(device)\n",
    "optimizer = torch.optim.Adam(params=cnn.parameters(), lr=LR)"
   ],
   "outputs": [],
   "metadata": {}
  },
  {
   "cell_type": "code",
   "execution_count": 10,
   "source": [
    "@torch.no_grad()\n",
    "def eval_model(model):\n",
    "    correct = 0\n",
    "    total = 0\n",
    "    loss_list = []\n",
    "\n",
    "    for images, labels in val_loader:\n",
    "        images = images.to(device)\n",
    "        labels = labels.to(device)\n",
    "\n",
    "        # Forward pass only to get logits/output\n",
    "        outputs = model(images)\n",
    "\n",
    "        loss = criterion(outputs, labels)\n",
    "        loss_list.append(loss.item())\n",
    "\n",
    "        # Get predictions from the maximum value\n",
    "        preds = torch.argmax(outputs, dim=1)\n",
    "        correct += len(torch.where(preds == labels)[0])\n",
    "        total += len(labels)\n",
    "\n",
    "    # Total correct predictions and loss\n",
    "    accuracy = correct / total * 100\n",
    "    loss = np.mean(loss_list)\n",
    "    return accuracy, loss\n",
    "\n",
    "\n",
    "def save_model(model, optimizer, epoch, stats, name):\n",
    "    \"\"\" Saving model checkpoint \"\"\"\n",
    "\n",
    "    if(not os.path.exists(\"models\")):\n",
    "        os.makedirs(\"models\")\n",
    "    savepath = f\"models/{name}_checkpoint_epoch_{epoch}.pth\"\n",
    "\n",
    "    torch.save({\n",
    "        'epoch': epoch,\n",
    "        'model_state_dict': model.state_dict(),\n",
    "        'optimizer_state_dict': optimizer.state_dict(),\n",
    "        'stats': stats\n",
    "    }, savepath)\n",
    "    return\n",
    "\n",
    "\n",
    "def load_model(model, optimizer, savepath):\n",
    "    \"\"\" Loading pretrained checkpoint \"\"\"\n",
    "\n",
    "    checkpoint = torch.load(savepath)\n",
    "    model.load_state_dict(checkpoint['model_state_dict'])\n",
    "    optimizer.load_state_dict(checkpoint['optimizer_state_dict'])\n",
    "    epoch = checkpoint[\"epoch\"]\n",
    "    stats = checkpoint[\"stats\"]\n",
    "\n",
    "    return model, optimizer, epoch, stats\n"
   ],
   "outputs": [],
   "metadata": {}
  },
  {
   "cell_type": "code",
   "execution_count": 11,
   "source": [
    "loss_hist = []\n",
    "\n",
    "for epoch in range(EPOCHS):\n",
    "    progress_bar = tqdm(enumerate(train_loader), total=len(train_loader))\n",
    "    for i,(images,labels) in progress_bar:\n",
    "\n",
    "        loss_list = []\n",
    "\n",
    "        x = images.to(device)\n",
    "        y_train = labels.to(device)\n",
    "\n",
    "        # Clear gradients w.r.t. parameters\n",
    "        optimizer.zero_grad()\n",
    "\n",
    "        # Forward pass to get output/logits\n",
    "        outputs = cnn(x)\n",
    "\n",
    "        # Calculate Loss: softmax --> cross entropy loss\n",
    "        loss = criterion(outputs, y_train)\n",
    "\n",
    "        # Getting gradients w.r.t. parameters\n",
    "        loss.backward()\n",
    "        loss_list.append(loss.item())\n",
    "\n",
    "        # Updating parameters\n",
    "        optimizer.step()\n",
    "        progress_bar.set_description(f\"Epoch {epoch+1} Iter {i+1}: loss {loss.item():.5f}. \")\n",
    "    \n",
    "    loss_hist.append(np.mean(loss_list))\n",
    "    stats[\"epoch\"].append(epoch)\n",
    "    stats[\"train_loss\"].append(loss_hist[-1])\n",
    "    \n",
    "\n",
    "    if epoch % EVAL_FREQ == 0:\n",
    "        accuracy, valid_loss = eval_model(cnn)\n",
    "        print(f\"Accuracy at epoch {epoch}: {round(accuracy, 2)}%\")\n",
    "    else:\n",
    "        accuracy, valid_loss = -1, -1\n",
    "    \n",
    "    stats[\"accuracy\"].append(accuracy)\n",
    "    stats[\"valid_loss\"].append(valid_loss)\n",
    "\n",
    "    if epoch % SAVE_FREQ == 0:\n",
    "        save_model(model=cnn, optimizer=optimizer, epoch=epoch, stats=stats,name=\"simple_cnn\")\n"
   ],
   "outputs": [
    {
     "output_type": "stream",
     "name": "stderr",
     "text": [
      "Epoch 1 Iter 352: loss 1.03062. : 100%|██████████| 352/352 [00:04<00:00, 79.68it/s]\n"
     ]
    },
    {
     "output_type": "stream",
     "name": "stdout",
     "text": [
      "Accuracy at epoch 0: 52.22%\n"
     ]
    },
    {
     "output_type": "stream",
     "name": "stderr",
     "text": [
      "Epoch 2 Iter 352: loss 1.01289. : 100%|██████████| 352/352 [00:04<00:00, 87.24it/s]\n",
      "Epoch 3 Iter 352: loss 0.87133. : 100%|██████████| 352/352 [00:04<00:00, 87.29it/s]\n",
      "Epoch 4 Iter 352: loss 0.71679. : 100%|██████████| 352/352 [00:04<00:00, 86.54it/s]\n",
      "Epoch 5 Iter 352: loss 0.66915. : 100%|██████████| 352/352 [00:04<00:00, 87.10it/s]\n",
      "Epoch 6 Iter 352: loss 0.59965. : 100%|██████████| 352/352 [00:03<00:00, 91.67it/s]\n",
      "Epoch 7 Iter 352: loss 0.35192. : 100%|██████████| 352/352 [00:03<00:00, 93.21it/s]\n",
      "Epoch 8 Iter 352: loss 0.39618. : 100%|██████████| 352/352 [00:03<00:00, 92.64it/s]\n",
      "Epoch 9 Iter 352: loss 0.24611. : 100%|██████████| 352/352 [00:03<00:00, 93.11it/s]\n",
      "Epoch 10 Iter 352: loss 0.19168. : 100%|██████████| 352/352 [00:03<00:00, 89.91it/s]\n",
      "Epoch 11 Iter 352: loss 0.08061. : 100%|██████████| 352/352 [00:03<00:00, 90.89it/s]\n"
     ]
    },
    {
     "output_type": "stream",
     "name": "stdout",
     "text": [
      "Accuracy at epoch 10: 72.96%\n"
     ]
    },
    {
     "output_type": "stream",
     "name": "stderr",
     "text": [
      "Epoch 12 Iter 352: loss 0.04582. : 100%|██████████| 352/352 [00:04<00:00, 83.94it/s]\n",
      "Epoch 13 Iter 352: loss 0.06938. : 100%|██████████| 352/352 [00:04<00:00, 83.11it/s]\n",
      "Epoch 14 Iter 352: loss 0.04552. : 100%|██████████| 352/352 [00:04<00:00, 85.54it/s]\n",
      "Epoch 15 Iter 352: loss 0.06960. : 100%|██████████| 352/352 [00:04<00:00, 85.81it/s]\n",
      "Epoch 16 Iter 352: loss 0.04192. : 100%|██████████| 352/352 [00:04<00:00, 86.42it/s]\n",
      "Epoch 17 Iter 352: loss 0.02081. : 100%|██████████| 352/352 [00:04<00:00, 84.16it/s]\n",
      "Epoch 18 Iter 352: loss 0.09414. : 100%|██████████| 352/352 [00:04<00:00, 85.47it/s]\n",
      "Epoch 19 Iter 352: loss 0.02152. : 100%|██████████| 352/352 [00:04<00:00, 86.74it/s]\n",
      "Epoch 20 Iter 352: loss 0.01540. : 100%|██████████| 352/352 [00:04<00:00, 86.61it/s]\n",
      "Epoch 21 Iter 352: loss 0.04900. : 100%|██████████| 352/352 [00:04<00:00, 85.82it/s]\n"
     ]
    },
    {
     "output_type": "stream",
     "name": "stdout",
     "text": [
      "Accuracy at epoch 20: 72.3%\n"
     ]
    },
    {
     "output_type": "stream",
     "name": "stderr",
     "text": [
      "Epoch 22 Iter 352: loss 0.00115. : 100%|██████████| 352/352 [00:04<00:00, 85.85it/s]\n",
      "Epoch 23 Iter 352: loss 0.04362. : 100%|██████████| 352/352 [00:04<00:00, 85.33it/s]\n",
      "Epoch 24 Iter 352: loss 0.01702. : 100%|██████████| 352/352 [00:04<00:00, 84.91it/s]\n",
      "Epoch 25 Iter 352: loss 0.01348. : 100%|██████████| 352/352 [00:04<00:00, 84.49it/s]\n",
      "Epoch 26 Iter 352: loss 0.05426. : 100%|██████████| 352/352 [00:04<00:00, 84.55it/s]\n",
      "Epoch 27 Iter 352: loss 0.04327. : 100%|██████████| 352/352 [00:04<00:00, 85.41it/s]\n",
      "Epoch 28 Iter 352: loss 0.01068. : 100%|██████████| 352/352 [00:04<00:00, 84.48it/s]\n",
      "Epoch 29 Iter 352: loss 0.05826. : 100%|██████████| 352/352 [00:04<00:00, 84.68it/s]\n",
      "Epoch 30 Iter 352: loss 0.00570. : 100%|██████████| 352/352 [00:04<00:00, 84.96it/s]\n"
     ]
    }
   ],
   "metadata": {}
  },
  {
   "cell_type": "code",
   "execution_count": null,
   "source": [],
   "outputs": [],
   "metadata": {}
  }
 ],
 "metadata": {
  "orig_nbformat": 4,
  "language_info": {
   "name": "python",
   "version": "3.7.10",
   "mimetype": "text/x-python",
   "codemirror_mode": {
    "name": "ipython",
    "version": 3
   },
   "pygments_lexer": "ipython3",
   "nbconvert_exporter": "python",
   "file_extension": ".py"
  },
  "kernelspec": {
   "name": "python3",
   "display_name": "Python 3.7.10 64-bit ('dl': conda)"
  },
  "interpreter": {
   "hash": "f7881038a8c0c2c5168ac80e20ff544f471faf7d5bc66c5653256549b0169354"
  }
 },
 "nbformat": 4,
 "nbformat_minor": 2
}