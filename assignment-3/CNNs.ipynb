{
 "cells": [
  {
   "cell_type": "markdown",
   "source": [
    "# Import"
   ],
   "metadata": {}
  },
  {
   "cell_type": "code",
   "execution_count": 1,
   "source": [
    "import torch\n",
    "import torchvision\n",
    "import torch.nn as nn\n",
    "import torch.nn.functional as F\n",
    "import torchvision.transforms as transforms\n",
    "from torch.utils.data.dataloader import DataLoader\n",
    "from torch.utils.data import random_split\n",
    "from torchvision.utils import make_grid\n",
    "\n",
    "import numpy as np\n",
    "import matplotlib.pyplot as plt\n",
    "import os\n",
    "from tqdm import tqdm\n",
    "from typing import Tuple, NoReturn\n",
    "import seaborn as sns\n",
    "import time\n"
   ],
   "outputs": [],
   "metadata": {}
  },
  {
   "cell_type": "markdown",
   "source": [
    "# Dataloader"
   ],
   "metadata": {}
  },
  {
   "cell_type": "code",
   "execution_count": 2,
   "source": [
    "#Transforms from https://pytorch.org/tutorials/beginner/blitz/cifar10_tutorial.html\n",
    "\n",
    "transform = transforms.Compose(\n",
    "    [transforms.ToTensor(),\n",
    "     transforms.Normalize((0.5, 0.5, 0.5), (0.5, 0.5, 0.5))])\n",
    "\n",
    "train_dataset = torchvision.datasets.CIFAR10(root='./data', train=True, transform=transform, download=True)\n",
    "test_dataset = torchvision.datasets.CIFAR10(root='./data', train=False, transform=transform, download=True)\n",
    "train_dataset,validation_dataset = random_split(train_dataset,[round(0.9 * len(train_dataset)), round(0.1 * len(train_dataset))])"
   ],
   "outputs": [
    {
     "output_type": "stream",
     "name": "stdout",
     "text": [
      "Files already downloaded and verified\n",
      "Files already downloaded and verified\n"
     ]
    }
   ],
   "metadata": {}
  },
  {
   "cell_type": "code",
   "execution_count": 3,
   "source": [
    "BATCH_SIZE = 128\n",
    "SHUFFLE = True\n",
    "train_loader = DataLoader(train_dataset, batch_size=BATCH_SIZE, num_workers=4, shuffle=SHUFFLE)\n",
    "test_loader = DataLoader(test_dataset, batch_size=BATCH_SIZE, num_workers=4, shuffle=SHUFFLE)\n",
    "val_loader = DataLoader(validation_dataset, batch_size=BATCH_SIZE, num_workers=4, shuffle=SHUFFLE)\n"
   ],
   "outputs": [],
   "metadata": {}
  },
  {
   "cell_type": "markdown",
   "source": [
    "## Visualizing Data"
   ],
   "metadata": {}
  },
  {
   "cell_type": "code",
   "execution_count": 4,
   "source": [
    "cifar_label = {0:'airplane',\n",
    "         1: 'automobile',\n",
    "         2: 'bird',\n",
    "         3: 'cat',\n",
    "         4: 'deer',\n",
    "         5: 'dog',\n",
    "         6: 'frog',\n",
    "         7: 'horse',\n",
    "         8: 'ship',\n",
    "         9: 'truck'}"
   ],
   "outputs": [],
   "metadata": {}
  },
  {
   "cell_type": "code",
   "execution_count": 5,
   "source": [
    "fig, ax = plt.subplots(1, 8)\n",
    "fig.set_size_inches(30, 4)\n",
    "datait = iter(train_loader)\n",
    "for i in range(8):\n",
    "    img, lbl = datait.next()\n",
    "    idx = np.random.random_integers(0,img.shape[0])\n",
    "    img_disp = img[idx].permute(1, 2, 0)\n",
    "    ax[i].imshow(img_disp)\n",
    "    ax[i].axis(\"off\")\n",
    "    ax[i].set_title(f\"{cifar_label[lbl[idx].item()]}\")\n",
    "\n",
    "plt.tight_layout()\n",
    "plt.show()\n"
   ],
   "outputs": [
    {
     "output_type": "stream",
     "name": "stderr",
     "text": [
      "/home/dhagash/anaconda3/envs/dl/lib/python3.7/site-packages/ipykernel_launcher.py:6: DeprecationWarning: This function is deprecated. Please call randint(0, 128 + 1) instead\n",
      "  \n",
      "Clipping input data to the valid range for imshow with RGB data ([0..1] for floats or [0..255] for integers).\n",
      "Clipping input data to the valid range for imshow with RGB data ([0..1] for floats or [0..255] for integers).\n",
      "Clipping input data to the valid range for imshow with RGB data ([0..1] for floats or [0..255] for integers).\n",
      "Clipping input data to the valid range for imshow with RGB data ([0..1] for floats or [0..255] for integers).\n",
      "Clipping input data to the valid range for imshow with RGB data ([0..1] for floats or [0..255] for integers).\n",
      "Clipping input data to the valid range for imshow with RGB data ([0..1] for floats or [0..255] for integers).\n",
      "Clipping input data to the valid range for imshow with RGB data ([0..1] for floats or [0..255] for integers).\n",
      "Clipping input data to the valid range for imshow with RGB data ([0..1] for floats or [0..255] for integers).\n"
     ]
    },
    {
     "output_type": "display_data",
     "data": {
      "image/png": "[encoded data removed]",
      "text/plain": [
       "<Figure size 2160x288 with 8 Axes>"
      ]
     },
     "metadata": {
      "needs_background": "light"
     }
    }
   ],
   "metadata": {}
  },
  {
   "cell_type": "markdown",
   "source": [
    "# Model"
   ],
   "metadata": {}
  },
  {
   "cell_type": "code",
   "execution_count": 6,
   "source": [
    "class SCNN(nn.Module):\n",
    "    def __init__(self, activation: str, batch_norm: str, dropout: bool) -> None:\n",
    "        super().__init__()\n",
    "\n",
    "        #BASE MODEL\n",
    "     \n",
    "        #VGG Style architecture\n",
    "\n",
    "        #Conv Block 1\n",
    "        #(Nx3x32x32) -> (Nx32x16x16)\n",
    "        conv1_1 = nn.Conv2d(in_channels=3, out_channels=32,\n",
    "                          kernel_size=3, padding=1)\n",
    "        conv1_2 = nn.Conv2d(in_channels=32, out_channels=32,\n",
    "                          kernel_size=3, padding=1)\n",
    "        pool1 = nn.MaxPool2d(kernel_size=2, stride=2)\n",
    "\n",
    "        #Conv Block 2\n",
    "        #(Nx32x16x16) -> (Nx64x8x8)\n",
    "        conv2_1 = nn.Conv2d(in_channels=32, out_channels=64,\n",
    "                            kernel_size=3, padding=1)\n",
    "        conv2_2 = nn.Conv2d(in_channels=64, out_channels=64,\n",
    "                            kernel_size=3, padding=1)\n",
    "        pool2 = nn.MaxPool2d(kernel_size=2, stride=2)\n",
    "\n",
    "        #Conv Block 3\n",
    "        #(Nx64x8x8) -> (Nx128x4x4)\n",
    "        conv3_1 = nn.Conv2d(in_channels=64, out_channels=128,\n",
    "                            kernel_size=3, padding=1)\n",
    "        conv3_2 = nn.Conv2d(in_channels=128, out_channels=128,\n",
    "                            kernel_size=3, padding=1)\n",
    "        pool3 = nn.MaxPool2d(kernel_size=2, stride=2)\n",
    "        \n",
    "        in_dim = 128*4*4\n",
    "        fc1 = nn.Linear(in_dim,128)\n",
    "        fc2 = nn.Linear(128,10)\n",
    "\n",
    "        activation_layer = None\n",
    "        dropout_layer = None\n",
    "        if activation == 'relu':\n",
    "            activation_layer = nn.ReLU()\n",
    "        elif activation == 'lrelu':\n",
    "            activation_layer = nn.LeakyReLU()\n",
    "        else:\n",
    "            if activation == 'elu':\n",
    "                activation_layer = nn.ELU()\n",
    "\n",
    "\n",
    "        self.conv_net = nn.Sequential(conv1_1,\n",
    "                                      activation_layer,\n",
    "                                      conv1_2,\n",
    "                                      activation_layer,\n",
    "                                      pool1,\n",
    "                                      conv2_1,\n",
    "                                      activation_layer,\n",
    "                                      conv2_2,\n",
    "                                      activation_layer,\n",
    "                                      pool2,\n",
    "                                      conv3_1,\n",
    "                                      activation_layer,\n",
    "                                      conv3_2,\n",
    "                                      activation_layer,\n",
    "                                      pool3,\n",
    "                                      nn.Flatten(start_dim=1),\n",
    "                                      fc1,\n",
    "                                      fc2)\n",
    "\n",
    "        if batch_norm == 'bnorm':\n",
    "            bnorm1_1 = nn.BatchNorm2d(32)\n",
    "            bnorm1_2 = nn.BatchNorm2d(32)\n",
    "            bnorm2_1 = nn.BatchNorm2d(64)\n",
    "            bnorm2_2 = nn.BatchNorm2d(64)\n",
    "            bnorm3_1 = nn.BatchNorm2d(128)\n",
    "            bnorm3_2 = nn.BatchNorm2d(128)\n",
    "\n",
    "            self.conv_net = nn.Sequential(conv1_1,\n",
    "                                          bnorm1_1,\n",
    "                                          activation_layer,\n",
    "                                          conv1_2,\n",
    "                                          bnorm1_2,\n",
    "                                          activation_layer,\n",
    "                                          pool1,\n",
    "                                          conv2_1,\n",
    "                                          bnorm2_1,\n",
    "                                          activation_layer,\n",
    "                                          conv2_2,\n",
    "                                          bnorm2_2,\n",
    "                                          activation_layer,\n",
    "                                          pool2,\n",
    "                                          conv3_1,\n",
    "                                          bnorm3_1,\n",
    "                                          activation_layer,\n",
    "                                          conv3_2,\n",
    "                                          bnorm3_2,\n",
    "                                          activation_layer,\n",
    "                                          pool3,\n",
    "                                          nn.Flatten(start_dim=1),\n",
    "                                          fc1,\n",
    "                                          activation_layer,\n",
    "                                          fc2)\n",
    "        elif batch_norm == 'gnorm':\n",
    "\n",
    "            gnorm1_1 = nn.GroupNorm(8, 32)\n",
    "            gnorm1_2 = nn.GroupNorm(8, 32)\n",
    "            gnorm2_1 = nn.GroupNorm(8, 64)\n",
    "            gnorm2_2 = nn.GroupNorm(8, 64)\n",
    "            gnorm3_1 = nn.GroupNorm(8, 128)\n",
    "            gnorm3_2 = nn.GroupNorm(8, 128)\n",
    "\n",
    "            self.conv_net = nn.Sequential(conv1_1,\n",
    "                                          gnorm1_1,\n",
    "                                          activation_layer,\n",
    "                                          conv1_2,\n",
    "                                          gnorm1_2,\n",
    "                                          activation_layer,\n",
    "                                          pool1,\n",
    "                                          conv2_1,\n",
    "                                          gnorm2_1,\n",
    "                                          activation_layer,\n",
    "                                          conv2_2,\n",
    "                                          gnorm2_2,\n",
    "                                          activation_layer,\n",
    "                                          pool2,\n",
    "                                          conv3_1,\n",
    "                                          gnorm3_1,\n",
    "                                          activation_layer,\n",
    "                                          conv3_2,\n",
    "                                          gnorm3_2,\n",
    "                                          activation_layer,\n",
    "                                          pool3,\n",
    "                                          nn.Flatten(start_dim=1),\n",
    "                                          fc1,\n",
    "                                          activation_layer,\n",
    "                                          fc2)\n",
    "\n",
    "        else:\n",
    "            pass\n",
    "\n",
    "\n",
    "\n",
    "\n",
    "        #############################################################################################\n",
    "        #Add dropout in similar way, so one code for all\n",
    "        ###############################################################################################\n",
    "\n",
    "    def forward(self, x):\n",
    "        \n",
    "        \n",
    "        y = self.conv_net(x)\n",
    "\n",
    "        return y\n",
    "\n",
    "def count_model_params(model):\n",
    "    \"\"\" Counting the number of learnable parameters in a nn.Module \"\"\"\n",
    "    num_params = sum(p.numel() for p in model.parameters() if p.requires_grad)\n",
    "    return num_params"
   ],
   "outputs": [],
   "metadata": {}
  },
  {
   "cell_type": "code",
   "execution_count": 7,
   "source": [
    "cnn = SCNN(activation='elu',batch_norm='none',dropout=False)\n",
    "params = count_model_params(cnn)\n",
    "print(cnn)\n",
    "print(f\"Model has {params} learnable parameters\")\n"
   ],
   "outputs": [
    {
     "output_type": "stream",
     "name": "stdout",
     "text": [
      "SCNN(\n",
      "  (conv_net): Sequential(\n",
      "    (0): Conv2d(3, 32, kernel_size=(3, 3), stride=(1, 1), padding=(1, 1))\n",
      "    (1): ELU(alpha=1.0)\n",
      "    (2): Conv2d(32, 32, kernel_size=(3, 3), stride=(1, 1), padding=(1, 1))\n",
      "    (3): ELU(alpha=1.0)\n",
      "    (4): MaxPool2d(kernel_size=2, stride=2, padding=0, dilation=1, ceil_mode=False)\n",
      "    (5): Conv2d(32, 64, kernel_size=(3, 3), stride=(1, 1), padding=(1, 1))\n",
      "    (6): ELU(alpha=1.0)\n",
      "    (7): Conv2d(64, 64, kernel_size=(3, 3), stride=(1, 1), padding=(1, 1))\n",
      "    (8): ELU(alpha=1.0)\n",
      "    (9): MaxPool2d(kernel_size=2, stride=2, padding=0, dilation=1, ceil_mode=False)\n",
      "    (10): Conv2d(64, 128, kernel_size=(3, 3), stride=(1, 1), padding=(1, 1))\n",
      "    (11): ELU(alpha=1.0)\n",
      "    (12): Conv2d(128, 128, kernel_size=(3, 3), stride=(1, 1), padding=(1, 1))\n",
      "    (13): ELU(alpha=1.0)\n",
      "    (14): MaxPool2d(kernel_size=2, stride=2, padding=0, dilation=1, ceil_mode=False)\n",
      "    (15): Flatten(start_dim=1, end_dim=-1)\n",
      "    (16): Linear(in_features=2048, out_features=128, bias=True)\n",
      "    (17): Linear(in_features=128, out_features=10, bias=True)\n",
      "  )\n",
      ")\n",
      "Model has 550570 learnable parameters\n"
     ]
    }
   ],
   "metadata": {}
  },
  {
   "cell_type": "markdown",
   "source": [
    "# Training"
   ],
   "metadata": {}
  },
  {
   "cell_type": "markdown",
   "source": [
    "## Parameters for training"
   ],
   "metadata": {}
  },
  {
   "cell_type": "code",
   "execution_count": 8,
   "source": [
    "LR = 3e-4\n",
    "EPOCHS = 50\n",
    "EVAL_FREQ = 1\n",
    "SAVE_FREQ = 10\n",
    "val_acc = 0.0"
   ],
   "outputs": [],
   "metadata": {}
  },
  {
   "cell_type": "code",
   "execution_count": 9,
   "source": [
    "stats = {\n",
    "    \"epoch\": [],\n",
    "    \"train_loss\": [],\n",
    "    \"valid_loss\": [],\n",
    "    \"accuracy\": []\n",
    "}\n",
    "init_epoch = 0"
   ],
   "outputs": [],
   "metadata": {}
  },
  {
   "cell_type": "code",
   "execution_count": 10,
   "source": [
    "device = torch.device(\"cuda\" if torch.cuda.is_available() else \"cpu\")\n",
    "\n",
    "cnn = cnn.to(device)"
   ],
   "outputs": [],
   "metadata": {}
  },
  {
   "cell_type": "code",
   "execution_count": 11,
   "source": [
    "criterion = nn.CrossEntropyLoss().to(device)\n",
    "optimizer = torch.optim.Adam(params=cnn.parameters(), lr=LR)"
   ],
   "outputs": [],
   "metadata": {}
  },
  {
   "cell_type": "code",
   "execution_count": 12,
   "source": [
    "@torch.no_grad()\n",
    "def eval_model(model):\n",
    "    correct = 0\n",
    "    total = 0\n",
    "    loss_list = []\n",
    "\n",
    "    for images, labels in val_loader:\n",
    "        images = images.to(device)\n",
    "        labels = labels.to(device)\n",
    "\n",
    "        # Forward pass only to get logits/output\n",
    "        outputs = model(images)\n",
    "\n",
    "        loss = criterion(outputs, labels)\n",
    "        loss_list.append(loss.item())\n",
    "\n",
    "        # Get predictions from the maximum value\n",
    "        preds = torch.argmax(outputs, dim=1)\n",
    "        correct += len(torch.where(preds == labels)[0])\n",
    "        total += len(labels)\n",
    "\n",
    "    # Total correct predictions and loss\n",
    "    accuracy = correct / total * 100\n",
    "    loss = np.mean(loss_list)\n",
    "    return accuracy, loss\n",
    "\n",
    "\n",
    "def save_model(model, optimizer, epoch, stats, val, time):\n",
    "    \"\"\" Saving model checkpoint \"\"\"\n",
    "    if(not os.path.exists(\"models\")):\n",
    "        os.makedirs(\"models\")\n",
    "    if (val):\n",
    "\n",
    "        savepath = f\"models/best_val_{stats['model']}.pth\"\n",
    "\n",
    "        torch.save({\n",
    "            'time': time,\n",
    "            'epoch': epoch,\n",
    "            'model_state_dict': model.state_dict(),\n",
    "            'optimizer_state_dict': optimizer.state_dict(),\n",
    "            'stats': stats\n",
    "        }, savepath)\n",
    "        \n",
    "    else:\n",
    "\n",
    "        savepath = f\"models/{stats['model']}_checkpoint_epoch_{epoch}.pth\"\n",
    "\n",
    "        torch.save({\n",
    "            'time': time,\n",
    "            'epoch': epoch,\n",
    "            'model_state_dict': model.state_dict(),\n",
    "            'optimizer_state_dict': optimizer.state_dict(),\n",
    "            'stats': stats\n",
    "        }, savepath)\n",
    "\n",
    "    return\n",
    "\n",
    "\n",
    "def load_model(model, optimizer, savepath):\n",
    "    \"\"\" Loading pretrained checkpoint \"\"\"\n",
    "\n",
    "    checkpoint = torch.load(savepath)\n",
    "    model.load_state_dict(checkpoint['model_state_dict'])\n",
    "    optimizer.load_state_dict(checkpoint['optimizer_state_dict'])\n",
    "    epoch = checkpoint[\"epoch\"]\n",
    "    stats = checkpoint[\"stats\"]\n",
    "    time = checkpoint[\"time\"]\n",
    "\n",
    "    return model, optimizer, epoch, stats,time\n",
    "\n",
    "\n",
    "def test_model(model):\n",
    "\n",
    "    correct = 0\n",
    "    total = 0\n",
    "\n",
    "    for images, labels in test_loader:\n",
    "        images = images.to(device)\n",
    "        labels = labels.to(device)\n",
    "\n",
    "        # Forward pass only to get logits/output\n",
    "        outputs = model(images)\n",
    "\n",
    "        # Get predictions from the maximum value\n",
    "        preds = torch.argmax(outputs, dim=1)\n",
    "        correct += len(torch.where(preds == labels)[0])\n",
    "        total += len(labels)\n",
    "\n",
    "    # Total correct predictions and loss\n",
    "    accuracy = correct / total * 100\n",
    "    \n",
    "    return accuracy"
   ],
   "outputs": [],
   "metadata": {}
  },
  {
   "cell_type": "code",
   "execution_count": 13,
   "source": [
    "loss_hist = []\n",
    "stats['model'] = 'scnn_elu'\n",
    "stats['parameters'] = params\n",
    "start = time.perf_counter()\n",
    "for epoch in range(EPOCHS):\n",
    "    progress_bar = tqdm(enumerate(train_loader), total=len(train_loader))\n",
    "    for i,(images,labels) in progress_bar:\n",
    "\n",
    "        loss_list = []\n",
    "\n",
    "        x = images.to(device)\n",
    "        y_train = labels.to(device)\n",
    "        # Clear gradients w.r.t. parameters\n",
    "        optimizer.zero_grad()\n",
    "\n",
    "        # Forward pass to get output/logits\n",
    "        outputs = cnn(x)\n",
    "\n",
    "        # Calculate Loss: softmax --> cross entropy loss\n",
    "        loss = criterion(outputs, y_train)\n",
    "\n",
    "        # Getting gradients w.r.t. parameters\n",
    "        loss.backward()\n",
    "        loss_list.append(loss.item())\n",
    "\n",
    "        # Updating parameters\n",
    "        optimizer.step()\n",
    "        progress_bar.set_description(f\"Epoch {epoch+1} Iter {i+1}: loss {loss.item():.5f}. \")\n",
    "    \n",
    "    loss_hist.append(np.mean(loss_list))\n",
    "    stats[\"epoch\"].append(epoch)\n",
    "    stats[\"train_loss\"].append(loss_hist[-1])\n",
    "    \n",
    "\n",
    "    if epoch % EVAL_FREQ == 0:\n",
    "        accuracy, valid_loss = eval_model(cnn)\n",
    "        print(f\"Accuracy at epoch {epoch}: {round(accuracy, 2)}%\")\n",
    "    else:\n",
    "        accuracy, valid_loss = -1, -1\n",
    "    \n",
    "    stats[\"accuracy\"].append(accuracy)\n",
    "    stats[\"valid_loss\"].append(valid_loss)\n",
    "\n",
    "\n",
    "    #Saving best validation model\n",
    "    if accuracy > val_acc:\n",
    "        print(f\"Best val model {epoch}\")\n",
    "        val_acc = accuracy\n",
    "        save_model(model=cnn, optimizer=optimizer,\n",
    "                   epoch=epoch, stats=stats, val=True, time = -1)\n",
    "\n",
    "\n",
    "    if epoch % SAVE_FREQ == 0:\n",
    "        save_model(model=cnn, optimizer=optimizer, epoch=epoch, stats=stats,val = False,time= -1)\n",
    "\n",
    "end = time.perf_counter()\n",
    "time = end - start\n",
    "save_model(model=cnn, optimizer=optimizer, epoch=epoch, stats=stats, val=False, time= time)\n"
   ],
   "outputs": [
    {
     "output_type": "stream",
     "name": "stderr",
     "text": [
      "Epoch 1 Iter 352: loss 1.30979. : 100%|██████████| 352/352 [00:04<00:00, 84.25it/s]\n"
     ]
    },
    {
     "output_type": "stream",
     "name": "stdout",
     "text": [
      "Accuracy at epoch 0: 52.86%\n",
      "Best val model 0\n"
     ]
    },
    {
     "output_type": "stream",
     "name": "stderr",
     "text": [
      "Epoch 2 Iter 352: loss 1.06966. : 100%|██████████| 352/352 [00:03<00:00, 92.81it/s]\n"
     ]
    },
    {
     "output_type": "stream",
     "name": "stdout",
     "text": [
      "Accuracy at epoch 1: 61.54%\n",
      "Best val model 1\n"
     ]
    },
    {
     "output_type": "stream",
     "name": "stderr",
     "text": [
      "Epoch 3 Iter 352: loss 0.88612. : 100%|██████████| 352/352 [00:03<00:00, 90.27it/s]\n"
     ]
    },
    {
     "output_type": "stream",
     "name": "stdout",
     "text": [
      "Accuracy at epoch 2: 67.2%\n",
      "Best val model 2\n"
     ]
    },
    {
     "output_type": "stream",
     "name": "stderr",
     "text": [
      "Epoch 4 Iter 352: loss 1.28971. : 100%|██████████| 352/352 [00:04<00:00, 87.84it/s]\n"
     ]
    },
    {
     "output_type": "stream",
     "name": "stdout",
     "text": [
      "Accuracy at epoch 3: 69.1%\n",
      "Best val model 3\n"
     ]
    },
    {
     "output_type": "stream",
     "name": "stderr",
     "text": [
      "Epoch 5 Iter 352: loss 0.57277. : 100%|██████████| 352/352 [00:03<00:00, 95.31it/s]\n"
     ]
    },
    {
     "output_type": "stream",
     "name": "stdout",
     "text": [
      "Accuracy at epoch 4: 72.06%\n",
      "Best val model 4\n"
     ]
    },
    {
     "output_type": "stream",
     "name": "stderr",
     "text": [
      "Epoch 6 Iter 352: loss 0.79132. : 100%|██████████| 352/352 [00:03<00:00, 89.22it/s]\n"
     ]
    },
    {
     "output_type": "stream",
     "name": "stdout",
     "text": [
      "Accuracy at epoch 5: 72.56%\n",
      "Best val model 5\n"
     ]
    },
    {
     "output_type": "stream",
     "name": "stderr",
     "text": [
      "Epoch 7 Iter 352: loss 0.78452. : 100%|██████████| 352/352 [00:03<00:00, 89.06it/s]\n"
     ]
    },
    {
     "output_type": "stream",
     "name": "stdout",
     "text": [
      "Accuracy at epoch 6: 73.88%\n",
      "Best val model 6\n"
     ]
    },
    {
     "output_type": "stream",
     "name": "stderr",
     "text": [
      "Epoch 8 Iter 352: loss 0.43067. : 100%|██████████| 352/352 [00:03<00:00, 94.36it/s]\n"
     ]
    },
    {
     "output_type": "stream",
     "name": "stdout",
     "text": [
      "Accuracy at epoch 7: 75.54%\n",
      "Best val model 7\n"
     ]
    },
    {
     "output_type": "stream",
     "name": "stderr",
     "text": [
      "Epoch 9 Iter 352: loss 0.54936. : 100%|██████████| 352/352 [00:03<00:00, 88.57it/s]\n"
     ]
    },
    {
     "output_type": "stream",
     "name": "stdout",
     "text": [
      "Accuracy at epoch 8: 75.8%\n",
      "Best val model 8\n"
     ]
    },
    {
     "output_type": "stream",
     "name": "stderr",
     "text": [
      "Epoch 10 Iter 352: loss 0.44817. : 100%|██████████| 352/352 [00:03<00:00, 97.44it/s] \n"
     ]
    },
    {
     "output_type": "stream",
     "name": "stdout",
     "text": [
      "Accuracy at epoch 9: 75.74%\n"
     ]
    },
    {
     "output_type": "stream",
     "name": "stderr",
     "text": [
      "Epoch 11 Iter 352: loss 0.32074. : 100%|██████████| 352/352 [00:03<00:00, 94.00it/s]\n"
     ]
    },
    {
     "output_type": "stream",
     "name": "stdout",
     "text": [
      "Accuracy at epoch 10: 75.7%\n"
     ]
    },
    {
     "output_type": "stream",
     "name": "stderr",
     "text": [
      "Epoch 12 Iter 352: loss 0.34366. : 100%|██████████| 352/352 [00:03<00:00, 94.34it/s]\n"
     ]
    },
    {
     "output_type": "stream",
     "name": "stdout",
     "text": [
      "Accuracy at epoch 11: 76.24%\n",
      "Best val model 11\n"
     ]
    },
    {
     "output_type": "stream",
     "name": "stderr",
     "text": [
      "Epoch 13 Iter 352: loss 0.49488. : 100%|██████████| 352/352 [00:03<00:00, 94.79it/s]\n"
     ]
    },
    {
     "output_type": "stream",
     "name": "stdout",
     "text": [
      "Accuracy at epoch 12: 75.6%\n"
     ]
    },
    {
     "output_type": "stream",
     "name": "stderr",
     "text": [
      "Epoch 14 Iter 352: loss 0.39399. : 100%|██████████| 352/352 [00:03<00:00, 96.23it/s]\n"
     ]
    },
    {
     "output_type": "stream",
     "name": "stdout",
     "text": [
      "Accuracy at epoch 13: 76.74%\n",
      "Best val model 13\n"
     ]
    },
    {
     "output_type": "stream",
     "name": "stderr",
     "text": [
      "Epoch 15 Iter 352: loss 0.20610. : 100%|██████████| 352/352 [00:03<00:00, 91.65it/s]\n"
     ]
    },
    {
     "output_type": "stream",
     "name": "stdout",
     "text": [
      "Accuracy at epoch 14: 76.04%\n"
     ]
    },
    {
     "output_type": "stream",
     "name": "stderr",
     "text": [
      "Epoch 16 Iter 352: loss 0.17233. : 100%|██████████| 352/352 [00:03<00:00, 94.83it/s]\n"
     ]
    },
    {
     "output_type": "stream",
     "name": "stdout",
     "text": [
      "Accuracy at epoch 15: 75.2%\n"
     ]
    },
    {
     "output_type": "stream",
     "name": "stderr",
     "text": [
      "Epoch 17 Iter 352: loss 0.08826. : 100%|██████████| 352/352 [00:03<00:00, 91.34it/s]\n"
     ]
    },
    {
     "output_type": "stream",
     "name": "stdout",
     "text": [
      "Accuracy at epoch 16: 75.84%\n"
     ]
    },
    {
     "output_type": "stream",
     "name": "stderr",
     "text": [
      "Epoch 18 Iter 352: loss 0.09536. : 100%|██████████| 352/352 [00:03<00:00, 95.19it/s]\n"
     ]
    },
    {
     "output_type": "stream",
     "name": "stdout",
     "text": [
      "Accuracy at epoch 17: 74.76%\n"
     ]
    },
    {
     "output_type": "stream",
     "name": "stderr",
     "text": [
      "Epoch 19 Iter 352: loss 0.28970. : 100%|██████████| 352/352 [00:03<00:00, 96.14it/s]\n"
     ]
    },
    {
     "output_type": "stream",
     "name": "stdout",
     "text": [
      "Accuracy at epoch 18: 75.28%\n"
     ]
    },
    {
     "output_type": "stream",
     "name": "stderr",
     "text": [
      "Epoch 20 Iter 352: loss 0.05257. : 100%|██████████| 352/352 [00:03<00:00, 95.17it/s]\n"
     ]
    },
    {
     "output_type": "stream",
     "name": "stdout",
     "text": [
      "Accuracy at epoch 19: 75.56%\n"
     ]
    },
    {
     "output_type": "stream",
     "name": "stderr",
     "text": [
      "Epoch 21 Iter 352: loss 0.02440. : 100%|██████████| 352/352 [00:03<00:00, 93.63it/s]\n"
     ]
    },
    {
     "output_type": "stream",
     "name": "stdout",
     "text": [
      "Accuracy at epoch 20: 75.6%\n"
     ]
    },
    {
     "output_type": "stream",
     "name": "stderr",
     "text": [
      "Epoch 22 Iter 352: loss 0.03108. : 100%|██████████| 352/352 [00:03<00:00, 95.46it/s]\n"
     ]
    },
    {
     "output_type": "stream",
     "name": "stdout",
     "text": [
      "Accuracy at epoch 21: 76.3%\n"
     ]
    },
    {
     "output_type": "stream",
     "name": "stderr",
     "text": [
      "Epoch 23 Iter 352: loss 0.11361. : 100%|██████████| 352/352 [00:03<00:00, 94.45it/s]\n"
     ]
    },
    {
     "output_type": "stream",
     "name": "stdout",
     "text": [
      "Accuracy at epoch 22: 75.46%\n"
     ]
    },
    {
     "output_type": "stream",
     "name": "stderr",
     "text": [
      "Epoch 24 Iter 352: loss 0.17053. : 100%|██████████| 352/352 [00:03<00:00, 93.59it/s]\n"
     ]
    },
    {
     "output_type": "stream",
     "name": "stdout",
     "text": [
      "Accuracy at epoch 23: 74.3%\n"
     ]
    },
    {
     "output_type": "stream",
     "name": "stderr",
     "text": [
      "Epoch 25 Iter 216: loss 0.06885. :  60%|█████▉    | 210/352 [00:02<00:01, 97.80it/s]"
     ]
    }
   ],
   "metadata": {}
  },
  {
   "cell_type": "markdown",
   "source": [
    "# Testing"
   ],
   "metadata": {}
  },
  {
   "cell_type": "code",
   "execution_count": null,
   "source": [
    "savepath = os.path.join(os.getcwd(), \"models/\", \"best_val_scnn_elu.pth\")\n"
   ],
   "outputs": [],
   "metadata": {}
  },
  {
   "cell_type": "code",
   "execution_count": null,
   "source": [
    "cnn_test = SCNN(activation='elu',batch_norm='none',dropout=False)\n",
    "device = torch.device(\"cuda\" if torch.cuda.is_available() else \"cpu\")\n",
    "cnn_test = cnn_test.to(device)\n",
    "criterion = nn.CrossEntropyLoss().to(device)\n",
    "optimizer = torch.optim.Adam(params=cnn.parameters(), lr=LR)"
   ],
   "outputs": [],
   "metadata": {}
  },
  {
   "cell_type": "code",
   "execution_count": null,
   "source": [
    "model_elu,optimizer_elu,epoch_elu,stats_elu,time_elu = load_model(model=cnn_test,optimizer=optimizer,savepath=savepath)"
   ],
   "outputs": [],
   "metadata": {}
  },
  {
   "cell_type": "code",
   "execution_count": null,
   "source": [
    "acc = test_model(model_elu)\n",
    "print(acc)"
   ],
   "outputs": [
    {
     "output_type": "stream",
     "name": "stdout",
     "text": [
      "75.61\n",
      "49\n",
      "208.49137637901003\n"
     ]
    }
   ],
   "metadata": {}
  },
  {
   "cell_type": "markdown",
   "source": [
    "# Comparision"
   ],
   "metadata": {}
  },
  {
   "cell_type": "markdown",
   "source": [
    "## Training Time,Accuracy & Parameters"
   ],
   "metadata": {}
  },
  {
   "cell_type": "markdown",
   "source": [
    "**Evaluated on best validation model exception time which is for 50 epochs**\n",
    "\n",
    "$$\n",
    "\\begin{aligned}\n",
    "& \\text {Comparision of accuracy,parameters and training time of different models}\\\\\n",
    "&\\begin{array}{llccc}\n",
    "\\hline \\text { Models } & \\text {Activation} & \\text {Accuracy} & \\text {Training Time} & \\text {Parameters}  \\\\\n",
    "\\hline \\text {BaseModel}       & \\text{ReLU}             & 73.06          & 302.558                & 550570   \\\\\n",
    "\\text{BaseModel}                      & \\text{LeakyReLU} & 76.67          & 208.491                & 550570   \\\\\n",
    "\\text{BaseModel}                      & \\text{ELU}       & 75.51          & 208.947                & 550570   \\\\ \n",
    "\\text{BaseModel w/ Dropout}           & \\text{ReLU}      & \\textbf{81.84} & 1037.688               & 550570   \\\\\n",
    "\\text{BaseModel w/ Batch-Norm}        & \\text{ReLU}      & 78.11          & \\textbf{173.929}       & 551466   \\\\\n",
    "\\text{BaseModel w/ Group-Norm}        & \\text{ReLU}      & 77.6           & 233.996                & 551466   \\\\\n",
    "\\hline\n",
    "\\end{array}\n",
    "\\end{aligned}\n",
    "$$"
   ],
   "metadata": {}
  },
  {
   "cell_type": "markdown",
   "source": [
    "- Droupout, Batch Norm are methods for reguralization and we can see improvement in accuracy\n",
    "- Same behaviour is seen in activation as LeakyRelu and ELU improves over some disadvantages of ReLU improvement is seen in accuracy"
   ],
   "metadata": {}
  },
  {
   "cell_type": "markdown",
   "source": [
    "## Generalization"
   ],
   "metadata": {}
  },
  {
   "cell_type": "markdown",
   "source": [
    "- Plots for different training and validation loss\n",
    "- "
   ],
   "metadata": {}
  },
  {
   "cell_type": "code",
   "execution_count": null,
   "source": [],
   "outputs": [],
   "metadata": {}
  },
  {
   "cell_type": "markdown",
   "source": [
    "# Activation Visualization"
   ],
   "metadata": {}
  },
  {
   "cell_type": "code",
   "execution_count": null,
   "source": [
    "savepath = os.path.join(os.getcwd(), \"models\", \"best_val_scnn_relu.pth\")\n",
    "model,optimizer,epoch,stats= load_model(model=cnn,optimizer=optimizer,savepath=savepath)"
   ],
   "outputs": [
    {
     "output_type": "error",
     "ename": "FileNotFoundError",
     "evalue": "[Errno 2] No such file or directory: '/home/dhagash/MS-GE-03/CudaVision/assignment-3/models/best_val_scnn_relu.pth'",
     "traceback": [
      "\u001b[0;31m---------------------------------------------------------------------------\u001b[0m",
      "\u001b[0;31mFileNotFoundError\u001b[0m                         Traceback (most recent call last)",
      "\u001b[0;32m<ipython-input-18-64bfc2a918a1>\u001b[0m in \u001b[0;36m<module>\u001b[0;34m\u001b[0m\n\u001b[1;32m      1\u001b[0m \u001b[0msavepath\u001b[0m \u001b[0;34m=\u001b[0m \u001b[0mos\u001b[0m\u001b[0;34m.\u001b[0m\u001b[0mpath\u001b[0m\u001b[0;34m.\u001b[0m\u001b[0mjoin\u001b[0m\u001b[0;34m(\u001b[0m\u001b[0mos\u001b[0m\u001b[0;34m.\u001b[0m\u001b[0mgetcwd\u001b[0m\u001b[0;34m(\u001b[0m\u001b[0;34m)\u001b[0m\u001b[0;34m,\u001b[0m \u001b[0;34m\"models\"\u001b[0m\u001b[0;34m,\u001b[0m \u001b[0;34m\"best_val_scnn_relu.pth\"\u001b[0m\u001b[0;34m)\u001b[0m\u001b[0;34m\u001b[0m\u001b[0;34m\u001b[0m\u001b[0m\n\u001b[0;32m----> 2\u001b[0;31m \u001b[0mmodel\u001b[0m\u001b[0;34m,\u001b[0m\u001b[0moptimizer\u001b[0m\u001b[0;34m,\u001b[0m\u001b[0mepoch\u001b[0m\u001b[0;34m,\u001b[0m\u001b[0mstats\u001b[0m\u001b[0;34m=\u001b[0m \u001b[0mload_model\u001b[0m\u001b[0;34m(\u001b[0m\u001b[0mmodel\u001b[0m\u001b[0;34m=\u001b[0m\u001b[0mcnn\u001b[0m\u001b[0;34m,\u001b[0m\u001b[0moptimizer\u001b[0m\u001b[0;34m=\u001b[0m\u001b[0moptimizer\u001b[0m\u001b[0;34m,\u001b[0m\u001b[0msavepath\u001b[0m\u001b[0;34m=\u001b[0m\u001b[0msavepath\u001b[0m\u001b[0;34m)\u001b[0m\u001b[0;34m\u001b[0m\u001b[0;34m\u001b[0m\u001b[0m\n\u001b[0m",
      "\u001b[0;32m<ipython-input-12-f8a8d61a0583>\u001b[0m in \u001b[0;36mload_model\u001b[0;34m(model, optimizer, savepath)\u001b[0m\n\u001b[1;32m     60\u001b[0m     \u001b[0;34m\"\"\" Loading pretrained checkpoint \"\"\"\u001b[0m\u001b[0;34m\u001b[0m\u001b[0;34m\u001b[0m\u001b[0m\n\u001b[1;32m     61\u001b[0m \u001b[0;34m\u001b[0m\u001b[0m\n\u001b[0;32m---> 62\u001b[0;31m     \u001b[0mcheckpoint\u001b[0m \u001b[0;34m=\u001b[0m \u001b[0mtorch\u001b[0m\u001b[0;34m.\u001b[0m\u001b[0mload\u001b[0m\u001b[0;34m(\u001b[0m\u001b[0msavepath\u001b[0m\u001b[0;34m)\u001b[0m\u001b[0;34m\u001b[0m\u001b[0;34m\u001b[0m\u001b[0m\n\u001b[0m\u001b[1;32m     63\u001b[0m     \u001b[0mmodel\u001b[0m\u001b[0;34m.\u001b[0m\u001b[0mload_state_dict\u001b[0m\u001b[0;34m(\u001b[0m\u001b[0mcheckpoint\u001b[0m\u001b[0;34m[\u001b[0m\u001b[0;34m'model_state_dict'\u001b[0m\u001b[0;34m]\u001b[0m\u001b[0;34m)\u001b[0m\u001b[0;34m\u001b[0m\u001b[0;34m\u001b[0m\u001b[0m\n\u001b[1;32m     64\u001b[0m     \u001b[0moptimizer\u001b[0m\u001b[0;34m.\u001b[0m\u001b[0mload_state_dict\u001b[0m\u001b[0;34m(\u001b[0m\u001b[0mcheckpoint\u001b[0m\u001b[0;34m[\u001b[0m\u001b[0;34m'optimizer_state_dict'\u001b[0m\u001b[0;34m]\u001b[0m\u001b[0;34m)\u001b[0m\u001b[0;34m\u001b[0m\u001b[0;34m\u001b[0m\u001b[0m\n",
      "\u001b[0;32m~/anaconda3/envs/dl/lib/python3.7/site-packages/torch/serialization.py\u001b[0m in \u001b[0;36mload\u001b[0;34m(f, map_location, pickle_module, **pickle_load_args)\u001b[0m\n\u001b[1;32m    577\u001b[0m         \u001b[0mpickle_load_args\u001b[0m\u001b[0;34m[\u001b[0m\u001b[0;34m'encoding'\u001b[0m\u001b[0;34m]\u001b[0m \u001b[0;34m=\u001b[0m \u001b[0;34m'utf-8'\u001b[0m\u001b[0;34m\u001b[0m\u001b[0;34m\u001b[0m\u001b[0m\n\u001b[1;32m    578\u001b[0m \u001b[0;34m\u001b[0m\u001b[0m\n\u001b[0;32m--> 579\u001b[0;31m     \u001b[0;32mwith\u001b[0m \u001b[0m_open_file_like\u001b[0m\u001b[0;34m(\u001b[0m\u001b[0mf\u001b[0m\u001b[0;34m,\u001b[0m \u001b[0;34m'rb'\u001b[0m\u001b[0;34m)\u001b[0m \u001b[0;32mas\u001b[0m \u001b[0mopened_file\u001b[0m\u001b[0;34m:\u001b[0m\u001b[0;34m\u001b[0m\u001b[0;34m\u001b[0m\u001b[0m\n\u001b[0m\u001b[1;32m    580\u001b[0m         \u001b[0;32mif\u001b[0m \u001b[0m_is_zipfile\u001b[0m\u001b[0;34m(\u001b[0m\u001b[0mopened_file\u001b[0m\u001b[0;34m)\u001b[0m\u001b[0;34m:\u001b[0m\u001b[0;34m\u001b[0m\u001b[0;34m\u001b[0m\u001b[0m\n\u001b[1;32m    581\u001b[0m             \u001b[0;31m# The zipfile reader is going to advance the current file position.\u001b[0m\u001b[0;34m\u001b[0m\u001b[0;34m\u001b[0m\u001b[0;34m\u001b[0m\u001b[0m\n",
      "\u001b[0;32m~/anaconda3/envs/dl/lib/python3.7/site-packages/torch/serialization.py\u001b[0m in \u001b[0;36m_open_file_like\u001b[0;34m(name_or_buffer, mode)\u001b[0m\n\u001b[1;32m    228\u001b[0m \u001b[0;32mdef\u001b[0m \u001b[0m_open_file_like\u001b[0m\u001b[0;34m(\u001b[0m\u001b[0mname_or_buffer\u001b[0m\u001b[0;34m,\u001b[0m \u001b[0mmode\u001b[0m\u001b[0;34m)\u001b[0m\u001b[0;34m:\u001b[0m\u001b[0;34m\u001b[0m\u001b[0;34m\u001b[0m\u001b[0m\n\u001b[1;32m    229\u001b[0m     \u001b[0;32mif\u001b[0m \u001b[0m_is_path\u001b[0m\u001b[0;34m(\u001b[0m\u001b[0mname_or_buffer\u001b[0m\u001b[0;34m)\u001b[0m\u001b[0;34m:\u001b[0m\u001b[0;34m\u001b[0m\u001b[0;34m\u001b[0m\u001b[0m\n\u001b[0;32m--> 230\u001b[0;31m         \u001b[0;32mreturn\u001b[0m \u001b[0m_open_file\u001b[0m\u001b[0;34m(\u001b[0m\u001b[0mname_or_buffer\u001b[0m\u001b[0;34m,\u001b[0m \u001b[0mmode\u001b[0m\u001b[0;34m)\u001b[0m\u001b[0;34m\u001b[0m\u001b[0;34m\u001b[0m\u001b[0m\n\u001b[0m\u001b[1;32m    231\u001b[0m     \u001b[0;32melse\u001b[0m\u001b[0;34m:\u001b[0m\u001b[0;34m\u001b[0m\u001b[0;34m\u001b[0m\u001b[0m\n\u001b[1;32m    232\u001b[0m         \u001b[0;32mif\u001b[0m \u001b[0;34m'w'\u001b[0m \u001b[0;32min\u001b[0m \u001b[0mmode\u001b[0m\u001b[0;34m:\u001b[0m\u001b[0;34m\u001b[0m\u001b[0;34m\u001b[0m\u001b[0m\n",
      "\u001b[0;32m~/anaconda3/envs/dl/lib/python3.7/site-packages/torch/serialization.py\u001b[0m in \u001b[0;36m__init__\u001b[0;34m(self, name, mode)\u001b[0m\n\u001b[1;32m    209\u001b[0m \u001b[0;32mclass\u001b[0m \u001b[0m_open_file\u001b[0m\u001b[0;34m(\u001b[0m\u001b[0m_opener\u001b[0m\u001b[0;34m)\u001b[0m\u001b[0;34m:\u001b[0m\u001b[0;34m\u001b[0m\u001b[0;34m\u001b[0m\u001b[0m\n\u001b[1;32m    210\u001b[0m     \u001b[0;32mdef\u001b[0m \u001b[0m__init__\u001b[0m\u001b[0;34m(\u001b[0m\u001b[0mself\u001b[0m\u001b[0;34m,\u001b[0m \u001b[0mname\u001b[0m\u001b[0;34m,\u001b[0m \u001b[0mmode\u001b[0m\u001b[0;34m)\u001b[0m\u001b[0;34m:\u001b[0m\u001b[0;34m\u001b[0m\u001b[0;34m\u001b[0m\u001b[0m\n\u001b[0;32m--> 211\u001b[0;31m         \u001b[0msuper\u001b[0m\u001b[0;34m(\u001b[0m\u001b[0m_open_file\u001b[0m\u001b[0;34m,\u001b[0m \u001b[0mself\u001b[0m\u001b[0;34m)\u001b[0m\u001b[0;34m.\u001b[0m\u001b[0m__init__\u001b[0m\u001b[0;34m(\u001b[0m\u001b[0mopen\u001b[0m\u001b[0;34m(\u001b[0m\u001b[0mname\u001b[0m\u001b[0;34m,\u001b[0m \u001b[0mmode\u001b[0m\u001b[0;34m)\u001b[0m\u001b[0;34m)\u001b[0m\u001b[0;34m\u001b[0m\u001b[0;34m\u001b[0m\u001b[0m\n\u001b[0m\u001b[1;32m    212\u001b[0m \u001b[0;34m\u001b[0m\u001b[0m\n\u001b[1;32m    213\u001b[0m     \u001b[0;32mdef\u001b[0m \u001b[0m__exit__\u001b[0m\u001b[0;34m(\u001b[0m\u001b[0mself\u001b[0m\u001b[0;34m,\u001b[0m \u001b[0;34m*\u001b[0m\u001b[0margs\u001b[0m\u001b[0;34m)\u001b[0m\u001b[0;34m:\u001b[0m\u001b[0;34m\u001b[0m\u001b[0;34m\u001b[0m\u001b[0m\n",
      "\u001b[0;31mFileNotFoundError\u001b[0m: [Errno 2] No such file or directory: '/home/dhagash/MS-GE-03/CudaVision/assignment-3/models/best_val_scnn_relu.pth'"
     ]
    }
   ],
   "metadata": {}
  },
  {
   "cell_type": "code",
   "execution_count": null,
   "source": [
    "#Code from https://discuss.pytorch.org/t/visualize-feature-map/29597/6 {PyTorch Forum}\n",
    "# Visualize feature maps\n",
    "def get_activation(name):\n",
    "    def hook(model, input, output):\n",
    "        activation[name] = output.detach()\n",
    "    return hook\n"
   ],
   "outputs": [],
   "metadata": {}
  },
  {
   "cell_type": "code",
   "execution_count": null,
   "source": [
    "datait = iter(test_loader)"
   ],
   "outputs": [],
   "metadata": {}
  },
  {
   "cell_type": "code",
   "execution_count": null,
   "source": [
    "images,labels = datait.next()\n"
   ],
   "outputs": [],
   "metadata": {}
  },
  {
   "cell_type": "code",
   "execution_count": null,
   "source": [
    "#Code from https://discuss.pytorch.org/t/visualize-feature-map/29597/6 {PyTorch Forum}\n",
    "activation = {}\n",
    "model.conv_net[0].register_forward_hook(get_activation('activation_conv1_1'))\n",
    "model.conv_net[2].register_forward_hook(get_activation('activation_conv1_2'))\n",
    "model.conv_net[5].register_forward_hook(get_activation('activation_conv2_1'))\n",
    "model.conv_net[7].register_forward_hook(get_activation('activation_conv2_2'))\n",
    "model.conv_net[10].register_forward_hook(get_activation('activation_conv3_1'))\n",
    "model.conv_net[12].register_forward_hook(get_activation('activation_conv3_2'))\n",
    "\n",
    "output = model(images[0].unsqueeze(0).to(device))\n",
    "# print(output.shape)\n",
    "\n",
    "\n"
   ],
   "outputs": [],
   "metadata": {}
  },
  {
   "cell_type": "code",
   "execution_count": null,
   "source": [
    "num_plot = 5\n",
    "fig, axarr = plt.subplots(6, num_plot, figsize=(20, 20))\n",
    "fig.supxlabel('Different Channels')\n",
    "fig.supylabel('Activations of Conv layer')\n",
    "fig.tight_layout()\n",
    "\n",
    "for cnt,(k, v) in zip(range(6),activation.items()):\n",
    "    act = activation[k].squeeze()   \n",
    "    for idx in range(num_plot):\n",
    "        axarr[cnt,idx].imshow(act[idx].cpu().numpy(),cmap=\"gray\")"
   ],
   "outputs": [
    {
     "output_type": "display_data",
     "data": {
      "image/png": "[encoded data removed]",
      "text/plain": [
       "<Figure size 1440x1440 with 30 Axes>"
      ]
     },
     "metadata": {
      "needs_background": "light"
     }
    }
   ],
   "metadata": {}
  },
  {
   "cell_type": "markdown",
   "source": [
    "- As seen in the lecture the initial layers will learn about edges and orientation which is quite visible in first two rows and then its learning complex structures which are hard to recognize"
   ],
   "metadata": {}
  },
  {
   "cell_type": "markdown",
   "source": [
    "# Kernel Visualization "
   ],
   "metadata": {}
  },
  {
   "cell_type": "code",
   "execution_count": null,
   "source": [
    "# https: // github.com/Niranjankumar-c/DeepLearning-PadhAI/blob/master/DeepLearning_Materials/6_VisualizationCNN_Pytorch/CNNVisualisation.ipynb\n",
    "\n",
    "def plot_rgb(weights):\n",
    "   \n",
    "    n_filters = 5\n",
    "    fig,ax = plt.subplots(1,n_filters,figsize = (8,8))\n",
    "\n",
    "\n",
    "    for i in range(n_filters):\n",
    "        weight = weights[i]\n",
    "        weight = weight - torch.min(weight)\n",
    "        weight = weight / torch.max(weight)\n",
    "        # weight.shape\n",
    "       \n",
    "        ax[i].imshow(weight.permute(1,2,0).cpu().numpy())\n",
    "    plt.show()\n",
    "\n",
    "def plot_single_channel(weights):\n",
    "\n",
    "    n_filters = 5\n",
    "    n_channels = 5\n",
    "    fig, ax = plt.subplots(n_filters, n_channels,figsize=(8, 8))\n",
    "\n",
    "    for i in  range(n_filters):\n",
    "        for j in range(n_channels):\n",
    "            # print(i,j)\n",
    "            weight = weights[i,j]\n",
    "            weight = weight - torch.min(weight)\n",
    "            weight = weight / torch.max(weight)\n",
    "\n",
    "            ax[i,j].imshow(weight.cpu().numpy())\n",
    "            ax[i, j].axis('off')\n",
    "            ax[i, j].set_title(str(i)+str(j))\n",
    "            ax[i, j].set_xticklabels([])\n",
    "            ax[i, j].set_yticklabels([])\n",
    "    \n",
    "    # plt.tight_layout()\n",
    "    plt.show()\n"
   ],
   "outputs": [],
   "metadata": {}
  },
  {
   "cell_type": "code",
   "execution_count": null,
   "source": [
    "def plot_weights(model,layer_num):\n",
    "\n",
    "    layer = model.conv_net[layer_num]\n",
    "    print(layer)\n",
    "    \n",
    "    if isinstance(layer,nn.Conv2d):\n",
    "        weight_tensor = layer.weight.data.detach()\n",
    " \n",
    "        if weight_tensor.shape[1] == 3:\n",
    "            plot_rgb(weight_tensor)\n",
    "        else:\n",
    "            \n",
    "            plot_single_channel(weight_tensor)\n",
    "\n"
   ],
   "outputs": [],
   "metadata": {}
  },
  {
   "cell_type": "code",
   "execution_count": null,
   "source": [
    "plot_weights(model,0)\n",
    "plot_weights(model,2)\n",
    "plot_weights(model,5)\n",
    "plot_weights(model,7)\n",
    "plot_weights(model,10)\n",
    "plot_weights(model, 12)\n"
   ],
   "outputs": [
    {
     "output_type": "stream",
     "name": "stdout",
     "text": [
      "Conv2d(3, 32, kernel_size=(3, 3), stride=(1, 1), padding=(1, 1))\n"
     ]
    },
    {
     "output_type": "display_data",
     "data": {
      "image/png": "[encoded data removed]",
      "text/plain": [
       "<Figure size 576x576 with 5 Axes>"
      ]
     },
     "metadata": {
      "needs_background": "light"
     }
    },
    {
     "output_type": "stream",
     "name": "stdout",
     "text": [
      "Conv2d(32, 32, kernel_size=(3, 3), stride=(1, 1), padding=(1, 1))\n"
     ]
    },
    {
     "output_type": "display_data",
     "data": {
      "image/png": "[encoded data removed]",
      "text/plain": [
       "<Figure size 576x576 with 25 Axes>"
      ]
     },
     "metadata": {
      "needs_background": "light"
     }
    },
    {
     "output_type": "stream",
     "name": "stdout",
     "text": [
      "Conv2d(32, 64, kernel_size=(3, 3), stride=(1, 1), padding=(1, 1))\n"
     ]
    },
    {
     "output_type": "display_data",
     "data": {
      "image/png": "[encoded data removed]",
      "text/plain": [
       "<Figure size 576x576 with 25 Axes>"
      ]
     },
     "metadata": {
      "needs_background": "light"
     }
    },
    {
     "output_type": "stream",
     "name": "stdout",
     "text": [
      "Conv2d(64, 64, kernel_size=(3, 3), stride=(1, 1), padding=(1, 1))\n"
     ]
    },
    {
     "output_type": "display_data",
     "data": {
      "image/png": "[encoded data removed]",
      "text/plain": [
       "<Figure size 576x576 with 25 Axes>"
      ]
     },
     "metadata": {
      "needs_background": "light"
     }
    },
    {
     "output_type": "stream",
     "name": "stdout",
     "text": [
      "Conv2d(64, 128, kernel_size=(3, 3), stride=(1, 1), padding=(1, 1))\n"
     ]
    },
    {
     "output_type": "display_data",
     "data": {
      "image/png": "[encoded data removed]",
      "text/plain": [
       "<Figure size 576x576 with 25 Axes>"
      ]
     },
     "metadata": {
      "needs_background": "light"
     }
    },
    {
     "output_type": "stream",
     "name": "stdout",
     "text": [
      "Conv2d(128, 128, kernel_size=(3, 3), stride=(1, 1), padding=(1, 1))\n"
     ]
    },
    {
     "output_type": "display_data",
     "data": {
      "image/png": "[encoded data removed]",
      "text/plain": [
       "<Figure size 576x576 with 25 Axes>"
      ]
     },
     "metadata": {
      "needs_background": "light"
     }
    }
   ],
   "metadata": {}
  },
  {
   "cell_type": "code",
   "execution_count": null,
   "source": [],
   "outputs": [],
   "metadata": {}
  }
 ],
 "metadata": {
  "orig_nbformat": 4,
  "language_info": {
   "name": "python",
   "version": "3.7.10",
   "mimetype": "text/x-python",
   "codemirror_mode": {
    "name": "ipython",
    "version": 3
   },
   "pygments_lexer": "ipython3",
   "nbconvert_exporter": "python",
   "file_extension": ".py"
  },
  "kernelspec": {
   "name": "python3",
   "display_name": "Python 3.7.10 64-bit ('dl': conda)"
  },
  "interpreter": {
   "hash": "f7881038a8c0c2c5168ac80e20ff544f471faf7d5bc66c5653256549b0169354"
  }
 },
 "nbformat": 4,
 "nbformat_minor": 2
}