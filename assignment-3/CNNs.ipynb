{
 "cells": [
  {
   "cell_type": "markdown",
   "source": [
    "# Import"
   ],
   "metadata": {}
  },
  {
   "cell_type": "code",
   "execution_count": 1,
   "source": [
    "import torch\n",
    "import torchvision\n",
    "import torch.nn as nn\n",
    "import torch.nn.functional as F\n",
    "import torchvision.transforms as transforms\n",
    "from torch.utils.data.dataloader import DataLoader\n",
    "from torch.utils.data import random_split\n",
    "\n",
    "import numpy as np\n",
    "import matplotlib.pyplot as plt\n",
    "import os\n",
    "from tqdm import tqdm\n",
    "from typing import Tuple, NoReturn"
   ],
   "outputs": [],
   "metadata": {}
  },
  {
   "cell_type": "markdown",
   "source": [
    "# Dataloader"
   ],
   "metadata": {}
  },
  {
   "cell_type": "code",
   "execution_count": 2,
   "source": [
    "#Transforms from https://pytorch.org/tutorials/beginner/blitz/cifar10_tutorial.html\n",
    "\n",
    "transform = transforms.Compose(\n",
    "    [transforms.ToTensor(),\n",
    "     transforms.Normalize((0.5, 0.5, 0.5), (0.5, 0.5, 0.5))])\n",
    "\n",
    "train_dataset = torchvision.datasets.CIFAR10(root='./data', train=True, transform=transform, download=True)\n",
    "test_dataset = torchvision.datasets.CIFAR10(root='./data', train=False, transform=transform, download=True)\n",
    "train_dataset,validation_dataset = random_split(train_dataset,[round(0.9 * len(train_dataset)), round(0.1 * len(train_dataset))])"
   ],
   "outputs": [
    {
     "output_type": "stream",
     "name": "stdout",
     "text": [
      "Files already downloaded and verified\n",
      "Files already downloaded and verified\n"
     ]
    }
   ],
   "metadata": {}
  },
  {
   "cell_type": "code",
   "execution_count": 3,
   "source": [
    "BATCH_SIZE = 128\n",
    "SHUFFLE = True\n",
    "train_loader = DataLoader(train_dataset, batch_size=BATCH_SIZE, num_workers=4, shuffle=SHUFFLE)\n",
    "test_loader = DataLoader(test_dataset, batch_size=BATCH_SIZE, num_workers=4, shuffle=SHUFFLE)\n",
    "val_loader = DataLoader(validation_dataset, batch_size=BATCH_SIZE, num_workers=4, shuffle=SHUFFLE)\n"
   ],
   "outputs": [],
   "metadata": {}
  },
  {
   "cell_type": "markdown",
   "source": [
    "## Visualizing Data"
   ],
   "metadata": {}
  },
  {
   "cell_type": "code",
   "execution_count": null,
   "source": [],
   "outputs": [],
   "metadata": {}
  },
  {
   "cell_type": "markdown",
   "source": [
    "# Model"
   ],
   "metadata": {}
  },
  {
   "cell_type": "code",
   "execution_count": 4,
   "source": [
    "class SCNN(nn.Module):\n",
    "    def __init__(self, activation: str, batch_norm: str, dropout: bool) -> None:\n",
    "        super().__init__()\n",
    "\n",
    "        #BASE MODEL\n",
    "     \n",
    "        #VGG Style architecture\n",
    "\n",
    "        #Conv Block 1\n",
    "        #(Nx3x32x32) -> (Nx32x16x16)\n",
    "        conv1_1 = nn.Conv2d(in_channels=3, out_channels=32,\n",
    "                          kernel_size=3, padding=1)\n",
    "        conv1_2 = nn.Conv2d(in_channels=32, out_channels=32,\n",
    "                          kernel_size=3, padding=1)\n",
    "        pool1 = nn.MaxPool2d(kernel_size=2, stride=2)\n",
    "\n",
    "        #Conv Block 2\n",
    "        #(Nx32x16x16) -> (Nx64x8x8)\n",
    "        conv2_1 = nn.Conv2d(in_channels=32, out_channels=64,\n",
    "                            kernel_size=3, padding=1)\n",
    "        conv2_2 = nn.Conv2d(in_channels=64, out_channels=64,\n",
    "                            kernel_size=3, padding=1)\n",
    "        pool2 = nn.MaxPool2d(kernel_size=2, stride=2)\n",
    "\n",
    "        #Conv Block 3\n",
    "        #(Nx64x8x8) -> (Nx128x4x4)\n",
    "        conv3_1 = nn.Conv2d(in_channels=64, out_channels=128,\n",
    "                            kernel_size=3, padding=1)\n",
    "        conv3_2 = nn.Conv2d(in_channels=128, out_channels=128,\n",
    "                            kernel_size=3, padding=1)\n",
    "        pool3 = nn.MaxPool2d(kernel_size=2, stride=2)\n",
    "        \n",
    "        in_dim = 128*4*4\n",
    "        fc1 = nn.Linear(in_dim,128)\n",
    "        fc2 = nn.Linear(128,10)\n",
    "\n",
    "        activation_layer = None\n",
    "        dropout_layer = None\n",
    "        if activation == 'relu':\n",
    "            activation_layer = nn.ReLU()\n",
    "        elif activation == 'lrelu':\n",
    "            activation_layer = nn.LeakyReLU()\n",
    "        else:\n",
    "            if activation == 'elu':\n",
    "                activation_layer = nn.ELU()\n",
    "\n",
    "\n",
    "        self.conv_net = nn.Sequential(conv1_1,\n",
    "                                      activation_layer,\n",
    "                                      conv1_2,\n",
    "                                      activation_layer,\n",
    "                                      pool1,\n",
    "                                      conv2_1,\n",
    "                                      activation_layer,\n",
    "                                      conv2_2,\n",
    "                                      activation_layer,\n",
    "                                      pool2,\n",
    "                                      conv3_1,\n",
    "                                      activation_layer,\n",
    "                                      conv3_2,\n",
    "                                      activation_layer,\n",
    "                                      pool3,\n",
    "                                      nn.Flatten(start_dim=1),\n",
    "                                      fc1,\n",
    "                                      fc2)\n",
    "\n",
    "        if batch_norm == 'bnorm':\n",
    "            bnorm1_1 = nn.BatchNorm2d(32)\n",
    "            bnorm1_2 = nn.BatchNorm2d(32)\n",
    "            bnorm2_1 = nn.BatchNorm2d(64)\n",
    "            bnorm2_2 = nn.BatchNorm2d(64)\n",
    "            bnorm3_1 = nn.BatchNorm2d(128)\n",
    "            bnorm3_2 = nn.BatchNorm2d(128)\n",
    "\n",
    "            self.conv_net = nn.Sequential(conv1_1,\n",
    "                                          bnorm1_1,\n",
    "                                          activation_layer,\n",
    "                                          conv1_2,\n",
    "                                          bnorm1_2,\n",
    "                                          activation_layer,\n",
    "                                          pool1,\n",
    "                                          conv2_1,\n",
    "                                          bnorm2_1,\n",
    "                                          activation_layer,\n",
    "                                          conv2_2,\n",
    "                                          bnorm2_2,\n",
    "                                          activation_layer,\n",
    "                                          pool2,\n",
    "                                          conv3_1,\n",
    "                                          bnorm3_1,\n",
    "                                          activation_layer,\n",
    "                                          conv3_2,\n",
    "                                          bnorm3_2,\n",
    "                                          activation_layer,\n",
    "                                          pool3,\n",
    "                                          nn.Flatten(start_dim=1),\n",
    "                                          fc1,\n",
    "                                          activation_layer,\n",
    "                                          fc2)\n",
    "        elif batch_norm == 'gnorm':\n",
    "\n",
    "            gnorm1_1 = nn.GroupNorm(8, 32)\n",
    "            gnorm1_2 = nn.GroupNorm(8, 32)\n",
    "            gnorm2_1 = nn.GroupNorm(8, 64)\n",
    "            gnorm2_2 = nn.GroupNorm(8, 64)\n",
    "            gnorm3_1 = nn.GroupNorm(8, 128)\n",
    "            gnorm3_2 = nn.GroupNorm(8, 128)\n",
    "\n",
    "            self.conv_net = nn.Sequential(conv1_1,\n",
    "                                          gnorm1_1,\n",
    "                                          activation_layer,\n",
    "                                          conv1_2,\n",
    "                                          gnorm1_2,\n",
    "                                          activation_layer,\n",
    "                                          pool1,\n",
    "                                          conv2_1,\n",
    "                                          gnorm2_1,\n",
    "                                          activation_layer,\n",
    "                                          conv2_2,\n",
    "                                          gnorm2_2,\n",
    "                                          activation_layer,\n",
    "                                          pool2,\n",
    "                                          conv3_1,\n",
    "                                          gnorm3_1,\n",
    "                                          activation_layer,\n",
    "                                          conv3_2,\n",
    "                                          gnorm3_2,\n",
    "                                          activation_layer,\n",
    "                                          pool3,\n",
    "                                          nn.Flatten(start_dim=1),\n",
    "                                          fc1,\n",
    "                                          activation_layer,\n",
    "                                          fc2)\n",
    "\n",
    "        else:\n",
    "            pass\n",
    "\n",
    "\n",
    "\n",
    "\n",
    "        #############################################################################################\n",
    "        #Add dropout in similar way, so one code for all\n",
    "        ###############################################################################################\n",
    "\n",
    "    def forward(self, x):\n",
    "        \n",
    "        \n",
    "        y = self.conv_net(x)\n",
    "\n",
    "        return y\n",
    "\n",
    "def count_model_params(model):\n",
    "    \"\"\" Counting the number of learnable parameters in a nn.Module \"\"\"\n",
    "    num_params = sum(p.numel() for p in model.parameters() if p.requires_grad)\n",
    "    return num_params"
   ],
   "outputs": [],
   "metadata": {}
  },
  {
   "cell_type": "code",
   "execution_count": 5,
   "source": [
    "cnn = SCNN(activation='relu',batch_norm='gnorm',dropout=False)\n",
    "params = count_model_params(cnn)\n",
    "print(cnn)\n",
    "print(f\"Model has {params} learnable parameters\")\n"
   ],
   "outputs": [
    {
     "output_type": "stream",
     "name": "stdout",
     "text": [
      "SCNN(\n",
      "  (conv_net): Sequential(\n",
      "    (0): Conv2d(3, 32, kernel_size=(3, 3), stride=(1, 1), padding=(1, 1))\n",
      "    (1): GroupNorm(8, 32, eps=1e-05, affine=True)\n",
      "    (2): ReLU()\n",
      "    (3): Conv2d(32, 32, kernel_size=(3, 3), stride=(1, 1), padding=(1, 1))\n",
      "    (4): GroupNorm(8, 32, eps=1e-05, affine=True)\n",
      "    (5): ReLU()\n",
      "    (6): MaxPool2d(kernel_size=2, stride=2, padding=0, dilation=1, ceil_mode=False)\n",
      "    (7): Conv2d(32, 64, kernel_size=(3, 3), stride=(1, 1), padding=(1, 1))\n",
      "    (8): GroupNorm(8, 64, eps=1e-05, affine=True)\n",
      "    (9): ReLU()\n",
      "    (10): Conv2d(64, 64, kernel_size=(3, 3), stride=(1, 1), padding=(1, 1))\n",
      "    (11): GroupNorm(8, 64, eps=1e-05, affine=True)\n",
      "    (12): ReLU()\n",
      "    (13): MaxPool2d(kernel_size=2, stride=2, padding=0, dilation=1, ceil_mode=False)\n",
      "    (14): Conv2d(64, 128, kernel_size=(3, 3), stride=(1, 1), padding=(1, 1))\n",
      "    (15): GroupNorm(8, 128, eps=1e-05, affine=True)\n",
      "    (16): ReLU()\n",
      "    (17): Conv2d(128, 128, kernel_size=(3, 3), stride=(1, 1), padding=(1, 1))\n",
      "    (18): GroupNorm(8, 128, eps=1e-05, affine=True)\n",
      "    (19): ReLU()\n",
      "    (20): MaxPool2d(kernel_size=2, stride=2, padding=0, dilation=1, ceil_mode=False)\n",
      "    (21): Flatten(start_dim=1, end_dim=-1)\n",
      "    (22): Linear(in_features=2048, out_features=128, bias=True)\n",
      "    (23): ReLU()\n",
      "    (24): Linear(in_features=128, out_features=10, bias=True)\n",
      "  )\n",
      ")\n",
      "Model has 551466 learnable parameters\n"
     ]
    }
   ],
   "metadata": {}
  },
  {
   "cell_type": "markdown",
   "source": [
    "# Training"
   ],
   "metadata": {}
  },
  {
   "cell_type": "markdown",
   "source": [
    "## Todo\n",
    "\n",
    "-> Visualization of images and plots for eval and train loss <br />\n",
    "-> Early stopping criterion <br />\n",
    "-> Accuracy above 85% by modifying parameters <br />\n",
    "-> Visualizing activations of different layers <br />"
   ],
   "metadata": {}
  },
  {
   "cell_type": "markdown",
   "source": [
    "## Parameters for training"
   ],
   "metadata": {}
  },
  {
   "cell_type": "code",
   "execution_count": 6,
   "source": [
    "LR = 3e-4\n",
    "EPOCHS = 50\n",
    "EVAL_FREQ = 1\n",
    "SAVE_FREQ = 10\n",
    "val_loss = 1000"
   ],
   "outputs": [],
   "metadata": {}
  },
  {
   "cell_type": "code",
   "execution_count": 7,
   "source": [
    "stats = {\n",
    "    \"epoch\": [],\n",
    "    \"train_loss\": [],\n",
    "    \"valid_loss\": [],\n",
    "    \"accuracy\": []\n",
    "}\n",
    "init_epoch = 0"
   ],
   "outputs": [],
   "metadata": {}
  },
  {
   "cell_type": "code",
   "execution_count": 8,
   "source": [
    "device = torch.device(\"cuda\" if torch.cuda.is_available() else \"cpu\")\n",
    "\n",
    "cnn = cnn.to(device)"
   ],
   "outputs": [],
   "metadata": {}
  },
  {
   "cell_type": "code",
   "execution_count": 9,
   "source": [
    "criterion = nn.CrossEntropyLoss().to(device)\n",
    "optimizer = torch.optim.Adam(params=cnn.parameters(), lr=LR)"
   ],
   "outputs": [],
   "metadata": {}
  },
  {
   "cell_type": "code",
   "execution_count": 10,
   "source": [
    "@torch.no_grad()\n",
    "def eval_model(model):\n",
    "    correct = 0\n",
    "    total = 0\n",
    "    loss_list = []\n",
    "\n",
    "    for images, labels in val_loader:\n",
    "        images = images.to(device)\n",
    "        labels = labels.to(device)\n",
    "\n",
    "        # Forward pass only to get logits/output\n",
    "        outputs = model(images)\n",
    "\n",
    "        loss = criterion(outputs, labels)\n",
    "        loss_list.append(loss.item())\n",
    "\n",
    "        # Get predictions from the maximum value\n",
    "        preds = torch.argmax(outputs, dim=1)\n",
    "        correct += len(torch.where(preds == labels)[0])\n",
    "        total += len(labels)\n",
    "\n",
    "    # Total correct predictions and loss\n",
    "    accuracy = correct / total * 100\n",
    "    loss = np.mean(loss_list)\n",
    "    return accuracy, loss\n",
    "\n",
    "\n",
    "def save_model(model, optimizer, epoch, stats, val):\n",
    "    \"\"\" Saving model checkpoint \"\"\"\n",
    "    if(not os.path.exists(\"models\")):\n",
    "        os.makedirs(\"models\")\n",
    "    if (val):\n",
    "\n",
    "        savepath = f\"models/best_val_{stats['model']}.pth\"\n",
    "\n",
    "        torch.save({\n",
    "            'epoch': epoch,\n",
    "            'model_state_dict': model.state_dict(),\n",
    "            'optimizer_state_dict': optimizer.state_dict(),\n",
    "            'stats': stats\n",
    "        }, savepath)\n",
    "        \n",
    "    else:\n",
    "\n",
    "        savepath = f\"models/{stats['model']}_checkpoint_epoch_{epoch}.pth\"\n",
    "\n",
    "        torch.save({\n",
    "            'epoch': epoch,\n",
    "            'model_state_dict': model.state_dict(),\n",
    "            'optimizer_state_dict': optimizer.state_dict(),\n",
    "            'stats': stats\n",
    "        }, savepath)\n",
    "\n",
    "    return\n",
    "\n",
    "\n",
    "def load_model(model, optimizer, savepath):\n",
    "    \"\"\" Loading pretrained checkpoint \"\"\"\n",
    "\n",
    "    checkpoint = torch.load(savepath)\n",
    "    model.load_state_dict(checkpoint['model_state_dict'])\n",
    "    optimizer.load_state_dict(checkpoint['optimizer_state_dict'])\n",
    "    epoch = checkpoint[\"epoch\"]\n",
    "    stats = checkpoint[\"stats\"]\n",
    "\n",
    "    return model, optimizer, epoch, stats\n",
    "\n",
    "\n",
    "def test_model(model):\n",
    "\n",
    "    correct = 0\n",
    "    total = 0\n",
    "\n",
    "    for images, labels in test_loader:\n",
    "        images = images.to(device)\n",
    "        labels = labels.to(device)\n",
    "\n",
    "        # Forward pass only to get logits/output\n",
    "        outputs = model(images)\n",
    "\n",
    "        # Get predictions from the maximum value\n",
    "        preds = torch.argmax(outputs, dim=1)\n",
    "        correct += len(torch.where(preds == labels)[0])\n",
    "        total += len(labels)\n",
    "\n",
    "    # Total correct predictions and loss\n",
    "    accuracy = correct / total * 100\n",
    "    \n",
    "    return accuracy"
   ],
   "outputs": [],
   "metadata": {}
  },
  {
   "cell_type": "code",
   "execution_count": 11,
   "source": [
    "loss_hist = []\n",
    "stats['model'] = 'gnorm'\n",
    "\n",
    "for epoch in range(EPOCHS):\n",
    "    progress_bar = tqdm(enumerate(train_loader), total=len(train_loader))\n",
    "    for i,(images,labels) in progress_bar:\n",
    "\n",
    "        loss_list = []\n",
    "\n",
    "        x = images.to(device)\n",
    "        y_train = labels.to(device)\n",
    "        # Clear gradients w.r.t. parameters\n",
    "        optimizer.zero_grad()\n",
    "\n",
    "        # Forward pass to get output/logits\n",
    "        outputs = cnn(x)\n",
    "\n",
    "        # Calculate Loss: softmax --> cross entropy loss\n",
    "        loss = criterion(outputs, y_train)\n",
    "\n",
    "        # Getting gradients w.r.t. parameters\n",
    "        loss.backward()\n",
    "        loss_list.append(loss.item())\n",
    "\n",
    "        # Updating parameters\n",
    "        optimizer.step()\n",
    "        progress_bar.set_description(f\"Epoch {epoch+1} Iter {i+1}: loss {loss.item():.5f}. \")\n",
    "    \n",
    "    loss_hist.append(np.mean(loss_list))\n",
    "    stats[\"epoch\"].append(epoch)\n",
    "    stats[\"train_loss\"].append(loss_hist[-1])\n",
    "    \n",
    "\n",
    "    if epoch % EVAL_FREQ == 0:\n",
    "        accuracy, valid_loss = eval_model(cnn)\n",
    "        print(f\"Accuracy at epoch {epoch}: {round(accuracy, 2)}%\")\n",
    "    else:\n",
    "        accuracy, valid_loss = -1, -1\n",
    "    \n",
    "    stats[\"accuracy\"].append(accuracy)\n",
    "    stats[\"valid_loss\"].append(valid_loss)\n",
    "\n",
    "\n",
    "    #Saving best validation model\n",
    "    if valid_loss < val_loss:\n",
    "        val_loss = valid_loss\n",
    "        save_model(model=cnn, optimizer=optimizer,\n",
    "                   epoch=epoch, stats=stats, val = True)\n",
    "\n",
    "\n",
    "    if epoch % SAVE_FREQ == 0:\n",
    "        save_model(model=cnn, optimizer=optimizer, epoch=epoch, stats=stats,val = False)\n",
    "\n",
    "\n",
    "save_model(model=cnn, optimizer=optimizer, epoch=epoch, stats=stats, val=False)\n"
   ],
   "outputs": [
    {
     "output_type": "stream",
     "name": "stderr",
     "text": [
      "Epoch 1 Iter 352: loss 1.01726. : 100%|██████████| 352/352 [00:05<00:00, 70.15it/s]\n"
     ]
    },
    {
     "output_type": "stream",
     "name": "stdout",
     "text": [
      "Accuracy at epoch 0: 58.48%\n"
     ]
    },
    {
     "output_type": "stream",
     "name": "stderr",
     "text": [
      "Epoch 2 Iter 352: loss 0.66654. : 100%|██████████| 352/352 [00:04<00:00, 79.69it/s]\n"
     ]
    },
    {
     "output_type": "stream",
     "name": "stdout",
     "text": [
      "Accuracy at epoch 1: 67.64%\n"
     ]
    },
    {
     "output_type": "stream",
     "name": "stderr",
     "text": [
      "Epoch 3 Iter 352: loss 0.55234. : 100%|██████████| 352/352 [00:04<00:00, 77.36it/s]\n"
     ]
    },
    {
     "output_type": "stream",
     "name": "stdout",
     "text": [
      "Accuracy at epoch 2: 68.8%\n"
     ]
    },
    {
     "output_type": "stream",
     "name": "stderr",
     "text": [
      "Epoch 4 Iter 352: loss 0.55981. : 100%|██████████| 352/352 [00:04<00:00, 77.47it/s]\n"
     ]
    },
    {
     "output_type": "stream",
     "name": "stdout",
     "text": [
      "Accuracy at epoch 3: 72.1%\n"
     ]
    },
    {
     "output_type": "stream",
     "name": "stderr",
     "text": [
      "Epoch 5 Iter 352: loss 0.82754. : 100%|██████████| 352/352 [00:04<00:00, 77.81it/s]\n"
     ]
    },
    {
     "output_type": "stream",
     "name": "stdout",
     "text": [
      "Accuracy at epoch 4: 74.48%\n"
     ]
    },
    {
     "output_type": "stream",
     "name": "stderr",
     "text": [
      "Epoch 6 Iter 352: loss 0.58380. : 100%|██████████| 352/352 [00:04<00:00, 77.15it/s]\n"
     ]
    },
    {
     "output_type": "stream",
     "name": "stdout",
     "text": [
      "Accuracy at epoch 5: 76.32%\n"
     ]
    },
    {
     "output_type": "stream",
     "name": "stderr",
     "text": [
      "Epoch 7 Iter 352: loss 0.24670. : 100%|██████████| 352/352 [00:04<00:00, 77.36it/s]\n"
     ]
    },
    {
     "output_type": "stream",
     "name": "stdout",
     "text": [
      "Accuracy at epoch 6: 74.8%\n"
     ]
    },
    {
     "output_type": "stream",
     "name": "stderr",
     "text": [
      "Epoch 8 Iter 352: loss 0.51441. : 100%|██████████| 352/352 [00:04<00:00, 76.20it/s]\n"
     ]
    },
    {
     "output_type": "stream",
     "name": "stdout",
     "text": [
      "Accuracy at epoch 7: 76.16%\n"
     ]
    },
    {
     "output_type": "stream",
     "name": "stderr",
     "text": [
      "Epoch 9 Iter 352: loss 0.23738. : 100%|██████████| 352/352 [00:04<00:00, 77.41it/s]\n"
     ]
    },
    {
     "output_type": "stream",
     "name": "stdout",
     "text": [
      "Accuracy at epoch 8: 75.08%\n"
     ]
    },
    {
     "output_type": "stream",
     "name": "stderr",
     "text": [
      "Epoch 10 Iter 352: loss 0.20913. : 100%|██████████| 352/352 [00:04<00:00, 76.97it/s]\n"
     ]
    },
    {
     "output_type": "stream",
     "name": "stdout",
     "text": [
      "Accuracy at epoch 9: 76.24%\n"
     ]
    },
    {
     "output_type": "stream",
     "name": "stderr",
     "text": [
      "Epoch 11 Iter 352: loss 0.32505. : 100%|██████████| 352/352 [00:04<00:00, 77.29it/s]\n"
     ]
    },
    {
     "output_type": "stream",
     "name": "stdout",
     "text": [
      "Accuracy at epoch 10: 77.8%\n"
     ]
    },
    {
     "output_type": "stream",
     "name": "stderr",
     "text": [
      "Epoch 12 Iter 352: loss 0.18820. : 100%|██████████| 352/352 [00:04<00:00, 77.93it/s]\n"
     ]
    },
    {
     "output_type": "stream",
     "name": "stdout",
     "text": [
      "Accuracy at epoch 11: 78.26%\n"
     ]
    },
    {
     "output_type": "stream",
     "name": "stderr",
     "text": [
      "Epoch 13 Iter 352: loss 0.11050. : 100%|██████████| 352/352 [00:04<00:00, 77.02it/s]\n"
     ]
    },
    {
     "output_type": "stream",
     "name": "stdout",
     "text": [
      "Accuracy at epoch 12: 77.74%\n"
     ]
    },
    {
     "output_type": "stream",
     "name": "stderr",
     "text": [
      "Epoch 14 Iter 352: loss 0.16739. : 100%|██████████| 352/352 [00:04<00:00, 76.39it/s]\n"
     ]
    },
    {
     "output_type": "stream",
     "name": "stdout",
     "text": [
      "Accuracy at epoch 13: 77.22%\n"
     ]
    },
    {
     "output_type": "stream",
     "name": "stderr",
     "text": [
      "Epoch 15 Iter 352: loss 0.09634. : 100%|██████████| 352/352 [00:04<00:00, 76.47it/s]\n"
     ]
    },
    {
     "output_type": "stream",
     "name": "stdout",
     "text": [
      "Accuracy at epoch 14: 77.42%\n"
     ]
    },
    {
     "output_type": "stream",
     "name": "stderr",
     "text": [
      "Epoch 16 Iter 352: loss 0.06116. : 100%|██████████| 352/352 [00:04<00:00, 74.80it/s]\n"
     ]
    },
    {
     "output_type": "stream",
     "name": "stdout",
     "text": [
      "Accuracy at epoch 15: 76.28%\n"
     ]
    },
    {
     "output_type": "stream",
     "name": "stderr",
     "text": [
      "Epoch 17 Iter 352: loss 0.12967. : 100%|██████████| 352/352 [00:04<00:00, 77.88it/s]\n"
     ]
    },
    {
     "output_type": "stream",
     "name": "stdout",
     "text": [
      "Accuracy at epoch 16: 76.3%\n"
     ]
    },
    {
     "output_type": "stream",
     "name": "stderr",
     "text": [
      "Epoch 18 Iter 352: loss 0.16046. : 100%|██████████| 352/352 [00:04<00:00, 76.81it/s]\n"
     ]
    },
    {
     "output_type": "stream",
     "name": "stdout",
     "text": [
      "Accuracy at epoch 17: 77.12%\n"
     ]
    },
    {
     "output_type": "stream",
     "name": "stderr",
     "text": [
      "Epoch 19 Iter 352: loss 0.15552. : 100%|██████████| 352/352 [00:04<00:00, 77.58it/s]\n"
     ]
    },
    {
     "output_type": "stream",
     "name": "stdout",
     "text": [
      "Accuracy at epoch 18: 76.32%\n"
     ]
    },
    {
     "output_type": "stream",
     "name": "stderr",
     "text": [
      "Epoch 20 Iter 352: loss 0.07894. : 100%|██████████| 352/352 [00:04<00:00, 76.69it/s]\n"
     ]
    },
    {
     "output_type": "stream",
     "name": "stdout",
     "text": [
      "Accuracy at epoch 19: 77.66%\n"
     ]
    },
    {
     "output_type": "stream",
     "name": "stderr",
     "text": [
      "Epoch 21 Iter 352: loss 0.09448. : 100%|██████████| 352/352 [00:04<00:00, 75.94it/s]\n"
     ]
    },
    {
     "output_type": "stream",
     "name": "stdout",
     "text": [
      "Accuracy at epoch 20: 76.52%\n"
     ]
    },
    {
     "output_type": "stream",
     "name": "stderr",
     "text": [
      "Epoch 22 Iter 352: loss 0.10737. : 100%|██████████| 352/352 [00:04<00:00, 78.72it/s]\n"
     ]
    },
    {
     "output_type": "stream",
     "name": "stdout",
     "text": [
      "Accuracy at epoch 21: 75.44%\n"
     ]
    },
    {
     "output_type": "stream",
     "name": "stderr",
     "text": [
      "Epoch 23 Iter 352: loss 0.01436. : 100%|██████████| 352/352 [00:04<00:00, 76.60it/s]\n"
     ]
    },
    {
     "output_type": "stream",
     "name": "stdout",
     "text": [
      "Accuracy at epoch 22: 77.04%\n"
     ]
    },
    {
     "output_type": "stream",
     "name": "stderr",
     "text": [
      "Epoch 24 Iter 352: loss 0.07170. : 100%|██████████| 352/352 [00:04<00:00, 77.79it/s]\n"
     ]
    },
    {
     "output_type": "stream",
     "name": "stdout",
     "text": [
      "Accuracy at epoch 23: 76.8%\n"
     ]
    },
    {
     "output_type": "stream",
     "name": "stderr",
     "text": [
      "Epoch 25 Iter 352: loss 0.02805. : 100%|██████████| 352/352 [00:04<00:00, 76.79it/s]\n"
     ]
    },
    {
     "output_type": "stream",
     "name": "stdout",
     "text": [
      "Accuracy at epoch 24: 76.78%\n"
     ]
    },
    {
     "output_type": "stream",
     "name": "stderr",
     "text": [
      "Epoch 26 Iter 352: loss 0.02699. : 100%|██████████| 352/352 [00:04<00:00, 77.24it/s]\n"
     ]
    },
    {
     "output_type": "stream",
     "name": "stdout",
     "text": [
      "Accuracy at epoch 25: 75.32%\n"
     ]
    },
    {
     "output_type": "stream",
     "name": "stderr",
     "text": [
      "Epoch 27 Iter 352: loss 0.06255. : 100%|██████████| 352/352 [00:04<00:00, 77.58it/s]\n"
     ]
    },
    {
     "output_type": "stream",
     "name": "stdout",
     "text": [
      "Accuracy at epoch 26: 76.28%\n"
     ]
    },
    {
     "output_type": "stream",
     "name": "stderr",
     "text": [
      "Epoch 28 Iter 352: loss 0.10227. : 100%|██████████| 352/352 [00:04<00:00, 76.17it/s]\n"
     ]
    },
    {
     "output_type": "stream",
     "name": "stdout",
     "text": [
      "Accuracy at epoch 27: 78.04%\n"
     ]
    },
    {
     "output_type": "stream",
     "name": "stderr",
     "text": [
      "Epoch 29 Iter 352: loss 0.03436. : 100%|██████████| 352/352 [00:04<00:00, 77.91it/s]\n"
     ]
    },
    {
     "output_type": "stream",
     "name": "stdout",
     "text": [
      "Accuracy at epoch 28: 77.56%\n"
     ]
    },
    {
     "output_type": "stream",
     "name": "stderr",
     "text": [
      "Epoch 30 Iter 352: loss 0.08454. : 100%|██████████| 352/352 [00:04<00:00, 77.16it/s]\n"
     ]
    },
    {
     "output_type": "stream",
     "name": "stdout",
     "text": [
      "Accuracy at epoch 29: 77.72%\n"
     ]
    },
    {
     "output_type": "stream",
     "name": "stderr",
     "text": [
      "Epoch 31 Iter 352: loss 0.06508. : 100%|██████████| 352/352 [00:04<00:00, 77.22it/s]\n"
     ]
    },
    {
     "output_type": "stream",
     "name": "stdout",
     "text": [
      "Accuracy at epoch 30: 76.7%\n"
     ]
    },
    {
     "output_type": "stream",
     "name": "stderr",
     "text": [
      "Epoch 32 Iter 352: loss 0.17641. : 100%|██████████| 352/352 [00:04<00:00, 77.85it/s]\n"
     ]
    },
    {
     "output_type": "stream",
     "name": "stdout",
     "text": [
      "Accuracy at epoch 31: 77.32%\n"
     ]
    },
    {
     "output_type": "stream",
     "name": "stderr",
     "text": [
      "Epoch 33 Iter 352: loss 0.02436. : 100%|██████████| 352/352 [00:04<00:00, 77.68it/s]\n"
     ]
    },
    {
     "output_type": "stream",
     "name": "stdout",
     "text": [
      "Accuracy at epoch 32: 77.86%\n"
     ]
    },
    {
     "output_type": "stream",
     "name": "stderr",
     "text": [
      "Epoch 34 Iter 352: loss 0.00643. : 100%|██████████| 352/352 [00:04<00:00, 78.50it/s]\n"
     ]
    },
    {
     "output_type": "stream",
     "name": "stdout",
     "text": [
      "Accuracy at epoch 33: 78.54%\n"
     ]
    },
    {
     "output_type": "stream",
     "name": "stderr",
     "text": [
      "Epoch 35 Iter 352: loss 0.04097. : 100%|██████████| 352/352 [00:04<00:00, 78.12it/s]\n"
     ]
    },
    {
     "output_type": "stream",
     "name": "stdout",
     "text": [
      "Accuracy at epoch 34: 76.44%\n"
     ]
    },
    {
     "output_type": "stream",
     "name": "stderr",
     "text": [
      "Epoch 36 Iter 352: loss 0.21325. : 100%|██████████| 352/352 [00:04<00:00, 77.71it/s]\n"
     ]
    },
    {
     "output_type": "stream",
     "name": "stdout",
     "text": [
      "Accuracy at epoch 35: 76.44%\n"
     ]
    },
    {
     "output_type": "stream",
     "name": "stderr",
     "text": [
      "Epoch 37 Iter 352: loss 0.04222. : 100%|██████████| 352/352 [00:04<00:00, 76.90it/s]\n"
     ]
    },
    {
     "output_type": "stream",
     "name": "stdout",
     "text": [
      "Accuracy at epoch 36: 76.54%\n"
     ]
    },
    {
     "output_type": "stream",
     "name": "stderr",
     "text": [
      "Epoch 38 Iter 352: loss 0.05915. : 100%|██████████| 352/352 [00:04<00:00, 76.38it/s]\n"
     ]
    },
    {
     "output_type": "stream",
     "name": "stdout",
     "text": [
      "Accuracy at epoch 37: 77.26%\n"
     ]
    },
    {
     "output_type": "stream",
     "name": "stderr",
     "text": [
      "Epoch 39 Iter 352: loss 0.02090. : 100%|██████████| 352/352 [00:04<00:00, 77.63it/s]\n"
     ]
    },
    {
     "output_type": "stream",
     "name": "stdout",
     "text": [
      "Accuracy at epoch 38: 75.22%\n"
     ]
    },
    {
     "output_type": "stream",
     "name": "stderr",
     "text": [
      "Epoch 40 Iter 352: loss 0.02908. : 100%|██████████| 352/352 [00:04<00:00, 77.41it/s]\n"
     ]
    },
    {
     "output_type": "stream",
     "name": "stdout",
     "text": [
      "Accuracy at epoch 39: 77.14%\n"
     ]
    },
    {
     "output_type": "stream",
     "name": "stderr",
     "text": [
      "Epoch 41 Iter 352: loss 0.08648. : 100%|██████████| 352/352 [00:04<00:00, 77.47it/s]\n"
     ]
    },
    {
     "output_type": "stream",
     "name": "stdout",
     "text": [
      "Accuracy at epoch 40: 77.02%\n"
     ]
    },
    {
     "output_type": "stream",
     "name": "stderr",
     "text": [
      "Epoch 42 Iter 352: loss 0.01577. : 100%|██████████| 352/352 [00:04<00:00, 76.76it/s]\n"
     ]
    },
    {
     "output_type": "stream",
     "name": "stdout",
     "text": [
      "Accuracy at epoch 41: 77.96%\n"
     ]
    },
    {
     "output_type": "stream",
     "name": "stderr",
     "text": [
      "Epoch 43 Iter 352: loss 0.02195. : 100%|██████████| 352/352 [00:04<00:00, 76.42it/s]\n"
     ]
    },
    {
     "output_type": "stream",
     "name": "stdout",
     "text": [
      "Accuracy at epoch 42: 78.42%\n"
     ]
    },
    {
     "output_type": "stream",
     "name": "stderr",
     "text": [
      "Epoch 44 Iter 352: loss 0.01237. : 100%|██████████| 352/352 [00:04<00:00, 75.65it/s]\n"
     ]
    },
    {
     "output_type": "stream",
     "name": "stdout",
     "text": [
      "Accuracy at epoch 43: 76.88%\n"
     ]
    },
    {
     "output_type": "stream",
     "name": "stderr",
     "text": [
      "Epoch 45 Iter 352: loss 0.04981. : 100%|██████████| 352/352 [00:04<00:00, 75.31it/s]\n"
     ]
    },
    {
     "output_type": "stream",
     "name": "stdout",
     "text": [
      "Accuracy at epoch 44: 77.1%\n"
     ]
    },
    {
     "output_type": "stream",
     "name": "stderr",
     "text": [
      "Epoch 46 Iter 352: loss 0.01334. : 100%|██████████| 352/352 [00:04<00:00, 77.83it/s]\n"
     ]
    },
    {
     "output_type": "stream",
     "name": "stdout",
     "text": [
      "Accuracy at epoch 45: 76.62%\n"
     ]
    },
    {
     "output_type": "stream",
     "name": "stderr",
     "text": [
      "Epoch 47 Iter 352: loss 0.00613. : 100%|██████████| 352/352 [00:04<00:00, 77.61it/s]\n"
     ]
    },
    {
     "output_type": "stream",
     "name": "stdout",
     "text": [
      "Accuracy at epoch 46: 78.52%\n"
     ]
    },
    {
     "output_type": "stream",
     "name": "stderr",
     "text": [
      "Epoch 48 Iter 352: loss 0.05623. : 100%|██████████| 352/352 [00:04<00:00, 76.87it/s]\n"
     ]
    },
    {
     "output_type": "stream",
     "name": "stdout",
     "text": [
      "Accuracy at epoch 47: 76.3%\n"
     ]
    },
    {
     "output_type": "stream",
     "name": "stderr",
     "text": [
      "Epoch 49 Iter 352: loss 0.08243. : 100%|██████████| 352/352 [00:04<00:00, 76.65it/s]\n"
     ]
    },
    {
     "output_type": "stream",
     "name": "stdout",
     "text": [
      "Accuracy at epoch 48: 77.54%\n"
     ]
    },
    {
     "output_type": "stream",
     "name": "stderr",
     "text": [
      "Epoch 50 Iter 352: loss 0.02012. : 100%|██████████| 352/352 [00:04<00:00, 76.56it/s]\n"
     ]
    },
    {
     "output_type": "stream",
     "name": "stdout",
     "text": [
      "Accuracy at epoch 49: 76.34%\n"
     ]
    }
   ],
   "metadata": {}
  },
  {
   "cell_type": "markdown",
   "source": [
    "# Testing"
   ],
   "metadata": {}
  },
  {
   "cell_type": "code",
   "execution_count": null,
   "source": [],
   "outputs": [],
   "metadata": {}
  },
  {
   "cell_type": "code",
   "execution_count": null,
   "source": [],
   "outputs": [],
   "metadata": {}
  },
  {
   "cell_type": "code",
   "execution_count": null,
   "source": [],
   "outputs": [],
   "metadata": {}
  }
 ],
 "metadata": {
  "orig_nbformat": 4,
  "language_info": {
   "name": "python",
   "version": "3.7.10",
   "mimetype": "text/x-python",
   "codemirror_mode": {
    "name": "ipython",
    "version": 3
   },
   "pygments_lexer": "ipython3",
   "nbconvert_exporter": "python",
   "file_extension": ".py"
  },
  "kernelspec": {
   "name": "python3",
   "display_name": "Python 3.7.10 64-bit ('dl': conda)"
  },
  "interpreter": {
   "hash": "f7881038a8c0c2c5168ac80e20ff544f471faf7d5bc66c5653256549b0169354"
  }
 },
 "nbformat": 4,
 "nbformat_minor": 2
}