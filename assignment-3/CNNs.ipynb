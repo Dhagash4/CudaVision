{
 "cells": [
  {
   "cell_type": "markdown",
   "source": [
    "# Import"
   ],
   "metadata": {}
  },
  {
   "cell_type": "code",
   "execution_count": 1,
   "source": [
    "import torch\n",
    "import torchvision\n",
    "import torch.nn as nn\n",
    "import torch.nn.functional as F\n",
    "import torchvision.transforms as transforms\n",
    "from torch.utils.data.dataloader import DataLoader\n",
    "from torch.utils.data import random_split\n",
    "import numpy as np\n",
    "import matplotlib.pyplot as plt\n",
    "import os\n",
    "from tqdm import tqdm"
   ],
   "outputs": [],
   "metadata": {}
  },
  {
   "cell_type": "markdown",
   "source": [
    "# Dataloader"
   ],
   "metadata": {}
  },
  {
   "cell_type": "code",
   "execution_count": 2,
   "source": [
    "train_dataset = torchvision.datasets.CIFAR10(root='./data', train=True, transform=transforms.ToTensor(), download=True)\n",
    "test_dataset = torchvision.datasets.CIFAR10(root='./data', train=False, transform=transforms.ToTensor(), download=True)\n",
    "train_dataset,validation_dataset = random_split(train_dataset,[round(0.9 * len(train_dataset)), round(0.1 * len(train_dataset))])"
   ],
   "outputs": [
    {
     "output_type": "stream",
     "name": "stdout",
     "text": [
      "Files already downloaded and verified\n",
      "Files already downloaded and verified\n"
     ]
    }
   ],
   "metadata": {}
  },
  {
   "cell_type": "code",
   "execution_count": 3,
   "source": [
    "BATCH_SIZE = 128\n",
    "SHUFFLE = True\n",
    "train_loader = DataLoader(train_dataset, batch_size=BATCH_SIZE, num_workers=4, shuffle=SHUFFLE)\n",
    "test_loader = DataLoader(test_dataset, batch_size=BATCH_SIZE, num_workers=4, shuffle=SHUFFLE)\n",
    "val_loader = DataLoader(validation_dataset, batch_size=BATCH_SIZE, num_workers=4, shuffle=SHUFFLE)\n"
   ],
   "outputs": [],
   "metadata": {}
  },
  {
   "cell_type": "markdown",
   "source": [
    "## Visualizing Data"
   ],
   "metadata": {}
  },
  {
   "cell_type": "code",
   "execution_count": null,
   "source": [],
   "outputs": [],
   "metadata": {}
  },
  {
   "cell_type": "markdown",
   "source": [
    "# Model"
   ],
   "metadata": {}
  },
  {
   "cell_type": "code",
   "execution_count": 4,
   "source": [
    "class SCNN(nn.Module):\n",
    "    def __init__(self) -> None:\n",
    "        super().__init__()\n",
    "\n",
    "        #Conv Block 1\n",
    "        #(Nx3x32x32) -> (Nx16x32x32) \n",
    "        conv1 = nn.Conv2d(in_channels=3,out_channels=16,kernel_size=5,padding=2)\n",
    "        relu1 = nn.ReLU()\n",
    "\n",
    "        #Conv Block 2\n",
    "        #(Nx16x32x32) -> (Nx32x28x28)\n",
    "        conv2 = nn.Conv2d(in_channels=16, out_channels=32,\n",
    "                          kernel_size=5, stride = 1)\n",
    "        relu2 = nn.ReLU()\n",
    "        #(Nx32x28x28) -> (Nx32x14x14)\n",
    "        pool2 = nn.MaxPool2d(kernel_size=2, stride=2)\n",
    "        \n",
    "        #Conv Block 3\n",
    "        #(Nx32x14x14) -> (Nx64x12x12)\n",
    "        conv3 = nn.Conv2d(in_channels=32, out_channels=64,\n",
    "                          kernel_size=3, padding=0,stride=1)\n",
    "        relu3 = nn.ReLU()\n",
    "\n",
    "        #Conv Block 4\n",
    "        #(Nx64x12x12) -> (Nx128x8x8)\n",
    "        conv4 = nn.Conv2d(in_channels=64, out_channels=128,\n",
    "                          kernel_size=5, stride = 1,padding=0)\n",
    "        relu4 = nn.ReLU()\n",
    "        #(Nx128x8x8) -> (Nx128x4x4)\n",
    "        pool4 = nn.MaxPool2d(kernel_size=2, stride=2)\n",
    "\n",
    "\n",
    "        self.layer1 = nn.Sequential(conv1, relu1)\n",
    "        self.layer2 = nn.Sequential(conv2, relu2, pool2)\n",
    "        self.layer3 = nn.Sequential(conv3,relu3)\n",
    "        self.layer4 = nn.Sequential(conv4, relu4, pool4)\n",
    "        \n",
    "        in_dim = 128*4*4\n",
    "        fc1 = nn.Linear(in_dim,512)\n",
    "        fc2 = nn.Linear(512,10)\n",
    "\n",
    "        self.fc_layer = nn.Sequential(nn.Flatten(start_dim=1),fc1,nn.ReLU(),fc2)\n",
    "\n",
    "\n",
    "    def forward(self, x):\n",
    "        \n",
    "        out1 = self.layer1(x)\n",
    "        \n",
    "        out2 = self.layer2(out1)\n",
    "        out3 = self.layer3(out2)\n",
    "        out4 = self.layer4(out3)\n",
    "        y = self.fc_layer(out4)\n",
    "\n",
    "        return y\n",
    "\n",
    "def count_model_params(model):\n",
    "    \"\"\" Counting the number of learnable parameters in a nn.Module \"\"\"\n",
    "    num_params = sum(p.numel() for p in model.parameters() if p.requires_grad)\n",
    "    return num_params"
   ],
   "outputs": [],
   "metadata": {}
  },
  {
   "cell_type": "code",
   "execution_count": 5,
   "source": [
    "cnn = SCNN()\n",
    "params = count_model_params(cnn)\n",
    "print(cnn)\n",
    "print(f\"Model has {params} learnable parameters\")\n"
   ],
   "outputs": [
    {
     "output_type": "stream",
     "name": "stdout",
     "text": [
      "SCNN(\n",
      "  (layer1): Sequential(\n",
      "    (0): Conv2d(3, 16, kernel_size=(5, 5), stride=(1, 1), padding=(2, 2))\n",
      "    (1): ReLU()\n",
      "  )\n",
      "  (layer2): Sequential(\n",
      "    (0): Conv2d(16, 32, kernel_size=(5, 5), stride=(1, 1))\n",
      "    (1): ReLU()\n",
      "    (2): MaxPool2d(kernel_size=2, stride=2, padding=0, dilation=1, ceil_mode=False)\n",
      "  )\n",
      "  (layer3): Sequential(\n",
      "    (0): Conv2d(32, 64, kernel_size=(3, 3), stride=(1, 1))\n",
      "    (1): ReLU()\n",
      "  )\n",
      "  (layer4): Sequential(\n",
      "    (0): Conv2d(64, 128, kernel_size=(5, 5), stride=(1, 1))\n",
      "    (1): ReLU()\n",
      "    (2): MaxPool2d(kernel_size=2, stride=2, padding=0, dilation=1, ceil_mode=False)\n",
      "  )\n",
      "  (fc_layer): Sequential(\n",
      "    (0): Flatten(start_dim=1, end_dim=-1)\n",
      "    (1): Linear(in_features=2048, out_features=512, bias=True)\n",
      "    (2): ReLU()\n",
      "    (3): Linear(in_features=512, out_features=10, bias=True)\n",
      "  )\n",
      ")\n",
      "Model has 1291690 learnable parameters\n"
     ]
    }
   ],
   "metadata": {}
  },
  {
   "cell_type": "markdown",
   "source": [
    "# Training"
   ],
   "metadata": {}
  },
  {
   "cell_type": "markdown",
   "source": [
    "## Parameters for training"
   ],
   "metadata": {}
  },
  {
   "cell_type": "code",
   "execution_count": 6,
   "source": [
    "LR = 3e-4\n",
    "EPOCHS = 100"
   ],
   "outputs": [],
   "metadata": {}
  },
  {
   "cell_type": "code",
   "execution_count": 7,
   "source": [
    "device = torch.device(\"cuda\" if torch.cuda.is_available() else \"cpu\")\n",
    "\n",
    "cnn = cnn.to(device)"
   ],
   "outputs": [],
   "metadata": {}
  },
  {
   "cell_type": "code",
   "execution_count": 8,
   "source": [
    "criterion = nn.CrossEntropyLoss().to(device)\n",
    "optimizer = torch.optim.Adam(params=cnn.parameters(), lr=LR)"
   ],
   "outputs": [],
   "metadata": {}
  },
  {
   "cell_type": "code",
   "execution_count": 9,
   "source": [
    "for epoch in range(EPOCHS):\n",
    "    progress_bar = tqdm(enumerate(train_loader), total=len(train_loader))\n",
    "    for i,(images,labels) in progress_bar:\n",
    "\n",
    "        x = images.to(device)\n",
    "        y_train = labels.to(device)\n",
    "\n",
    "        # Clear gradients w.r.t. parameters\n",
    "        optimizer.zero_grad()\n",
    "\n",
    "        # Forward pass to get output/logits\n",
    "        outputs = cnn(x)\n",
    "\n",
    "        # Calculate Loss: softmax --> cross entropy loss\n",
    "        loss = criterion(outputs, y_train)\n",
    "\n",
    "        # Getting gradients w.r.t. parameters\n",
    "        loss.backward()\n",
    "\n",
    "        # Updating parameters\n",
    "        optimizer.step()\n",
    "        progress_bar.set_description(f\"Epoch {epoch+1} Iter {i+1}: loss {loss.item():.5f}. \")\n"
   ],
   "outputs": [
    {
     "output_type": "stream",
     "name": "stderr",
     "text": [
      "Epoch 1 Iter 352: loss 1.60483. : 100%|██████████| 352/352 [00:03<00:00, 107.37it/s]\n",
      "Epoch 2 Iter 352: loss 1.34973. : 100%|██████████| 352/352 [00:02<00:00, 120.57it/s]\n",
      "Epoch 3 Iter 352: loss 1.21989. : 100%|██████████| 352/352 [00:02<00:00, 121.38it/s]\n",
      "Epoch 4 Iter 352: loss 1.14208. : 100%|██████████| 352/352 [00:02<00:00, 122.80it/s]\n",
      "Epoch 5 Iter 352: loss 0.97450. : 100%|██████████| 352/352 [00:02<00:00, 121.05it/s]\n",
      "Epoch 6 Iter 352: loss 1.12144. : 100%|██████████| 352/352 [00:02<00:00, 120.61it/s]\n",
      "Epoch 7 Iter 352: loss 1.13205. : 100%|██████████| 352/352 [00:02<00:00, 121.80it/s]\n",
      "Epoch 8 Iter 352: loss 1.21765. : 100%|██████████| 352/352 [00:02<00:00, 120.90it/s]\n",
      "Epoch 9 Iter 352: loss 0.94093. : 100%|██████████| 352/352 [00:03<00:00, 116.76it/s]\n",
      "Epoch 10 Iter 352: loss 0.89889. : 100%|██████████| 352/352 [00:02<00:00, 120.36it/s]\n",
      "Epoch 11 Iter 352: loss 0.58987. : 100%|██████████| 352/352 [00:02<00:00, 120.53it/s]\n",
      "Epoch 12 Iter 352: loss 0.63147. : 100%|██████████| 352/352 [00:02<00:00, 118.76it/s]\n",
      "Epoch 13 Iter 352: loss 0.57975. : 100%|██████████| 352/352 [00:02<00:00, 120.10it/s]\n",
      "Epoch 14 Iter 352: loss 0.44878. : 100%|██████████| 352/352 [00:02<00:00, 119.63it/s]\n",
      "Epoch 15 Iter 352: loss 0.63470. : 100%|██████████| 352/352 [00:02<00:00, 120.82it/s]\n",
      "Epoch 16 Iter 352: loss 0.62622. : 100%|██████████| 352/352 [00:02<00:00, 118.74it/s]\n",
      "Epoch 17 Iter 352: loss 0.41733. : 100%|██████████| 352/352 [00:03<00:00, 115.25it/s]\n",
      "Epoch 18 Iter 352: loss 0.51489. : 100%|██████████| 352/352 [00:02<00:00, 120.31it/s]\n",
      "Epoch 19 Iter 352: loss 0.36233. : 100%|██████████| 352/352 [00:02<00:00, 120.12it/s]\n",
      "Epoch 20 Iter 352: loss 0.45852. : 100%|██████████| 352/352 [00:02<00:00, 119.75it/s]\n",
      "Epoch 21 Iter 352: loss 0.37495. : 100%|██████████| 352/352 [00:02<00:00, 120.19it/s]\n",
      "Epoch 22 Iter 352: loss 0.24988. : 100%|██████████| 352/352 [00:02<00:00, 119.90it/s]\n",
      "Epoch 23 Iter 352: loss 0.18879. : 100%|██████████| 352/352 [00:02<00:00, 118.69it/s]\n",
      "Epoch 24 Iter 352: loss 0.30090. : 100%|██████████| 352/352 [00:02<00:00, 120.91it/s]\n",
      "Epoch 25 Iter 352: loss 0.14611. : 100%|██████████| 352/352 [00:02<00:00, 118.25it/s]\n",
      "Epoch 26 Iter 352: loss 0.14999. : 100%|██████████| 352/352 [00:02<00:00, 119.36it/s]\n",
      "Epoch 27 Iter 352: loss 0.17893. : 100%|██████████| 352/352 [00:02<00:00, 120.15it/s]\n",
      "Epoch 28 Iter 352: loss 0.08420. : 100%|██████████| 352/352 [00:02<00:00, 119.74it/s]\n",
      "Epoch 29 Iter 352: loss 0.12838. : 100%|██████████| 352/352 [00:02<00:00, 118.69it/s]\n",
      "Epoch 30 Iter 352: loss 0.09712. : 100%|██████████| 352/352 [00:02<00:00, 122.90it/s]\n",
      "Epoch 31 Iter 352: loss 0.08628. : 100%|██████████| 352/352 [00:02<00:00, 123.39it/s]\n",
      "Epoch 32 Iter 352: loss 0.03891. : 100%|██████████| 352/352 [00:02<00:00, 122.67it/s]\n",
      "Epoch 33 Iter 352: loss 0.08966. : 100%|██████████| 352/352 [00:02<00:00, 120.87it/s]\n",
      "Epoch 34 Iter 352: loss 0.03724. : 100%|██████████| 352/352 [00:02<00:00, 121.14it/s]\n",
      "Epoch 35 Iter 352: loss 0.06494. : 100%|██████████| 352/352 [00:02<00:00, 122.77it/s]\n",
      "Epoch 36 Iter 352: loss 0.05303. : 100%|██████████| 352/352 [00:02<00:00, 122.92it/s]\n",
      "Epoch 37 Iter 352: loss 0.02698. : 100%|██████████| 352/352 [00:02<00:00, 123.52it/s]\n",
      "Epoch 38 Iter 352: loss 0.12053. : 100%|██████████| 352/352 [00:02<00:00, 122.91it/s]\n",
      "Epoch 39 Iter 352: loss 0.16321. : 100%|██████████| 352/352 [00:02<00:00, 122.71it/s]\n",
      "Epoch 40 Iter 352: loss 0.06277. : 100%|██████████| 352/352 [00:02<00:00, 124.30it/s]\n",
      "Epoch 41 Iter 352: loss 0.09386. : 100%|██████████| 352/352 [00:02<00:00, 121.87it/s]\n",
      "Epoch 42 Iter 352: loss 0.05574. : 100%|██████████| 352/352 [00:02<00:00, 122.66it/s]\n",
      "Epoch 43 Iter 352: loss 0.07831. : 100%|██████████| 352/352 [00:02<00:00, 123.79it/s]\n",
      "Epoch 44 Iter 352: loss 0.08373. : 100%|██████████| 352/352 [00:02<00:00, 121.90it/s]\n",
      "Epoch 45 Iter 352: loss 0.06348. : 100%|██████████| 352/352 [00:02<00:00, 122.56it/s]\n",
      "Epoch 46 Iter 352: loss 0.13655. : 100%|██████████| 352/352 [00:02<00:00, 121.17it/s]\n",
      "Epoch 47 Iter 352: loss 0.08822. : 100%|██████████| 352/352 [00:02<00:00, 123.69it/s]\n",
      "Epoch 48 Iter 352: loss 0.01813. : 100%|██████████| 352/352 [00:02<00:00, 124.20it/s]\n",
      "Epoch 49 Iter 352: loss 0.05019. : 100%|██████████| 352/352 [00:02<00:00, 121.56it/s]\n",
      "Epoch 50 Iter 352: loss 0.01703. : 100%|██████████| 352/352 [00:02<00:00, 123.17it/s]\n",
      "Epoch 51 Iter 352: loss 0.00364. : 100%|██████████| 352/352 [00:02<00:00, 124.65it/s]\n",
      "Epoch 52 Iter 352: loss 0.06053. : 100%|██████████| 352/352 [00:02<00:00, 124.25it/s]\n",
      "Epoch 53 Iter 352: loss 0.04412. : 100%|██████████| 352/352 [00:02<00:00, 125.15it/s]\n",
      "Epoch 54 Iter 352: loss 0.04479. : 100%|██████████| 352/352 [00:02<00:00, 125.04it/s]\n",
      "Epoch 55 Iter 352: loss 0.00256. : 100%|██████████| 352/352 [00:02<00:00, 123.24it/s]\n",
      "Epoch 56 Iter 352: loss 0.01631. : 100%|██████████| 352/352 [00:02<00:00, 125.28it/s]\n",
      "Epoch 57 Iter 352: loss 0.01218. : 100%|██████████| 352/352 [00:02<00:00, 125.05it/s]\n",
      "Epoch 58 Iter 352: loss 0.00057. : 100%|██████████| 352/352 [00:02<00:00, 123.50it/s]\n",
      "Epoch 59 Iter 352: loss 0.00785. : 100%|██████████| 352/352 [00:02<00:00, 126.58it/s]\n",
      "Epoch 60 Iter 352: loss 0.01617. : 100%|██████████| 352/352 [00:02<00:00, 121.08it/s]\n",
      "Epoch 61 Iter 352: loss 0.05289. : 100%|██████████| 352/352 [00:02<00:00, 120.55it/s]\n",
      "Epoch 62 Iter 352: loss 0.02274. : 100%|██████████| 352/352 [00:02<00:00, 118.52it/s]\n",
      "Epoch 63 Iter 352: loss 0.06020. : 100%|██████████| 352/352 [00:02<00:00, 120.18it/s]\n",
      "Epoch 64 Iter 352: loss 0.02426. : 100%|██████████| 352/352 [00:02<00:00, 121.83it/s]\n",
      "Epoch 65 Iter 352: loss 0.04428. : 100%|██████████| 352/352 [00:02<00:00, 121.25it/s]\n",
      "Epoch 66 Iter 352: loss 0.01368. : 100%|██████████| 352/352 [00:02<00:00, 121.73it/s]\n",
      "Epoch 67 Iter 352: loss 0.01074. : 100%|██████████| 352/352 [00:02<00:00, 122.07it/s]\n",
      "Epoch 68 Iter 352: loss 0.00820. : 100%|██████████| 352/352 [00:02<00:00, 123.43it/s]\n",
      "Epoch 69 Iter 352: loss 0.00284. : 100%|██████████| 352/352 [00:02<00:00, 125.21it/s]\n",
      "Epoch 70 Iter 352: loss 0.01304. : 100%|██████████| 352/352 [00:02<00:00, 119.58it/s]\n",
      "Epoch 71 Iter 352: loss 0.01559. : 100%|██████████| 352/352 [00:02<00:00, 125.04it/s]\n",
      "Epoch 72 Iter 352: loss 0.02075. : 100%|██████████| 352/352 [00:02<00:00, 124.09it/s]\n",
      "Epoch 73 Iter 352: loss 0.03005. : 100%|██████████| 352/352 [00:02<00:00, 128.43it/s]\n",
      "Epoch 74 Iter 352: loss 0.00038. : 100%|██████████| 352/352 [00:02<00:00, 131.49it/s]\n",
      "Epoch 75 Iter 352: loss 0.00163. : 100%|██████████| 352/352 [00:02<00:00, 127.84it/s]\n",
      "Epoch 76 Iter 352: loss 0.00974. : 100%|██████████| 352/352 [00:02<00:00, 130.12it/s]\n",
      "Epoch 77 Iter 352: loss 0.03018. : 100%|██████████| 352/352 [00:02<00:00, 125.80it/s]\n",
      "Epoch 78 Iter 352: loss 0.03735. : 100%|██████████| 352/352 [00:02<00:00, 125.40it/s]\n",
      "Epoch 79 Iter 352: loss 0.00337. : 100%|██████████| 352/352 [00:02<00:00, 126.07it/s]\n",
      "Epoch 80 Iter 352: loss 0.02714. : 100%|██████████| 352/352 [00:02<00:00, 124.96it/s]\n",
      "Epoch 81 Iter 352: loss 0.01410. : 100%|██████████| 352/352 [00:02<00:00, 131.21it/s]\n",
      "Epoch 82 Iter 352: loss 0.05646. : 100%|██████████| 352/352 [00:02<00:00, 130.57it/s]\n",
      "Epoch 83 Iter 352: loss 0.01431. : 100%|██████████| 352/352 [00:02<00:00, 126.02it/s]\n",
      "Epoch 84 Iter 352: loss 0.00092. : 100%|██████████| 352/352 [00:02<00:00, 128.31it/s]\n",
      "Epoch 85 Iter 352: loss 0.10214. : 100%|██████████| 352/352 [00:02<00:00, 130.73it/s]\n",
      "Epoch 86 Iter 352: loss 0.01211. : 100%|██████████| 352/352 [00:02<00:00, 127.75it/s]\n",
      "Epoch 87 Iter 352: loss 0.04391. : 100%|██████████| 352/352 [00:02<00:00, 125.24it/s]\n",
      "Epoch 88 Iter 352: loss 0.00668. : 100%|██████████| 352/352 [00:02<00:00, 128.31it/s]\n",
      "Epoch 89 Iter 352: loss 0.01744. : 100%|██████████| 352/352 [00:02<00:00, 122.43it/s]\n",
      "Epoch 90 Iter 352: loss 0.00215. : 100%|██████████| 352/352 [00:02<00:00, 126.82it/s]\n",
      "Epoch 91 Iter 352: loss 0.00816. : 100%|██████████| 352/352 [00:02<00:00, 121.30it/s]\n",
      "Epoch 92 Iter 352: loss 0.02576. : 100%|██████████| 352/352 [00:02<00:00, 122.80it/s]\n",
      "Epoch 93 Iter 352: loss 0.06890. : 100%|██████████| 352/352 [00:02<00:00, 121.42it/s]\n",
      "Epoch 94 Iter 352: loss 0.04870. : 100%|██████████| 352/352 [00:02<00:00, 122.16it/s]\n",
      "Epoch 95 Iter 352: loss 0.00101. : 100%|██████████| 352/352 [00:02<00:00, 122.76it/s]\n",
      "Epoch 96 Iter 352: loss 0.01820. : 100%|██████████| 352/352 [00:02<00:00, 124.06it/s]\n",
      "Epoch 97 Iter 352: loss 0.03987. : 100%|██████████| 352/352 [00:02<00:00, 120.87it/s]\n",
      "Epoch 98 Iter 352: loss 0.00790. : 100%|██████████| 352/352 [00:02<00:00, 122.98it/s]\n",
      "Epoch 99 Iter 352: loss 0.00242. : 100%|██████████| 352/352 [00:02<00:00, 123.60it/s]\n",
      "Epoch 100 Iter 352: loss 0.00188. : 100%|██████████| 352/352 [00:02<00:00, 123.09it/s]\n"
     ]
    }
   ],
   "metadata": {}
  },
  {
   "cell_type": "code",
   "execution_count": null,
   "source": [],
   "outputs": [],
   "metadata": {}
  }
 ],
 "metadata": {
  "orig_nbformat": 4,
  "language_info": {
   "name": "python",
   "version": "3.7.10",
   "mimetype": "text/x-python",
   "codemirror_mode": {
    "name": "ipython",
    "version": 3
   },
   "pygments_lexer": "ipython3",
   "nbconvert_exporter": "python",
   "file_extension": ".py"
  },
  "kernelspec": {
   "name": "python3",
   "display_name": "Python 3.7.10 64-bit ('dl': conda)"
  },
  "interpreter": {
   "hash": "f7881038a8c0c2c5168ac80e20ff544f471faf7d5bc66c5653256549b0169354"
  }
 },
 "nbformat": 4,
 "nbformat_minor": 2
}