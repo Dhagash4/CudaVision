{
 "cells": [
  {
   "cell_type": "markdown",
   "source": [
    "# Import"
   ],
   "metadata": {}
  },
  {
   "cell_type": "code",
   "execution_count": 2,
   "source": [
    "import torch\n",
    "import torchvision\n",
    "import torch.nn as nn\n",
    "import torch.nn.functional as F\n",
    "import torchvision.transforms as transforms\n",
    "from torch.utils.data.dataloader import DataLoader\n",
    "from torch.utils.data import random_split\n",
    "from torchvision.utils import make_grid\n",
    "\n",
    "import numpy as np\n",
    "import matplotlib.pyplot as plt\n",
    "import os\n",
    "from tqdm import tqdm\n",
    "from typing import Tuple, NoReturn\n",
    "import seaborn as sns\n"
   ],
   "outputs": [],
   "metadata": {}
  },
  {
   "cell_type": "markdown",
   "source": [
    "# Dataloader"
   ],
   "metadata": {}
  },
  {
   "cell_type": "code",
   "execution_count": 3,
   "source": [
    "#Transforms from https://pytorch.org/tutorials/beginner/blitz/cifar10_tutorial.html\n",
    "\n",
    "transform = transforms.Compose(\n",
    "    [transforms.ToTensor(),\n",
    "     transforms.Normalize((0.5, 0.5, 0.5), (0.5, 0.5, 0.5))])\n",
    "\n",
    "train_dataset = torchvision.datasets.CIFAR10(root='./data', train=True, transform=transform, download=True)\n",
    "test_dataset = torchvision.datasets.CIFAR10(root='./data', train=False, transform=transform, download=True)\n",
    "train_dataset,validation_dataset = random_split(train_dataset,[round(0.9 * len(train_dataset)), round(0.1 * len(train_dataset))])"
   ],
   "outputs": [
    {
     "output_type": "stream",
     "name": "stdout",
     "text": [
      "Files already downloaded and verified\n",
      "Files already downloaded and verified\n"
     ]
    }
   ],
   "metadata": {}
  },
  {
   "cell_type": "code",
   "execution_count": 5,
   "source": [
    "BATCH_SIZE = 128\n",
    "SHUFFLE = True\n",
    "train_loader = DataLoader(train_dataset, batch_size=BATCH_SIZE, num_workers=4, shuffle=SHUFFLE)\n",
    "test_loader = DataLoader(test_dataset, batch_size=BATCH_SIZE, num_workers=4, shuffle=SHUFFLE)\n",
    "val_loader = DataLoader(validation_dataset, batch_size=BATCH_SIZE, num_workers=4, shuffle=SHUFFLE)\n"
   ],
   "outputs": [],
   "metadata": {}
  },
  {
   "cell_type": "markdown",
   "source": [
    "## Visualizing Data"
   ],
   "metadata": {}
  },
  {
   "cell_type": "code",
   "execution_count": null,
   "source": [],
   "outputs": [],
   "metadata": {}
  },
  {
   "cell_type": "markdown",
   "source": [
    "# Model"
   ],
   "metadata": {}
  },
  {
   "cell_type": "code",
   "execution_count": 6,
   "source": [
    "class SCNN(nn.Module):\n",
    "    def __init__(self, activation: str, batch_norm: str, dropout: bool) -> None:\n",
    "        super().__init__()\n",
    "\n",
    "        #BASE MODEL\n",
    "     \n",
    "        #VGG Style architecture\n",
    "\n",
    "        #Conv Block 1\n",
    "        #(Nx3x32x32) -> (Nx32x16x16)\n",
    "        conv1_1 = nn.Conv2d(in_channels=3, out_channels=32,\n",
    "                          kernel_size=3, padding=1)\n",
    "        conv1_2 = nn.Conv2d(in_channels=32, out_channels=32,\n",
    "                          kernel_size=3, padding=1)\n",
    "        pool1 = nn.MaxPool2d(kernel_size=2, stride=2)\n",
    "\n",
    "        #Conv Block 2\n",
    "        #(Nx32x16x16) -> (Nx64x8x8)\n",
    "        conv2_1 = nn.Conv2d(in_channels=32, out_channels=64,\n",
    "                            kernel_size=3, padding=1)\n",
    "        conv2_2 = nn.Conv2d(in_channels=64, out_channels=64,\n",
    "                            kernel_size=3, padding=1)\n",
    "        pool2 = nn.MaxPool2d(kernel_size=2, stride=2)\n",
    "\n",
    "        #Conv Block 3\n",
    "        #(Nx64x8x8) -> (Nx128x4x4)\n",
    "        conv3_1 = nn.Conv2d(in_channels=64, out_channels=128,\n",
    "                            kernel_size=3, padding=1)\n",
    "        conv3_2 = nn.Conv2d(in_channels=128, out_channels=128,\n",
    "                            kernel_size=3, padding=1)\n",
    "        pool3 = nn.MaxPool2d(kernel_size=2, stride=2)\n",
    "        \n",
    "        in_dim = 128*4*4\n",
    "        fc1 = nn.Linear(in_dim,128)\n",
    "        fc2 = nn.Linear(128,10)\n",
    "\n",
    "        activation_layer = None\n",
    "        dropout_layer = None\n",
    "        if activation == 'relu':\n",
    "            activation_layer = nn.ReLU()\n",
    "        elif activation == 'lrelu':\n",
    "            activation_layer = nn.LeakyReLU()\n",
    "        else:\n",
    "            if activation == 'elu':\n",
    "                activation_layer = nn.ELU()\n",
    "\n",
    "\n",
    "        self.conv_net = nn.Sequential(conv1_1,\n",
    "                                      activation_layer,\n",
    "                                      conv1_2,\n",
    "                                      activation_layer,\n",
    "                                      pool1,\n",
    "                                      conv2_1,\n",
    "                                      activation_layer,\n",
    "                                      conv2_2,\n",
    "                                      activation_layer,\n",
    "                                      pool2,\n",
    "                                      conv3_1,\n",
    "                                      activation_layer,\n",
    "                                      conv3_2,\n",
    "                                      activation_layer,\n",
    "                                      pool3,\n",
    "                                      nn.Flatten(start_dim=1),\n",
    "                                      fc1,\n",
    "                                      fc2)\n",
    "\n",
    "        if batch_norm == 'bnorm':\n",
    "            bnorm1_1 = nn.BatchNorm2d(32)\n",
    "            bnorm1_2 = nn.BatchNorm2d(32)\n",
    "            bnorm2_1 = nn.BatchNorm2d(64)\n",
    "            bnorm2_2 = nn.BatchNorm2d(64)\n",
    "            bnorm3_1 = nn.BatchNorm2d(128)\n",
    "            bnorm3_2 = nn.BatchNorm2d(128)\n",
    "\n",
    "            self.conv_net = nn.Sequential(conv1_1,\n",
    "                                          bnorm1_1,\n",
    "                                          activation_layer,\n",
    "                                          conv1_2,\n",
    "                                          bnorm1_2,\n",
    "                                          activation_layer,\n",
    "                                          pool1,\n",
    "                                          conv2_1,\n",
    "                                          bnorm2_1,\n",
    "                                          activation_layer,\n",
    "                                          conv2_2,\n",
    "                                          bnorm2_2,\n",
    "                                          activation_layer,\n",
    "                                          pool2,\n",
    "                                          conv3_1,\n",
    "                                          bnorm3_1,\n",
    "                                          activation_layer,\n",
    "                                          conv3_2,\n",
    "                                          bnorm3_2,\n",
    "                                          activation_layer,\n",
    "                                          pool3,\n",
    "                                          nn.Flatten(start_dim=1),\n",
    "                                          fc1,\n",
    "                                          activation_layer,\n",
    "                                          fc2)\n",
    "        elif batch_norm == 'gnorm':\n",
    "\n",
    "            gnorm1_1 = nn.GroupNorm(8, 32)\n",
    "            gnorm1_2 = nn.GroupNorm(8, 32)\n",
    "            gnorm2_1 = nn.GroupNorm(8, 64)\n",
    "            gnorm2_2 = nn.GroupNorm(8, 64)\n",
    "            gnorm3_1 = nn.GroupNorm(8, 128)\n",
    "            gnorm3_2 = nn.GroupNorm(8, 128)\n",
    "\n",
    "            self.conv_net = nn.Sequential(conv1_1,\n",
    "                                          gnorm1_1,\n",
    "                                          activation_layer,\n",
    "                                          conv1_2,\n",
    "                                          gnorm1_2,\n",
    "                                          activation_layer,\n",
    "                                          pool1,\n",
    "                                          conv2_1,\n",
    "                                          gnorm2_1,\n",
    "                                          activation_layer,\n",
    "                                          conv2_2,\n",
    "                                          gnorm2_2,\n",
    "                                          activation_layer,\n",
    "                                          pool2,\n",
    "                                          conv3_1,\n",
    "                                          gnorm3_1,\n",
    "                                          activation_layer,\n",
    "                                          conv3_2,\n",
    "                                          gnorm3_2,\n",
    "                                          activation_layer,\n",
    "                                          pool3,\n",
    "                                          nn.Flatten(start_dim=1),\n",
    "                                          fc1,\n",
    "                                          activation_layer,\n",
    "                                          fc2)\n",
    "\n",
    "        else:\n",
    "            pass\n",
    "\n",
    "\n",
    "\n",
    "\n",
    "        #############################################################################################\n",
    "        #Add dropout in similar way, so one code for all\n",
    "        ###############################################################################################\n",
    "\n",
    "    def forward(self, x):\n",
    "        \n",
    "        \n",
    "        y = self.conv_net(x)\n",
    "\n",
    "        return y\n",
    "\n",
    "def count_model_params(model):\n",
    "    \"\"\" Counting the number of learnable parameters in a nn.Module \"\"\"\n",
    "    num_params = sum(p.numel() for p in model.parameters() if p.requires_grad)\n",
    "    return num_params"
   ],
   "outputs": [],
   "metadata": {}
  },
  {
   "cell_type": "code",
   "execution_count": 7,
   "source": [
    "cnn = SCNN(activation='relu',batch_norm='bnorm',dropout=False)\n",
    "params = count_model_params(cnn)\n",
    "print(cnn)\n",
    "print(f\"Model has {params} learnable parameters\")\n"
   ],
   "outputs": [
    {
     "output_type": "stream",
     "name": "stdout",
     "text": [
      "SCNN(\n",
      "  (conv_net): Sequential(\n",
      "    (0): Conv2d(3, 32, kernel_size=(3, 3), stride=(1, 1), padding=(1, 1))\n",
      "    (1): BatchNorm2d(32, eps=1e-05, momentum=0.1, affine=True, track_running_stats=True)\n",
      "    (2): ReLU()\n",
      "    (3): Conv2d(32, 32, kernel_size=(3, 3), stride=(1, 1), padding=(1, 1))\n",
      "    (4): BatchNorm2d(32, eps=1e-05, momentum=0.1, affine=True, track_running_stats=True)\n",
      "    (5): ReLU()\n",
      "    (6): MaxPool2d(kernel_size=2, stride=2, padding=0, dilation=1, ceil_mode=False)\n",
      "    (7): Conv2d(32, 64, kernel_size=(3, 3), stride=(1, 1), padding=(1, 1))\n",
      "    (8): BatchNorm2d(64, eps=1e-05, momentum=0.1, affine=True, track_running_stats=True)\n",
      "    (9): ReLU()\n",
      "    (10): Conv2d(64, 64, kernel_size=(3, 3), stride=(1, 1), padding=(1, 1))\n",
      "    (11): BatchNorm2d(64, eps=1e-05, momentum=0.1, affine=True, track_running_stats=True)\n",
      "    (12): ReLU()\n",
      "    (13): MaxPool2d(kernel_size=2, stride=2, padding=0, dilation=1, ceil_mode=False)\n",
      "    (14): Conv2d(64, 128, kernel_size=(3, 3), stride=(1, 1), padding=(1, 1))\n",
      "    (15): BatchNorm2d(128, eps=1e-05, momentum=0.1, affine=True, track_running_stats=True)\n",
      "    (16): ReLU()\n",
      "    (17): Conv2d(128, 128, kernel_size=(3, 3), stride=(1, 1), padding=(1, 1))\n",
      "    (18): BatchNorm2d(128, eps=1e-05, momentum=0.1, affine=True, track_running_stats=True)\n",
      "    (19): ReLU()\n",
      "    (20): MaxPool2d(kernel_size=2, stride=2, padding=0, dilation=1, ceil_mode=False)\n",
      "    (21): Flatten(start_dim=1, end_dim=-1)\n",
      "    (22): Linear(in_features=2048, out_features=128, bias=True)\n",
      "    (23): ReLU()\n",
      "    (24): Linear(in_features=128, out_features=10, bias=True)\n",
      "  )\n",
      ")\n",
      "Model has 551466 learnable parameters\n"
     ]
    }
   ],
   "metadata": {}
  },
  {
   "cell_type": "markdown",
   "source": [
    "# Training"
   ],
   "metadata": {}
  },
  {
   "cell_type": "markdown",
   "source": [
    "## Parameters for training"
   ],
   "metadata": {}
  },
  {
   "cell_type": "code",
   "execution_count": 8,
   "source": [
    "LR = 3e-4\n",
    "EPOCHS = 50\n",
    "EVAL_FREQ = 1\n",
    "SAVE_FREQ = 10\n",
    "val_loss = 1000"
   ],
   "outputs": [],
   "metadata": {}
  },
  {
   "cell_type": "code",
   "execution_count": 10,
   "source": [
    "stats = {\n",
    "    \"epoch\": [],\n",
    "    \"train_loss\": [],\n",
    "    \"valid_loss\": [],\n",
    "    \"accuracy\": []\n",
    "}\n",
    "init_epoch = 0"
   ],
   "outputs": [],
   "metadata": {}
  },
  {
   "cell_type": "code",
   "execution_count": 11,
   "source": [
    "device = torch.device(\"cuda\" if torch.cuda.is_available() else \"cpu\")\n",
    "\n",
    "cnn = cnn.to(device)"
   ],
   "outputs": [],
   "metadata": {}
  },
  {
   "cell_type": "code",
   "execution_count": 12,
   "source": [
    "criterion = nn.CrossEntropyLoss().to(device)\n",
    "optimizer = torch.optim.Adam(params=cnn.parameters(), lr=LR)"
   ],
   "outputs": [],
   "metadata": {}
  },
  {
   "cell_type": "code",
   "execution_count": 13,
   "source": [
    "@torch.no_grad()\n",
    "def eval_model(model):\n",
    "    correct = 0\n",
    "    total = 0\n",
    "    loss_list = []\n",
    "\n",
    "    for images, labels in val_loader:\n",
    "        images = images.to(device)\n",
    "        labels = labels.to(device)\n",
    "\n",
    "        # Forward pass only to get logits/output\n",
    "        outputs = model(images)\n",
    "\n",
    "        loss = criterion(outputs, labels)\n",
    "        loss_list.append(loss.item())\n",
    "\n",
    "        # Get predictions from the maximum value\n",
    "        preds = torch.argmax(outputs, dim=1)\n",
    "        correct += len(torch.where(preds == labels)[0])\n",
    "        total += len(labels)\n",
    "\n",
    "    # Total correct predictions and loss\n",
    "    accuracy = correct / total * 100\n",
    "    loss = np.mean(loss_list)\n",
    "    return accuracy, loss\n",
    "\n",
    "\n",
    "def save_model(model, optimizer, epoch, stats, val):\n",
    "    \"\"\" Saving model checkpoint \"\"\"\n",
    "    if(not os.path.exists(\"models\")):\n",
    "        os.makedirs(\"models\")\n",
    "    if (val):\n",
    "\n",
    "        savepath = f\"models/best_val_{stats['model']}.pth\"\n",
    "\n",
    "        torch.save({\n",
    "            'epoch': epoch,\n",
    "            'model_state_dict': model.state_dict(),\n",
    "            'optimizer_state_dict': optimizer.state_dict(),\n",
    "            'stats': stats\n",
    "        }, savepath)\n",
    "        \n",
    "    else:\n",
    "\n",
    "        savepath = f\"models/{stats['model']}_checkpoint_epoch_{epoch}.pth\"\n",
    "\n",
    "        torch.save({\n",
    "            'epoch': epoch,\n",
    "            'model_state_dict': model.state_dict(),\n",
    "            'optimizer_state_dict': optimizer.state_dict(),\n",
    "            'stats': stats\n",
    "        }, savepath)\n",
    "\n",
    "    return\n",
    "\n",
    "\n",
    "def load_model(model, optimizer, savepath):\n",
    "    \"\"\" Loading pretrained checkpoint \"\"\"\n",
    "\n",
    "    checkpoint = torch.load(savepath)\n",
    "    model.load_state_dict(checkpoint['model_state_dict'])\n",
    "    optimizer.load_state_dict(checkpoint['optimizer_state_dict'])\n",
    "    epoch = checkpoint[\"epoch\"]\n",
    "    stats = checkpoint[\"stats\"]\n",
    "\n",
    "    return model, optimizer, epoch, stats\n",
    "\n",
    "\n",
    "def test_model(model):\n",
    "\n",
    "    correct = 0\n",
    "    total = 0\n",
    "\n",
    "    for images, labels in test_loader:\n",
    "        images = images.to(device)\n",
    "        labels = labels.to(device)\n",
    "\n",
    "        # Forward pass only to get logits/output\n",
    "        outputs = model(images)\n",
    "\n",
    "        # Get predictions from the maximum value\n",
    "        preds = torch.argmax(outputs, dim=1)\n",
    "        correct += len(torch.where(preds == labels)[0])\n",
    "        total += len(labels)\n",
    "\n",
    "    # Total correct predictions and loss\n",
    "    accuracy = correct / total * 100\n",
    "    \n",
    "    return accuracy"
   ],
   "outputs": [],
   "metadata": {}
  },
  {
   "cell_type": "code",
   "execution_count": 59,
   "source": [
    "loss_hist = []\n",
    "stats['model'] = 'gnorm'\n",
    "\n",
    "for epoch in range(EPOCHS):\n",
    "    progress_bar = tqdm(enumerate(train_loader), total=len(train_loader))\n",
    "    for i,(images,labels) in progress_bar:\n",
    "\n",
    "        loss_list = []\n",
    "\n",
    "        x = images.to(device)\n",
    "        y_train = labels.to(device)\n",
    "        # Clear gradients w.r.t. parameters\n",
    "        optimizer.zero_grad()\n",
    "\n",
    "        # Forward pass to get output/logits\n",
    "        outputs = cnn(x)\n",
    "\n",
    "        # Calculate Loss: softmax --> cross entropy loss\n",
    "        loss = criterion(outputs, y_train)\n",
    "\n",
    "        # Getting gradients w.r.t. parameters\n",
    "        loss.backward()\n",
    "        loss_list.append(loss.item())\n",
    "\n",
    "        # Updating parameters\n",
    "        optimizer.step()\n",
    "        progress_bar.set_description(f\"Epoch {epoch+1} Iter {i+1}: loss {loss.item():.5f}. \")\n",
    "    \n",
    "    loss_hist.append(np.mean(loss_list))\n",
    "    stats[\"epoch\"].append(epoch)\n",
    "    stats[\"train_loss\"].append(loss_hist[-1])\n",
    "    \n",
    "\n",
    "    if epoch % EVAL_FREQ == 0:\n",
    "        accuracy, valid_loss = eval_model(cnn)\n",
    "        print(f\"Accuracy at epoch {epoch}: {round(accuracy, 2)}%\")\n",
    "    else:\n",
    "        accuracy, valid_loss = -1, -1\n",
    "    \n",
    "    stats[\"accuracy\"].append(accuracy)\n",
    "    stats[\"valid_loss\"].append(valid_loss)\n",
    "\n",
    "\n",
    "    #Saving best validation model\n",
    "    if valid_loss < val_loss:\n",
    "        val_loss = valid_loss\n",
    "        save_model(model=cnn, optimizer=optimizer,\n",
    "                   epoch=epoch, stats=stats, val = True)\n",
    "\n",
    "\n",
    "    if epoch % SAVE_FREQ == 0:\n",
    "        save_model(model=cnn, optimizer=optimizer, epoch=epoch, stats=stats,val = False)\n",
    "\n",
    "\n",
    "save_model(model=cnn, optimizer=optimizer, epoch=epoch, stats=stats, val=False)\n"
   ],
   "outputs": [
    {
     "output_type": "stream",
     "name": "stderr",
     "text": [
      "Epoch 1 Iter 352: loss 0.92120. : 100%|██████████| 352/352 [00:04<00:00, 85.94it/s]\n"
     ]
    },
    {
     "output_type": "stream",
     "name": "stdout",
     "text": [
      "Accuracy at epoch 0: 67.06%\n"
     ]
    },
    {
     "output_type": "stream",
     "name": "stderr",
     "text": [
      "Epoch 2 Iter 352: loss 0.67371. : 100%|██████████| 352/352 [00:04<00:00, 86.72it/s]\n"
     ]
    },
    {
     "output_type": "stream",
     "name": "stdout",
     "text": [
      "Accuracy at epoch 1: 72.42%\n"
     ]
    },
    {
     "output_type": "stream",
     "name": "stderr",
     "text": [
      "Epoch 3 Iter 352: loss 0.67051. : 100%|██████████| 352/352 [00:04<00:00, 86.54it/s]\n"
     ]
    },
    {
     "output_type": "stream",
     "name": "stdout",
     "text": [
      "Accuracy at epoch 2: 75.9%\n"
     ]
    },
    {
     "output_type": "stream",
     "name": "stderr",
     "text": [
      "Epoch 4 Iter 352: loss 0.65194. : 100%|██████████| 352/352 [00:04<00:00, 84.63it/s]\n"
     ]
    },
    {
     "output_type": "stream",
     "name": "stdout",
     "text": [
      "Accuracy at epoch 3: 77.06%\n"
     ]
    },
    {
     "output_type": "stream",
     "name": "stderr",
     "text": [
      "Epoch 5 Iter 352: loss 0.41304. : 100%|██████████| 352/352 [00:04<00:00, 76.67it/s]\n"
     ]
    },
    {
     "output_type": "stream",
     "name": "stdout",
     "text": [
      "Accuracy at epoch 4: 78.14%\n"
     ]
    },
    {
     "output_type": "stream",
     "name": "stderr",
     "text": [
      "Epoch 6 Iter 352: loss 0.29173. : 100%|██████████| 352/352 [00:04<00:00, 77.24it/s]\n"
     ]
    },
    {
     "output_type": "stream",
     "name": "stdout",
     "text": [
      "Accuracy at epoch 5: 77.1%\n"
     ]
    },
    {
     "output_type": "stream",
     "name": "stderr",
     "text": [
      "Epoch 7 Iter 352: loss 0.26749. : 100%|██████████| 352/352 [00:04<00:00, 78.09it/s]\n"
     ]
    },
    {
     "output_type": "stream",
     "name": "stdout",
     "text": [
      "Accuracy at epoch 6: 78.76%\n"
     ]
    },
    {
     "output_type": "stream",
     "name": "stderr",
     "text": [
      "Epoch 8 Iter 352: loss 0.29995. : 100%|██████████| 352/352 [00:04<00:00, 79.85it/s]\n"
     ]
    },
    {
     "output_type": "stream",
     "name": "stdout",
     "text": [
      "Accuracy at epoch 7: 79.94%\n"
     ]
    },
    {
     "output_type": "stream",
     "name": "stderr",
     "text": [
      "Epoch 9 Iter 352: loss 0.22417. : 100%|██████████| 352/352 [00:04<00:00, 79.17it/s]\n"
     ]
    },
    {
     "output_type": "stream",
     "name": "stdout",
     "text": [
      "Accuracy at epoch 8: 78.58%\n"
     ]
    },
    {
     "output_type": "stream",
     "name": "stderr",
     "text": [
      "Epoch 10 Iter 352: loss 0.21514. : 100%|██████████| 352/352 [00:04<00:00, 80.56it/s]\n"
     ]
    },
    {
     "output_type": "stream",
     "name": "stdout",
     "text": [
      "Accuracy at epoch 9: 77.66%\n"
     ]
    },
    {
     "output_type": "stream",
     "name": "stderr",
     "text": [
      "Epoch 11 Iter 352: loss 0.08515. : 100%|██████████| 352/352 [00:04<00:00, 78.03it/s]\n"
     ]
    },
    {
     "output_type": "stream",
     "name": "stdout",
     "text": [
      "Accuracy at epoch 10: 78.64%\n"
     ]
    },
    {
     "output_type": "stream",
     "name": "stderr",
     "text": [
      "Epoch 12 Iter 352: loss 0.11830. : 100%|██████████| 352/352 [00:04<00:00, 79.13it/s]\n"
     ]
    },
    {
     "output_type": "stream",
     "name": "stdout",
     "text": [
      "Accuracy at epoch 11: 78.46%\n"
     ]
    },
    {
     "output_type": "stream",
     "name": "stderr",
     "text": [
      "Epoch 13 Iter 352: loss 0.11667. : 100%|██████████| 352/352 [00:04<00:00, 78.74it/s]\n"
     ]
    },
    {
     "output_type": "stream",
     "name": "stdout",
     "text": [
      "Accuracy at epoch 12: 77.86%\n"
     ]
    },
    {
     "output_type": "stream",
     "name": "stderr",
     "text": [
      "Epoch 14 Iter 352: loss 0.06055. : 100%|██████████| 352/352 [00:04<00:00, 80.74it/s]\n"
     ]
    },
    {
     "output_type": "stream",
     "name": "stdout",
     "text": [
      "Accuracy at epoch 13: 77.74%\n"
     ]
    },
    {
     "output_type": "stream",
     "name": "stderr",
     "text": [
      "Epoch 15 Iter 352: loss 0.02896. : 100%|██████████| 352/352 [00:04<00:00, 79.64it/s]\n"
     ]
    },
    {
     "output_type": "stream",
     "name": "stdout",
     "text": [
      "Accuracy at epoch 14: 77.76%\n"
     ]
    },
    {
     "output_type": "stream",
     "name": "stderr",
     "text": [
      "Epoch 16 Iter 352: loss 0.06208. : 100%|██████████| 352/352 [00:04<00:00, 77.17it/s]\n"
     ]
    },
    {
     "output_type": "stream",
     "name": "stdout",
     "text": [
      "Accuracy at epoch 15: 78.38%\n"
     ]
    },
    {
     "output_type": "stream",
     "name": "stderr",
     "text": [
      "Epoch 17 Iter 352: loss 0.08318. : 100%|██████████| 352/352 [00:04<00:00, 80.47it/s]\n"
     ]
    },
    {
     "output_type": "stream",
     "name": "stdout",
     "text": [
      "Accuracy at epoch 16: 76.98%\n"
     ]
    },
    {
     "output_type": "stream",
     "name": "stderr",
     "text": [
      "Epoch 18 Iter 352: loss 0.03984. : 100%|██████████| 352/352 [00:04<00:00, 81.16it/s]\n"
     ]
    },
    {
     "output_type": "stream",
     "name": "stdout",
     "text": [
      "Accuracy at epoch 17: 79.1%\n"
     ]
    },
    {
     "output_type": "stream",
     "name": "stderr",
     "text": [
      "Epoch 19 Iter 352: loss 0.08454. : 100%|██████████| 352/352 [00:04<00:00, 79.94it/s]\n"
     ]
    },
    {
     "output_type": "stream",
     "name": "stdout",
     "text": [
      "Accuracy at epoch 18: 79.3%\n"
     ]
    },
    {
     "output_type": "stream",
     "name": "stderr",
     "text": [
      "Epoch 20 Iter 352: loss 0.10714. : 100%|██████████| 352/352 [00:04<00:00, 78.48it/s]\n"
     ]
    },
    {
     "output_type": "stream",
     "name": "stdout",
     "text": [
      "Accuracy at epoch 19: 78.4%\n"
     ]
    },
    {
     "output_type": "stream",
     "name": "stderr",
     "text": [
      "Epoch 21 Iter 352: loss 0.09614. : 100%|██████████| 352/352 [00:04<00:00, 80.22it/s]\n"
     ]
    },
    {
     "output_type": "stream",
     "name": "stdout",
     "text": [
      "Accuracy at epoch 20: 78.16%\n"
     ]
    },
    {
     "output_type": "stream",
     "name": "stderr",
     "text": [
      "Epoch 22 Iter 352: loss 0.03041. : 100%|██████████| 352/352 [00:04<00:00, 79.78it/s]\n"
     ]
    },
    {
     "output_type": "stream",
     "name": "stdout",
     "text": [
      "Accuracy at epoch 21: 79.82%\n"
     ]
    },
    {
     "output_type": "stream",
     "name": "stderr",
     "text": [
      "Epoch 23 Iter 352: loss 0.07696. : 100%|██████████| 352/352 [00:04<00:00, 80.41it/s]\n"
     ]
    },
    {
     "output_type": "stream",
     "name": "stdout",
     "text": [
      "Accuracy at epoch 22: 77.5%\n"
     ]
    },
    {
     "output_type": "stream",
     "name": "stderr",
     "text": [
      "Epoch 24 Iter 352: loss 0.07847. : 100%|██████████| 352/352 [00:04<00:00, 79.87it/s]\n"
     ]
    },
    {
     "output_type": "stream",
     "name": "stdout",
     "text": [
      "Accuracy at epoch 23: 79.44%\n"
     ]
    },
    {
     "output_type": "stream",
     "name": "stderr",
     "text": [
      "Epoch 25 Iter 352: loss 0.03658. : 100%|██████████| 352/352 [00:04<00:00, 78.51it/s]\n"
     ]
    },
    {
     "output_type": "stream",
     "name": "stdout",
     "text": [
      "Accuracy at epoch 24: 79.92%\n"
     ]
    },
    {
     "output_type": "stream",
     "name": "stderr",
     "text": [
      "Epoch 26 Iter 352: loss 0.00578. : 100%|██████████| 352/352 [00:04<00:00, 82.46it/s]\n"
     ]
    },
    {
     "output_type": "stream",
     "name": "stdout",
     "text": [
      "Accuracy at epoch 25: 78.78%\n"
     ]
    },
    {
     "output_type": "stream",
     "name": "stderr",
     "text": [
      "Epoch 27 Iter 352: loss 0.10492. : 100%|██████████| 352/352 [00:04<00:00, 87.46it/s]\n"
     ]
    },
    {
     "output_type": "stream",
     "name": "stdout",
     "text": [
      "Accuracy at epoch 26: 79.04%\n"
     ]
    },
    {
     "output_type": "stream",
     "name": "stderr",
     "text": [
      "Epoch 28 Iter 352: loss 0.04016. : 100%|██████████| 352/352 [00:04<00:00, 85.94it/s]\n"
     ]
    },
    {
     "output_type": "stream",
     "name": "stdout",
     "text": [
      "Accuracy at epoch 27: 79.8%\n"
     ]
    },
    {
     "output_type": "stream",
     "name": "stderr",
     "text": [
      "Epoch 29 Iter 352: loss 0.04765. : 100%|██████████| 352/352 [00:04<00:00, 86.94it/s]\n"
     ]
    },
    {
     "output_type": "stream",
     "name": "stdout",
     "text": [
      "Accuracy at epoch 28: 79.42%\n"
     ]
    },
    {
     "output_type": "stream",
     "name": "stderr",
     "text": [
      "Epoch 30 Iter 352: loss 0.02540. : 100%|██████████| 352/352 [00:04<00:00, 82.86it/s]\n"
     ]
    },
    {
     "output_type": "stream",
     "name": "stdout",
     "text": [
      "Accuracy at epoch 29: 78.5%\n"
     ]
    },
    {
     "output_type": "stream",
     "name": "stderr",
     "text": [
      "Epoch 31 Iter 352: loss 0.00685. : 100%|██████████| 352/352 [00:04<00:00, 84.45it/s]\n"
     ]
    },
    {
     "output_type": "stream",
     "name": "stdout",
     "text": [
      "Accuracy at epoch 30: 79.4%\n"
     ]
    },
    {
     "output_type": "stream",
     "name": "stderr",
     "text": [
      "Epoch 32 Iter 352: loss 0.05488. : 100%|██████████| 352/352 [00:04<00:00, 84.04it/s]\n"
     ]
    },
    {
     "output_type": "stream",
     "name": "stdout",
     "text": [
      "Accuracy at epoch 31: 78.22%\n"
     ]
    },
    {
     "output_type": "stream",
     "name": "stderr",
     "text": [
      "Epoch 33 Iter 352: loss 0.00872. : 100%|██████████| 352/352 [00:04<00:00, 82.53it/s]\n"
     ]
    },
    {
     "output_type": "stream",
     "name": "stdout",
     "text": [
      "Accuracy at epoch 32: 79.22%\n"
     ]
    },
    {
     "output_type": "stream",
     "name": "stderr",
     "text": [
      "Epoch 34 Iter 352: loss 0.02755. : 100%|██████████| 352/352 [00:04<00:00, 82.87it/s]\n"
     ]
    },
    {
     "output_type": "stream",
     "name": "stdout",
     "text": [
      "Accuracy at epoch 33: 79.6%\n"
     ]
    },
    {
     "output_type": "stream",
     "name": "stderr",
     "text": [
      "Epoch 35 Iter 352: loss 0.06940. : 100%|██████████| 352/352 [00:04<00:00, 80.75it/s]\n"
     ]
    },
    {
     "output_type": "stream",
     "name": "stdout",
     "text": [
      "Accuracy at epoch 34: 79.62%\n"
     ]
    },
    {
     "output_type": "stream",
     "name": "stderr",
     "text": [
      "Epoch 36 Iter 352: loss 0.01981. : 100%|██████████| 352/352 [00:04<00:00, 83.34it/s]\n"
     ]
    },
    {
     "output_type": "stream",
     "name": "stdout",
     "text": [
      "Accuracy at epoch 35: 79.2%\n"
     ]
    },
    {
     "output_type": "stream",
     "name": "stderr",
     "text": [
      "Epoch 37 Iter 352: loss 0.01816. : 100%|██████████| 352/352 [00:04<00:00, 84.47it/s]\n"
     ]
    },
    {
     "output_type": "stream",
     "name": "stdout",
     "text": [
      "Accuracy at epoch 36: 79.9%\n"
     ]
    },
    {
     "output_type": "stream",
     "name": "stderr",
     "text": [
      "Epoch 38 Iter 352: loss 0.07983. : 100%|██████████| 352/352 [00:04<00:00, 84.65it/s]\n"
     ]
    },
    {
     "output_type": "stream",
     "name": "stdout",
     "text": [
      "Accuracy at epoch 37: 79.46%\n"
     ]
    },
    {
     "output_type": "stream",
     "name": "stderr",
     "text": [
      "Epoch 39 Iter 352: loss 0.02430. : 100%|██████████| 352/352 [00:04<00:00, 86.04it/s]\n"
     ]
    },
    {
     "output_type": "stream",
     "name": "stdout",
     "text": [
      "Accuracy at epoch 38: 79.08%\n"
     ]
    },
    {
     "output_type": "stream",
     "name": "stderr",
     "text": [
      "Epoch 40 Iter 352: loss 0.05367. : 100%|██████████| 352/352 [00:04<00:00, 84.41it/s]\n"
     ]
    },
    {
     "output_type": "stream",
     "name": "stdout",
     "text": [
      "Accuracy at epoch 39: 79.1%\n"
     ]
    },
    {
     "output_type": "stream",
     "name": "stderr",
     "text": [
      "Epoch 41 Iter 352: loss 0.01182. : 100%|██████████| 352/352 [00:04<00:00, 86.16it/s]\n"
     ]
    },
    {
     "output_type": "stream",
     "name": "stdout",
     "text": [
      "Accuracy at epoch 40: 79.52%\n"
     ]
    },
    {
     "output_type": "stream",
     "name": "stderr",
     "text": [
      "Epoch 42 Iter 352: loss 0.02802. : 100%|██████████| 352/352 [00:04<00:00, 87.37it/s]\n"
     ]
    },
    {
     "output_type": "stream",
     "name": "stdout",
     "text": [
      "Accuracy at epoch 41: 79.88%\n"
     ]
    },
    {
     "output_type": "stream",
     "name": "stderr",
     "text": [
      "Epoch 43 Iter 352: loss 0.00189. : 100%|██████████| 352/352 [00:04<00:00, 86.60it/s]\n"
     ]
    },
    {
     "output_type": "stream",
     "name": "stdout",
     "text": [
      "Accuracy at epoch 42: 79.66%\n"
     ]
    },
    {
     "output_type": "stream",
     "name": "stderr",
     "text": [
      "Epoch 44 Iter 352: loss 0.01557. : 100%|██████████| 352/352 [00:04<00:00, 87.04it/s]\n"
     ]
    },
    {
     "output_type": "stream",
     "name": "stdout",
     "text": [
      "Accuracy at epoch 43: 78.5%\n"
     ]
    },
    {
     "output_type": "stream",
     "name": "stderr",
     "text": [
      "Epoch 45 Iter 352: loss 0.00241. : 100%|██████████| 352/352 [00:04<00:00, 87.78it/s]\n"
     ]
    },
    {
     "output_type": "stream",
     "name": "stdout",
     "text": [
      "Accuracy at epoch 44: 79.78%\n"
     ]
    },
    {
     "output_type": "stream",
     "name": "stderr",
     "text": [
      "Epoch 46 Iter 352: loss 0.03238. : 100%|██████████| 352/352 [00:04<00:00, 87.22it/s]\n"
     ]
    },
    {
     "output_type": "stream",
     "name": "stdout",
     "text": [
      "Accuracy at epoch 45: 79.98%\n"
     ]
    },
    {
     "output_type": "stream",
     "name": "stderr",
     "text": [
      "Epoch 47 Iter 352: loss 0.02327. : 100%|██████████| 352/352 [00:04<00:00, 86.33it/s]\n"
     ]
    },
    {
     "output_type": "stream",
     "name": "stdout",
     "text": [
      "Accuracy at epoch 46: 79.56%\n"
     ]
    },
    {
     "output_type": "stream",
     "name": "stderr",
     "text": [
      "Epoch 48 Iter 352: loss 0.02746. : 100%|██████████| 352/352 [00:04<00:00, 84.73it/s]\n"
     ]
    },
    {
     "output_type": "stream",
     "name": "stdout",
     "text": [
      "Accuracy at epoch 47: 80.12%\n"
     ]
    },
    {
     "output_type": "stream",
     "name": "stderr",
     "text": [
      "Epoch 49 Iter 352: loss 0.04205. : 100%|██████████| 352/352 [00:04<00:00, 83.54it/s]\n"
     ]
    },
    {
     "output_type": "stream",
     "name": "stdout",
     "text": [
      "Accuracy at epoch 48: 79.44%\n"
     ]
    },
    {
     "output_type": "stream",
     "name": "stderr",
     "text": [
      "Epoch 50 Iter 352: loss 0.02773. : 100%|██████████| 352/352 [00:04<00:00, 85.56it/s]\n"
     ]
    },
    {
     "output_type": "stream",
     "name": "stdout",
     "text": [
      "Accuracy at epoch 49: 78.32%\n"
     ]
    }
   ],
   "metadata": {}
  },
  {
   "cell_type": "markdown",
   "source": [
    "# Testing"
   ],
   "metadata": {}
  },
  {
   "cell_type": "code",
   "execution_count": null,
   "source": [],
   "outputs": [],
   "metadata": {}
  },
  {
   "cell_type": "code",
   "execution_count": null,
   "source": [],
   "outputs": [],
   "metadata": {}
  },
  {
   "cell_type": "markdown",
   "source": [
    "# Activation Visualization"
   ],
   "metadata": {}
  },
  {
   "cell_type": "code",
   "execution_count": 15,
   "source": [
    "savepath = os.path.join(os.getcwd(), \"models\", \"best_val_checkpoint_bnorm.pth\")\n",
    "model,optimizer,epoch,stats= load_model(model=cnn,optimizer=optimizer,savepath=savepath)"
   ],
   "outputs": [],
   "metadata": {}
  },
  {
   "cell_type": "code",
   "execution_count": 16,
   "source": [
    "#Code from https://discuss.pytorch.org/t/visualize-feature-map/29597/6 {PyTorch Forum}\n",
    "# Visualize feature maps\n",
    "def get_activation(name):\n",
    "    def hook(model, input, output):\n",
    "        activation[name] = output.detach()\n",
    "    return hook\n"
   ],
   "outputs": [],
   "metadata": {}
  },
  {
   "cell_type": "code",
   "execution_count": 17,
   "source": [
    "datait = iter(test_loader)"
   ],
   "outputs": [],
   "metadata": {}
  },
  {
   "cell_type": "code",
   "execution_count": 18,
   "source": [
    "images,labels = datait.next()\n"
   ],
   "outputs": [],
   "metadata": {}
  },
  {
   "cell_type": "code",
   "execution_count": 19,
   "source": [
    "#Code from https://discuss.pytorch.org/t/visualize-feature-map/29597/6 {PyTorch Forum}\n",
    "activation = {}\n",
    "model.conv_net[0].register_forward_hook(get_activation('activation_conv1_1'))\n",
    "model.conv_net[3].register_forward_hook(get_activation('activation_conv1_2'))\n",
    "model.conv_net[7].register_forward_hook(get_activation('activation_conv2_1'))\n",
    "model.conv_net[10].register_forward_hook(get_activation('activation_conv2_2'))\n",
    "model.conv_net[14].register_forward_hook(get_activation('activation_conv3_1'))\n",
    "model.conv_net[17].register_forward_hook(get_activation('activation_conv3_2'))\n",
    "\n",
    "output = model(images[0].unsqueeze(0).to(device))\n",
    "# print(output.shape)\n",
    "\n",
    "\n"
   ],
   "outputs": [],
   "metadata": {}
  },
  {
   "cell_type": "code",
   "execution_count": 20,
   "source": [
    "num_plot = 5\n",
    "fig, axarr = plt.subplots(6, num_plot, figsize=(20, 20))\n",
    "fig.supxlabel('Different Channels')\n",
    "fig.supylabel('Activations of Conv layer')\n",
    "fig.tight_layout()\n",
    "\n",
    "for cnt,(k, v) in zip(range(6),activation.items()):\n",
    "    act = activation[k].squeeze()    \n",
    "    for idx in range(num_plot):\n",
    "        axarr[cnt,idx].imshow(act[idx].cpu().numpy(),cmap=\"gray\")"
   ],
   "outputs": [
    {
     "output_type": "display_data",
     "data": {
      "image/png": "[encoded data removed]",
      "text/plain": [
       "<Figure size 1440x1440 with 30 Axes>"
      ]
     },
     "metadata": {
      "needs_background": "light"
     }
    }
   ],
   "metadata": {}
  },
  {
   "cell_type": "markdown",
   "source": [
    "# Kernel Visualization "
   ],
   "metadata": {}
  },
  {
   "cell_type": "code",
   "execution_count": 26,
   "source": [
    "# https: // github.com/Niranjankumar-c/DeepLearning-PadhAI/blob/master/DeepLearning_Materials/6_VisualizationCNN_Pytorch/CNNVisualisation.ipynb\n",
    "\n",
    "def plot_rgb(weights):\n",
    "   \n",
    "    n_filters = 5\n",
    "    fig,ax = plt.subplots(1,n_filters,figsize = (8,8))\n",
    "\n",
    "\n",
    "    for i in range(n_filters):\n",
    "        weight = weights[i]\n",
    "        weight = weight - torch.min(weight)\n",
    "        weight = weight / torch.max(weight)\n",
    "        # weight.shape\n",
    "       \n",
    "        ax[i].imshow(weight.permute(1,2,0).cpu().numpy())\n",
    "    plt.show()\n",
    "\n",
    "def plot_single_channel(weights):\n",
    "\n",
    "    n_filters = 5\n",
    "    n_channels = 5\n",
    "    fig, ax = plt.subplots(n_filters, n_channels,figsize=(8, 8))\n",
    "\n",
    "    for i in  range(n_filters):\n",
    "        for j in range(n_channels):\n",
    "            # print(i,j)\n",
    "            weight = weights[i,j]\n",
    "            weight = weight - torch.min(weight)\n",
    "            weight = weight / torch.max(weight)\n",
    "\n",
    "            ax[i,j].imshow(weight.cpu().numpy())\n",
    "            ax[i, j].axis('off')\n",
    "            ax[i, j].set_title(str(i)+str(j))\n",
    "            ax[i, j].set_xticklabels([])\n",
    "            ax[i, j].set_yticklabels([])\n",
    "    \n",
    "    # plt.tight_layout()\n",
    "    plt.show()\n"
   ],
   "outputs": [],
   "metadata": {}
  },
  {
   "cell_type": "code",
   "execution_count": 29,
   "source": [
    "def plot_weights(model,layer_num):\n",
    "\n",
    "    layer = model.conv_net[layer_num]\n",
    "    print(layer)\n",
    "    \n",
    "    if isinstance(layer,nn.Conv2d):\n",
    "        weight_tensor = layer.weight.data.detach()\n",
    " \n",
    "        if weight_tensor.shape[1] == 3:\n",
    "            plot_rgb(weight_tensor)\n",
    "        else:\n",
    "            \n",
    "            plot_single_channel(weight_tensor)\n",
    "\n"
   ],
   "outputs": [],
   "metadata": {}
  },
  {
   "cell_type": "code",
   "execution_count": 30,
   "source": [
    "plot_weights(model,0)\n",
    "plot_weights(model,3)\n",
    "plot_weights(model,7)\n",
    "plot_weights(model,10)\n",
    "plot_weights(model,14)\n",
    "plot_weights(model, 17)\n"
   ],
   "outputs": [
    {
     "output_type": "stream",
     "name": "stdout",
     "text": [
      "Conv2d(3, 32, kernel_size=(3, 3), stride=(1, 1), padding=(1, 1))\n"
     ]
    },
    {
     "output_type": "display_data",
     "data": {
      "image/png": "[encoded data removed]",
      "text/plain": [
       "<Figure size 576x576 with 5 Axes>"
      ]
     },
     "metadata": {
      "needs_background": "light"
     }
    },
    {
     "output_type": "stream",
     "name": "stdout",
     "text": [
      "Conv2d(32, 32, kernel_size=(3, 3), stride=(1, 1), padding=(1, 1))\n"
     ]
    },
    {
     "output_type": "display_data",
     "data": {
      "image/png": "[encoded data removed]",
      "text/plain": [
       "<Figure size 576x576 with 25 Axes>"
      ]
     },
     "metadata": {
      "needs_background": "light"
     }
    },
    {
     "output_type": "stream",
     "name": "stdout",
     "text": [
      "Conv2d(32, 64, kernel_size=(3, 3), stride=(1, 1), padding=(1, 1))\n"
     ]
    },
    {
     "output_type": "display_data",
     "data": {
      "image/png": "[encoded data removed]",
      "text/plain": [
       "<Figure size 576x576 with 25 Axes>"
      ]
     },
     "metadata": {
      "needs_background": "light"
     }
    },
    {
     "output_type": "stream",
     "name": "stdout",
     "text": [
      "Conv2d(64, 64, kernel_size=(3, 3), stride=(1, 1), padding=(1, 1))\n"
     ]
    },
    {
     "output_type": "display_data",
     "data": {
      "image/png": "[encoded data removed]",
      "text/plain": [
       "<Figure size 576x576 with 25 Axes>"
      ]
     },
     "metadata": {
      "needs_background": "light"
     }
    },
    {
     "output_type": "stream",
     "name": "stdout",
     "text": [
      "Conv2d(64, 128, kernel_size=(3, 3), stride=(1, 1), padding=(1, 1))\n"
     ]
    },
    {
     "output_type": "display_data",
     "data": {
      "image/png": "[encoded data removed]",
      "text/plain": [
       "<Figure size 576x576 with 25 Axes>"
      ]
     },
     "metadata": {
      "needs_background": "light"
     }
    },
    {
     "output_type": "stream",
     "name": "stdout",
     "text": [
      "Conv2d(128, 128, kernel_size=(3, 3), stride=(1, 1), padding=(1, 1))\n"
     ]
    },
    {
     "output_type": "display_data",
     "data": {
      "image/png": "[encoded data removed]",
      "text/plain": [
       "<Figure size 576x576 with 25 Axes>"
      ]
     },
     "metadata": {
      "needs_background": "light"
     }
    }
   ],
   "metadata": {}
  },
  {
   "cell_type": "code",
   "execution_count": null,
   "source": [],
   "outputs": [],
   "metadata": {}
  }
 ],
 "metadata": {
  "orig_nbformat": 4,
  "language_info": {
   "name": "python",
   "version": "3.7.10",
   "mimetype": "text/x-python",
   "codemirror_mode": {
    "name": "ipython",
    "version": 3
   },
   "pygments_lexer": "ipython3",
   "nbconvert_exporter": "python",
   "file_extension": ".py"
  },
  "kernelspec": {
   "name": "python3",
   "display_name": "Python 3.7.10 64-bit ('dl': conda)"
  },
  "interpreter": {
   "hash": "f7881038a8c0c2c5168ac80e20ff544f471faf7d5bc66c5653256549b0169354"
  }
 },
 "nbformat": 4,
 "nbformat_minor": 2
}