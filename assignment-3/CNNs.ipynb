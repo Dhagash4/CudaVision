{
 "cells": [
  {
   "cell_type": "markdown",
   "source": [
    "# Import"
   ],
   "metadata": {}
  },
  {
   "cell_type": "code",
   "execution_count": 2,
   "source": [
    "import torch\n",
    "import torchvision\n",
    "import torch.nn as nn\n",
    "import torch.nn.functional as F\n",
    "import torchvision.transforms as transforms\n",
    "from torch.utils.data.dataloader import DataLoader\n",
    "from torch.utils.data import random_split\n",
    "from torchvision.utils import make_grid\n",
    "\n",
    "import numpy as np\n",
    "import matplotlib.pyplot as plt\n",
    "import os\n",
    "from tqdm import tqdm\n",
    "from typing import Tuple, NoReturn\n",
    "import seaborn as sns\n",
    "import time\n",
    "torch.manual_seed(42)\n"
   ],
   "outputs": [
    {
     "output_type": "execute_result",
     "data": {
      "text/plain": [
       "<torch._C.Generator at 0x7f0638103e30>"
      ]
     },
     "metadata": {},
     "execution_count": 2
    }
   ],
   "metadata": {}
  },
  {
   "cell_type": "markdown",
   "source": [
    "# Dataloader"
   ],
   "metadata": {}
  },
  {
   "cell_type": "code",
   "execution_count": 3,
   "source": [
    "#Transforms from https://pytorch.org/tutorials/beginner/blitz/cifar10_tutorial.html\n",
    "\n",
    "transform = transforms.Compose(\n",
    "    [transforms.ToTensor(),\n",
    "     transforms.Normalize((0.5, 0.5, 0.5), (0.5, 0.5, 0.5))])\n",
    "\n",
    "train_dataset = torchvision.datasets.CIFAR10(root='./data', train=True, transform=transform, download=True)\n",
    "test_dataset = torchvision.datasets.CIFAR10(root='./data', train=False, transform=transform, download=True)\n",
    "train_dataset,validation_dataset = random_split(train_dataset,[round(0.9 * len(train_dataset)), round(0.1 * len(train_dataset))])"
   ],
   "outputs": [
    {
     "output_type": "stream",
     "name": "stdout",
     "text": [
      "Files already downloaded and verified\n",
      "Files already downloaded and verified\n"
     ]
    }
   ],
   "metadata": {}
  },
  {
   "cell_type": "code",
   "execution_count": 4,
   "source": [
    "BATCH_SIZE = 128\n",
    "SHUFFLE = True\n",
    "train_loader = DataLoader(train_dataset, batch_size=BATCH_SIZE, num_workers=4, shuffle=SHUFFLE)\n",
    "test_loader = DataLoader(test_dataset, batch_size=BATCH_SIZE, num_workers=4, shuffle=SHUFFLE)\n",
    "val_loader = DataLoader(validation_dataset, batch_size=BATCH_SIZE, num_workers=4, shuffle=SHUFFLE)\n"
   ],
   "outputs": [],
   "metadata": {}
  },
  {
   "cell_type": "markdown",
   "source": [
    "## Visualizing Data"
   ],
   "metadata": {}
  },
  {
   "cell_type": "code",
   "execution_count": 5,
   "source": [
    "cifar_label = {0:'airplane',\n",
    "         1: 'automobile',\n",
    "         2: 'bird',\n",
    "         3: 'cat',\n",
    "         4: 'deer',\n",
    "         5: 'dog',\n",
    "         6: 'frog',\n",
    "         7: 'horse',\n",
    "         8: 'ship',\n",
    "         9: 'truck'}"
   ],
   "outputs": [],
   "metadata": {}
  },
  {
   "cell_type": "code",
   "execution_count": 6,
   "source": [
    "fig, ax = plt.subplots(1, 8)\n",
    "fig.set_size_inches(30, 4)\n",
    "datait = iter(train_loader)\n",
    "for i in range(8):\n",
    "    img, lbl = datait.next()\n",
    "    idx = np.random.random_integers(0,img.shape[0])\n",
    "    img_disp = img[idx].permute(1, 2, 0)\n",
    "    ax[i].imshow(img_disp)\n",
    "    ax[i].axis(\"off\")\n",
    "    ax[i].set_title(f\"{cifar_label[lbl[idx].item()]}\")\n",
    "\n",
    "plt.tight_layout()\n",
    "plt.show()\n"
   ],
   "outputs": [
    {
     "output_type": "stream",
     "name": "stderr",
     "text": [
      "/home/dhagash/anaconda3/envs/dl/lib/python3.7/site-packages/ipykernel_launcher.py:6: DeprecationWarning: This function is deprecated. Please call randint(0, 128 + 1) instead\n",
      "  \n",
      "Clipping input data to the valid range for imshow with RGB data ([0..1] for floats or [0..255] for integers).\n",
      "Clipping input data to the valid range for imshow with RGB data ([0..1] for floats or [0..255] for integers).\n",
      "Clipping input data to the valid range for imshow with RGB data ([0..1] for floats or [0..255] for integers).\n",
      "Clipping input data to the valid range for imshow with RGB data ([0..1] for floats or [0..255] for integers).\n",
      "Clipping input data to the valid range for imshow with RGB data ([0..1] for floats or [0..255] for integers).\n",
      "Clipping input data to the valid range for imshow with RGB data ([0..1] for floats or [0..255] for integers).\n",
      "Clipping input data to the valid range for imshow with RGB data ([0..1] for floats or [0..255] for integers).\n",
      "Clipping input data to the valid range for imshow with RGB data ([0..1] for floats or [0..255] for integers).\n"
     ]
    },
    {
     "output_type": "display_data",
     "data": {
      "image/png": "[encoded data removed]",
      "text/plain": [
       "<Figure size 2160x288 with 8 Axes>"
      ]
     },
     "metadata": {
      "needs_background": "light"
     }
    }
   ],
   "metadata": {}
  },
  {
   "cell_type": "markdown",
   "source": [
    "# Model"
   ],
   "metadata": {}
  },
  {
   "cell_type": "code",
   "execution_count": 7,
   "source": [
    "class SCNN(nn.Module):\n",
    "    def __init__(self, activation: str, batch_norm: str, dropout: bool) -> None:\n",
    "        super().__init__()\n",
    "\n",
    "        #BASE MODEL\n",
    "     \n",
    "        #VGG Style architecture\n",
    "\n",
    "        #Conv Block 1\n",
    "        #(Nx3x32x32) -> (Nx32x16x16)\n",
    "        conv1_1 = nn.Conv2d(in_channels=3, out_channels=32,\n",
    "                          kernel_size=3, padding=1)\n",
    "        conv1_2 = nn.Conv2d(in_channels=32, out_channels=32,\n",
    "                          kernel_size=3, padding=1)\n",
    "        pool1 = nn.MaxPool2d(kernel_size=2, stride=2)\n",
    "\n",
    "        #Conv Block 2\n",
    "        #(Nx32x16x16) -> (Nx64x8x8)\n",
    "        conv2_1 = nn.Conv2d(in_channels=32, out_channels=64,\n",
    "                            kernel_size=3, padding=1)\n",
    "        conv2_2 = nn.Conv2d(in_channels=64, out_channels=64,\n",
    "                            kernel_size=3, padding=1)\n",
    "        pool2 = nn.MaxPool2d(kernel_size=2, stride=2)\n",
    "\n",
    "        #Conv Block 3\n",
    "        #(Nx64x8x8) -> (Nx128x4x4)\n",
    "        conv3_1 = nn.Conv2d(in_channels=64, out_channels=128,\n",
    "                            kernel_size=3, padding=1)\n",
    "        conv3_2 = nn.Conv2d(in_channels=128, out_channels=128,\n",
    "                            kernel_size=3, padding=1)\n",
    "        pool3 = nn.MaxPool2d(kernel_size=2, stride=2)\n",
    "        \n",
    "        in_dim = 128*4*4\n",
    "        fc1 = nn.Linear(in_dim,128)\n",
    "        fc2 = nn.Linear(128,10)\n",
    "\n",
    "        activation_layer = None\n",
    "        dropout_layer = None\n",
    "        if activation == 'relu':\n",
    "            activation_layer = nn.ReLU()\n",
    "        elif activation == 'lrelu':\n",
    "            activation_layer = nn.LeakyReLU()\n",
    "        else:\n",
    "            if activation == 'elu':\n",
    "                activation_layer = nn.ELU()\n",
    "\n",
    "\n",
    "        self.conv_net = nn.Sequential(conv1_1,\n",
    "                                      activation_layer,\n",
    "                                      conv1_2,\n",
    "                                      activation_layer,\n",
    "                                      pool1,\n",
    "                                      conv2_1,\n",
    "                                      activation_layer,\n",
    "                                      conv2_2,\n",
    "                                      activation_layer,\n",
    "                                      pool2,\n",
    "                                      conv3_1,\n",
    "                                      activation_layer,\n",
    "                                      conv3_2,\n",
    "                                      activation_layer,\n",
    "                                      pool3,\n",
    "                                      nn.Flatten(start_dim=1),\n",
    "                                      fc1,\n",
    "                                      activation_layer,\n",
    "                                      fc2)\n",
    "\n",
    "        if batch_norm == 'bnorm':\n",
    "            bnorm1_1 = nn.BatchNorm2d(32)\n",
    "            bnorm1_2 = nn.BatchNorm2d(32)\n",
    "            bnorm2_1 = nn.BatchNorm2d(64)\n",
    "            bnorm2_2 = nn.BatchNorm2d(64)\n",
    "            bnorm3_1 = nn.BatchNorm2d(128)\n",
    "            bnorm3_2 = nn.BatchNorm2d(128)\n",
    "\n",
    "            self.conv_net = nn.Sequential(conv1_1,\n",
    "                                          bnorm1_1,\n",
    "                                          activation_layer,\n",
    "                                          conv1_2,\n",
    "                                          bnorm1_2,\n",
    "                                          activation_layer,\n",
    "                                          pool1,\n",
    "                                          conv2_1,\n",
    "                                          bnorm2_1,\n",
    "                                          activation_layer,\n",
    "                                          conv2_2,\n",
    "                                          bnorm2_2,\n",
    "                                          activation_layer,\n",
    "                                          pool2,\n",
    "                                          conv3_1,\n",
    "                                          bnorm3_1,\n",
    "                                          activation_layer,\n",
    "                                          conv3_2,\n",
    "                                          bnorm3_2,\n",
    "                                          activation_layer,\n",
    "                                          pool3,\n",
    "                                          nn.Flatten(start_dim=1),\n",
    "                                          fc1,\n",
    "                                          activation_layer,\n",
    "                                          fc2)\n",
    "        elif batch_norm == 'gnorm':\n",
    "\n",
    "            gnorm1_1 = nn.GroupNorm(8, 32)\n",
    "            gnorm1_2 = nn.GroupNorm(8, 32)\n",
    "            gnorm2_1 = nn.GroupNorm(8, 64)\n",
    "            gnorm2_2 = nn.GroupNorm(8, 64)\n",
    "            gnorm3_1 = nn.GroupNorm(8, 128)\n",
    "            gnorm3_2 = nn.GroupNorm(8, 128)\n",
    "\n",
    "            self.conv_net = nn.Sequential(conv1_1,\n",
    "                                          gnorm1_1,\n",
    "                                          activation_layer,\n",
    "                                          conv1_2,\n",
    "                                          gnorm1_2,\n",
    "                                          activation_layer,\n",
    "                                          pool1,\n",
    "                                          conv2_1,\n",
    "                                          gnorm2_1,\n",
    "                                          activation_layer,\n",
    "                                          conv2_2,\n",
    "                                          gnorm2_2,\n",
    "                                          activation_layer,\n",
    "                                          pool2,\n",
    "                                          conv3_1,\n",
    "                                          gnorm3_1,\n",
    "                                          activation_layer,\n",
    "                                          conv3_2,\n",
    "                                          gnorm3_2,\n",
    "                                          activation_layer,\n",
    "                                          pool3,\n",
    "                                          nn.Flatten(start_dim=1),\n",
    "                                          fc1,\n",
    "                                          activation_layer,\n",
    "                                          fc2)\n",
    "\n",
    "        else:\n",
    "            pass\n",
    "\n",
    "\n",
    "        if dropout == True:\n",
    "            print(\"CNN with dropout \")\n",
    "            dropout_layer = nn.Dropout(0.5)\n",
    "            dropout_layer1 = nn.Dropout(0.3)\n",
    "            self.conv_net = nn.Sequential(conv1_1,\n",
    "                                          activation_layer,\n",
    "                                          conv1_2,\n",
    "                                          activation_layer,\n",
    "                                          pool1,\n",
    "                                          conv2_1,\n",
    "                                          activation_layer,\n",
    "                                          conv2_2,\n",
    "                                          activation_layer,\n",
    "                                          pool2,\n",
    "                                          conv3_1,\n",
    "                                          activation_layer,\n",
    "                                          conv3_2,\n",
    "                                          activation_layer,\n",
    "                                          pool3,\n",
    "                                          nn.Flatten(start_dim=1),\n",
    "                                          dropout_layer,\n",
    "                                          fc1,\n",
    "                                          activation_layer,\n",
    "                                          dropout_layer1,\n",
    "                                          fc2)\n",
    "\n",
    "        else:\n",
    "            print(\"CNN with no dropout\")\n",
    "            pass\n",
    "\n",
    "    def forward(self, x):\n",
    "        \n",
    "        \n",
    "        y = self.conv_net(x)\n",
    "\n",
    "        return y\n",
    "\n",
    "def count_model_params(model):\n",
    "    \"\"\" Counting the number of learnable parameters in a nn.Module \"\"\"\n",
    "    num_params = sum(p.numel() for p in model.parameters() if p.requires_grad)\n",
    "    return num_params"
   ],
   "outputs": [],
   "metadata": {}
  },
  {
   "cell_type": "code",
   "execution_count": 33,
   "source": [
    "cnn = SCNN(activation='relu',batch_norm='none',dropout=True)\n",
    "params = count_model_params(cnn)\n",
    "print(cnn)\n",
    "print(f\"Model has {params} learnable parameters\")\n"
   ],
   "outputs": [
    {
     "output_type": "stream",
     "name": "stdout",
     "text": [
      "CNN with dropout \n",
      "SCNN(\n",
      "  (conv_net): Sequential(\n",
      "    (0): Conv2d(3, 32, kernel_size=(3, 3), stride=(1, 1), padding=(1, 1))\n",
      "    (1): ReLU()\n",
      "    (2): Conv2d(32, 32, kernel_size=(3, 3), stride=(1, 1), padding=(1, 1))\n",
      "    (3): ReLU()\n",
      "    (4): MaxPool2d(kernel_size=2, stride=2, padding=0, dilation=1, ceil_mode=False)\n",
      "    (5): Conv2d(32, 64, kernel_size=(3, 3), stride=(1, 1), padding=(1, 1))\n",
      "    (6): ReLU()\n",
      "    (7): Conv2d(64, 64, kernel_size=(3, 3), stride=(1, 1), padding=(1, 1))\n",
      "    (8): ReLU()\n",
      "    (9): MaxPool2d(kernel_size=2, stride=2, padding=0, dilation=1, ceil_mode=False)\n",
      "    (10): Conv2d(64, 128, kernel_size=(3, 3), stride=(1, 1), padding=(1, 1))\n",
      "    (11): ReLU()\n",
      "    (12): Conv2d(128, 128, kernel_size=(3, 3), stride=(1, 1), padding=(1, 1))\n",
      "    (13): ReLU()\n",
      "    (14): MaxPool2d(kernel_size=2, stride=2, padding=0, dilation=1, ceil_mode=False)\n",
      "    (15): Flatten(start_dim=1, end_dim=-1)\n",
      "    (16): Dropout(p=0.5, inplace=False)\n",
      "    (17): Linear(in_features=2048, out_features=128, bias=True)\n",
      "    (18): ReLU()\n",
      "    (19): Dropout(p=0.3, inplace=False)\n",
      "    (20): Linear(in_features=128, out_features=10, bias=True)\n",
      "  )\n",
      ")\n",
      "Model has 550570 learnable parameters\n"
     ]
    }
   ],
   "metadata": {}
  },
  {
   "cell_type": "markdown",
   "source": [
    "# Training"
   ],
   "metadata": {}
  },
  {
   "cell_type": "markdown",
   "source": [
    "## Parameters for training"
   ],
   "metadata": {}
  },
  {
   "cell_type": "code",
   "execution_count": 11,
   "source": [
    "LR = 3e-4\n",
    "EPOCHS = 50\n",
    "EVAL_FREQ = 1\n",
    "SAVE_FREQ = 10\n",
    "val_acc = 0.0"
   ],
   "outputs": [],
   "metadata": {}
  },
  {
   "cell_type": "code",
   "execution_count": 35,
   "source": [
    "stats = {\n",
    "    \"epoch\": [],\n",
    "    \"train_loss\": [],\n",
    "    \"valid_loss\": [],\n",
    "    \"accuracy\": []\n",
    "}\n",
    "init_epoch = 0"
   ],
   "outputs": [],
   "metadata": {}
  },
  {
   "cell_type": "code",
   "execution_count": 36,
   "source": [
    "device = torch.device(\"cuda\" if torch.cuda.is_available() else \"cpu\")\n",
    "\n",
    "cnn = cnn.to(device)"
   ],
   "outputs": [],
   "metadata": {}
  },
  {
   "cell_type": "code",
   "execution_count": 37,
   "source": [
    "criterion = nn.CrossEntropyLoss().to(device)\n",
    "optimizer = torch.optim.Adam(params=cnn.parameters(), lr=LR)"
   ],
   "outputs": [],
   "metadata": {}
  },
  {
   "cell_type": "code",
   "execution_count": 8,
   "source": [
    "@torch.no_grad()\n",
    "def eval_model(model):\n",
    "    correct = 0\n",
    "    total = 0\n",
    "    loss_list = []\n",
    "\n",
    "    for images, labels in val_loader:\n",
    "        images = images.to(device)\n",
    "        labels = labels.to(device)\n",
    "\n",
    "        # Forward pass only to get logits/output\n",
    "        outputs = model(images)\n",
    "\n",
    "        loss = criterion(outputs, labels)\n",
    "        loss_list.append(loss.item())\n",
    "\n",
    "        # Get predictions from the maximum value\n",
    "        preds = torch.argmax(outputs, dim=1)\n",
    "        correct += len(torch.where(preds == labels)[0])\n",
    "        total += len(labels)\n",
    "\n",
    "    # Total correct predictions and loss\n",
    "    accuracy = correct / total * 100\n",
    "    loss = np.mean(loss_list)\n",
    "    return accuracy, loss\n",
    "\n",
    "\n",
    "def save_model(model, optimizer, epoch, stats, val, time):\n",
    "    \"\"\" Saving model checkpoint \"\"\"\n",
    "    if(not os.path.exists(\"models\")):\n",
    "        os.makedirs(\"models\")\n",
    "    if (val):\n",
    "\n",
    "        savepath = f\"models/best_val_{stats['model']}.pth\"\n",
    "\n",
    "        torch.save({\n",
    "            'time': time,\n",
    "            'epoch': epoch,\n",
    "            'model_state_dict': model.state_dict(),\n",
    "            'optimizer_state_dict': optimizer.state_dict(),\n",
    "            'stats': stats\n",
    "        }, savepath)\n",
    "        \n",
    "    else:\n",
    "\n",
    "        savepath = f\"models/{stats['model']}_checkpoint_epoch_{epoch}.pth\"\n",
    "\n",
    "        torch.save({\n",
    "            'time': time,\n",
    "            'epoch': epoch,\n",
    "            'model_state_dict': model.state_dict(),\n",
    "            'optimizer_state_dict': optimizer.state_dict(),\n",
    "            'stats': stats\n",
    "        }, savepath)\n",
    "\n",
    "    return\n",
    "\n",
    "\n",
    "def load_model(model, optimizer, savepath):\n",
    "    \"\"\" Loading pretrained checkpoint \"\"\"\n",
    "\n",
    "    checkpoint = torch.load(savepath)\n",
    "    model.load_state_dict(checkpoint['model_state_dict'])\n",
    "    optimizer.load_state_dict(checkpoint['optimizer_state_dict'])\n",
    "    epoch = checkpoint[\"epoch\"]\n",
    "    stats = checkpoint[\"stats\"]\n",
    "    time = checkpoint[\"time\"]\n",
    "\n",
    "    return model, optimizer, epoch, stats,time\n",
    "\n",
    "\n",
    "def test_model(model):\n",
    "\n",
    "    correct = 0\n",
    "    total = 0\n",
    "\n",
    "    for images, labels in test_loader:\n",
    "        images = images.to(device)\n",
    "        labels = labels.to(device)\n",
    "\n",
    "        # Forward pass only to get logits/output\n",
    "        outputs = model(images)\n",
    "\n",
    "        # Get predictions from the maximum value\n",
    "        preds = torch.argmax(outputs, dim=1)\n",
    "        correct += len(torch.where(preds == labels)[0])\n",
    "        total += len(labels)\n",
    "\n",
    "    # Total correct predictions and loss\n",
    "    accuracy = correct / total * 100\n",
    "    \n",
    "    return accuracy"
   ],
   "outputs": [],
   "metadata": {}
  },
  {
   "cell_type": "code",
   "execution_count": 39,
   "source": [
    "loss_hist = []\n",
    "stats['model'] = 'dropout'\n",
    "stats['parameters'] = params\n",
    "start = time.perf_counter()\n",
    "for epoch in range(EPOCHS):\n",
    "    progress_bar = tqdm(enumerate(train_loader), total=len(train_loader))\n",
    "    for i,(images,labels) in progress_bar:\n",
    "\n",
    "        loss_list = []\n",
    "\n",
    "        x = images.to(device)\n",
    "        y_train = labels.to(device)\n",
    "        # Clear gradients w.r.t. parameters\n",
    "        optimizer.zero_grad()\n",
    "\n",
    "        # Forward pass to get output/logits\n",
    "        outputs = cnn(x)\n",
    "\n",
    "        # Calculate Loss: softmax --> cross entropy loss\n",
    "        loss = criterion(outputs, y_train)\n",
    "\n",
    "        # Getting gradients w.r.t. parameters\n",
    "        loss.backward()\n",
    "        loss_list.append(loss.item())\n",
    "\n",
    "        # Updating parameters\n",
    "        optimizer.step()\n",
    "        progress_bar.set_description(f\"Epoch {epoch+1} Iter {i+1}: loss {loss.item():.5f}. \")\n",
    "    \n",
    "    loss_hist.append(np.mean(loss_list))\n",
    "    stats[\"epoch\"].append(epoch)\n",
    "    stats[\"train_loss\"].append(loss_hist[-1])\n",
    "    \n",
    "\n",
    "    if epoch % EVAL_FREQ == 0:\n",
    "        accuracy, valid_loss = eval_model(cnn)\n",
    "        print(f\"Accuracy at epoch {epoch}: {round(accuracy, 2)}%\")\n",
    "    else:\n",
    "        accuracy, valid_loss = -1, -1\n",
    "    \n",
    "    stats[\"accuracy\"].append(accuracy)\n",
    "    stats[\"valid_loss\"].append(valid_loss)\n",
    "\n",
    "\n",
    "    #Saving best validation model\n",
    "    if accuracy > val_acc:\n",
    "        print(f\"Best val model {epoch}\")\n",
    "        end = time.perf_counter()\n",
    "        val_acc = accuracy\n",
    "        save_model(model=cnn, optimizer=optimizer,\n",
    "                   epoch=epoch, stats=stats, val=True, time = end-start)\n",
    "\n",
    "\n",
    "    if epoch % SAVE_FREQ == 0:\n",
    "        end = time.perf_counter()\n",
    "        save_model(model=cnn, optimizer=optimizer, epoch=epoch, stats=stats,val = False,time= end-start)\n",
    "\n",
    "end = time.perf_counter()\n",
    "time = end - start\n",
    "save_model(model=cnn, optimizer=optimizer, epoch=epoch, stats=stats, val=False, time= time)\n"
   ],
   "outputs": [
    {
     "output_type": "stream",
     "name": "stderr",
     "text": [
      "Epoch 1 Iter 352: loss 1.76942. : 100%|██████████| 352/352 [00:04<00:00, 86.85it/s]\n"
     ]
    },
    {
     "output_type": "stream",
     "name": "stdout",
     "text": [
      "Accuracy at epoch 0: 38.64%\n",
      "Best val model 0\n"
     ]
    },
    {
     "output_type": "stream",
     "name": "stderr",
     "text": [
      "Epoch 2 Iter 352: loss 1.56265. : 100%|██████████| 352/352 [00:03<00:00, 88.77it/s]\n"
     ]
    },
    {
     "output_type": "stream",
     "name": "stdout",
     "text": [
      "Accuracy at epoch 1: 48.2%\n",
      "Best val model 1\n"
     ]
    },
    {
     "output_type": "stream",
     "name": "stderr",
     "text": [
      "Epoch 3 Iter 352: loss 1.17846. : 100%|██████████| 352/352 [00:04<00:00, 87.83it/s]\n"
     ]
    },
    {
     "output_type": "stream",
     "name": "stdout",
     "text": [
      "Accuracy at epoch 2: 52.14%\n",
      "Best val model 2\n"
     ]
    },
    {
     "output_type": "stream",
     "name": "stderr",
     "text": [
      "Epoch 4 Iter 352: loss 1.29257. : 100%|██████████| 352/352 [00:03<00:00, 88.62it/s]\n"
     ]
    },
    {
     "output_type": "stream",
     "name": "stdout",
     "text": [
      "Accuracy at epoch 3: 56.1%\n",
      "Best val model 3\n"
     ]
    },
    {
     "output_type": "stream",
     "name": "stderr",
     "text": [
      "Epoch 5 Iter 352: loss 0.96033. : 100%|██████████| 352/352 [00:03<00:00, 88.48it/s]\n"
     ]
    },
    {
     "output_type": "stream",
     "name": "stdout",
     "text": [
      "Accuracy at epoch 4: 58.52%\n",
      "Best val model 4\n"
     ]
    },
    {
     "output_type": "stream",
     "name": "stderr",
     "text": [
      "Epoch 6 Iter 352: loss 1.24213. : 100%|██████████| 352/352 [00:03<00:00, 88.61it/s]\n"
     ]
    },
    {
     "output_type": "stream",
     "name": "stdout",
     "text": [
      "Accuracy at epoch 5: 61.06%\n",
      "Best val model 5\n"
     ]
    },
    {
     "output_type": "stream",
     "name": "stderr",
     "text": [
      "Epoch 7 Iter 352: loss 1.12458. : 100%|██████████| 352/352 [00:03<00:00, 88.26it/s]\n"
     ]
    },
    {
     "output_type": "stream",
     "name": "stdout",
     "text": [
      "Accuracy at epoch 6: 63.22%\n",
      "Best val model 6\n"
     ]
    },
    {
     "output_type": "stream",
     "name": "stderr",
     "text": [
      "Epoch 8 Iter 352: loss 0.85318. : 100%|██████████| 352/352 [00:03<00:00, 88.00it/s]\n"
     ]
    },
    {
     "output_type": "stream",
     "name": "stdout",
     "text": [
      "Accuracy at epoch 7: 64.78%\n",
      "Best val model 7\n"
     ]
    },
    {
     "output_type": "stream",
     "name": "stderr",
     "text": [
      "Epoch 9 Iter 352: loss 0.92302. : 100%|██████████| 352/352 [00:04<00:00, 87.54it/s]\n"
     ]
    },
    {
     "output_type": "stream",
     "name": "stdout",
     "text": [
      "Accuracy at epoch 8: 66.1%\n",
      "Best val model 8\n"
     ]
    },
    {
     "output_type": "stream",
     "name": "stderr",
     "text": [
      "Epoch 10 Iter 352: loss 0.73437. : 100%|██████████| 352/352 [00:04<00:00, 87.49it/s]\n"
     ]
    },
    {
     "output_type": "stream",
     "name": "stdout",
     "text": [
      "Accuracy at epoch 9: 68.06%\n",
      "Best val model 9\n"
     ]
    },
    {
     "output_type": "stream",
     "name": "stderr",
     "text": [
      "Epoch 11 Iter 352: loss 0.81688. : 100%|██████████| 352/352 [00:04<00:00, 87.53it/s]\n"
     ]
    },
    {
     "output_type": "stream",
     "name": "stdout",
     "text": [
      "Accuracy at epoch 10: 67.92%\n"
     ]
    },
    {
     "output_type": "stream",
     "name": "stderr",
     "text": [
      "Epoch 12 Iter 352: loss 0.59374. : 100%|██████████| 352/352 [00:04<00:00, 87.90it/s]\n"
     ]
    },
    {
     "output_type": "stream",
     "name": "stdout",
     "text": [
      "Accuracy at epoch 11: 69.84%\n",
      "Best val model 11\n"
     ]
    },
    {
     "output_type": "stream",
     "name": "stderr",
     "text": [
      "Epoch 13 Iter 352: loss 0.54925. : 100%|██████████| 352/352 [00:04<00:00, 86.41it/s]\n"
     ]
    },
    {
     "output_type": "stream",
     "name": "stdout",
     "text": [
      "Accuracy at epoch 12: 69.74%\n"
     ]
    },
    {
     "output_type": "stream",
     "name": "stderr",
     "text": [
      "Epoch 14 Iter 352: loss 0.80260. : 100%|██████████| 352/352 [00:03<00:00, 89.54it/s]\n"
     ]
    },
    {
     "output_type": "stream",
     "name": "stdout",
     "text": [
      "Accuracy at epoch 13: 70.78%\n",
      "Best val model 13\n"
     ]
    },
    {
     "output_type": "stream",
     "name": "stderr",
     "text": [
      "Epoch 15 Iter 352: loss 0.74501. : 100%|██████████| 352/352 [00:03<00:00, 95.03it/s]\n"
     ]
    },
    {
     "output_type": "stream",
     "name": "stdout",
     "text": [
      "Accuracy at epoch 14: 72.16%\n",
      "Best val model 14\n"
     ]
    },
    {
     "output_type": "stream",
     "name": "stderr",
     "text": [
      "Epoch 16 Iter 352: loss 0.51143. : 100%|██████████| 352/352 [00:03<00:00, 95.32it/s]\n"
     ]
    },
    {
     "output_type": "stream",
     "name": "stdout",
     "text": [
      "Accuracy at epoch 15: 71.76%\n"
     ]
    },
    {
     "output_type": "stream",
     "name": "stderr",
     "text": [
      "Epoch 17 Iter 352: loss 0.59374. : 100%|██████████| 352/352 [00:03<00:00, 89.81it/s]\n"
     ]
    },
    {
     "output_type": "stream",
     "name": "stdout",
     "text": [
      "Accuracy at epoch 16: 73.44%\n",
      "Best val model 16\n"
     ]
    },
    {
     "output_type": "stream",
     "name": "stderr",
     "text": [
      "Epoch 18 Iter 352: loss 0.68536. : 100%|██████████| 352/352 [00:03<00:00, 90.91it/s]\n"
     ]
    },
    {
     "output_type": "stream",
     "name": "stdout",
     "text": [
      "Accuracy at epoch 17: 74.08%\n",
      "Best val model 17\n"
     ]
    },
    {
     "output_type": "stream",
     "name": "stderr",
     "text": [
      "Epoch 19 Iter 352: loss 0.71364. : 100%|██████████| 352/352 [00:03<00:00, 94.63it/s]\n"
     ]
    },
    {
     "output_type": "stream",
     "name": "stdout",
     "text": [
      "Accuracy at epoch 18: 73.56%\n"
     ]
    },
    {
     "output_type": "stream",
     "name": "stderr",
     "text": [
      "Epoch 20 Iter 352: loss 0.56503. : 100%|██████████| 352/352 [00:03<00:00, 92.93it/s]\n"
     ]
    },
    {
     "output_type": "stream",
     "name": "stdout",
     "text": [
      "Accuracy at epoch 19: 73.94%\n"
     ]
    },
    {
     "output_type": "stream",
     "name": "stderr",
     "text": [
      "Epoch 21 Iter 352: loss 0.67154. : 100%|██████████| 352/352 [00:03<00:00, 94.28it/s]\n"
     ]
    },
    {
     "output_type": "stream",
     "name": "stdout",
     "text": [
      "Accuracy at epoch 20: 75.58%\n",
      "Best val model 20\n"
     ]
    },
    {
     "output_type": "stream",
     "name": "stderr",
     "text": [
      "Epoch 22 Iter 352: loss 0.42966. : 100%|██████████| 352/352 [00:03<00:00, 92.80it/s]\n"
     ]
    },
    {
     "output_type": "stream",
     "name": "stdout",
     "text": [
      "Accuracy at epoch 21: 75.64%\n",
      "Best val model 21\n"
     ]
    },
    {
     "output_type": "stream",
     "name": "stderr",
     "text": [
      "Epoch 23 Iter 352: loss 0.51393. : 100%|██████████| 352/352 [00:03<00:00, 91.89it/s]\n"
     ]
    },
    {
     "output_type": "stream",
     "name": "stdout",
     "text": [
      "Accuracy at epoch 22: 75.98%\n",
      "Best val model 22\n"
     ]
    },
    {
     "output_type": "stream",
     "name": "stderr",
     "text": [
      "Epoch 24 Iter 352: loss 0.51391. : 100%|██████████| 352/352 [00:03<00:00, 94.13it/s]\n"
     ]
    },
    {
     "output_type": "stream",
     "name": "stdout",
     "text": [
      "Accuracy at epoch 23: 76.3%\n",
      "Best val model 23\n"
     ]
    },
    {
     "output_type": "stream",
     "name": "stderr",
     "text": [
      "Epoch 25 Iter 352: loss 0.45082. : 100%|██████████| 352/352 [00:03<00:00, 92.27it/s]\n"
     ]
    },
    {
     "output_type": "stream",
     "name": "stdout",
     "text": [
      "Accuracy at epoch 24: 76.24%\n"
     ]
    },
    {
     "output_type": "stream",
     "name": "stderr",
     "text": [
      "Epoch 26 Iter 352: loss 0.38119. : 100%|██████████| 352/352 [00:03<00:00, 93.54it/s]\n"
     ]
    },
    {
     "output_type": "stream",
     "name": "stdout",
     "text": [
      "Accuracy at epoch 25: 76.14%\n"
     ]
    },
    {
     "output_type": "stream",
     "name": "stderr",
     "text": [
      "Epoch 27 Iter 352: loss 0.62012. : 100%|██████████| 352/352 [00:03<00:00, 98.53it/s]\n"
     ]
    },
    {
     "output_type": "stream",
     "name": "stdout",
     "text": [
      "Accuracy at epoch 26: 76.42%\n",
      "Best val model 26\n"
     ]
    },
    {
     "output_type": "stream",
     "name": "stderr",
     "text": [
      "Epoch 28 Iter 352: loss 0.32799. : 100%|██████████| 352/352 [00:03<00:00, 95.19it/s]\n"
     ]
    },
    {
     "output_type": "stream",
     "name": "stdout",
     "text": [
      "Accuracy at epoch 27: 75.38%\n"
     ]
    },
    {
     "output_type": "stream",
     "name": "stderr",
     "text": [
      "Epoch 29 Iter 352: loss 0.48209. : 100%|██████████| 352/352 [00:03<00:00, 95.19it/s]\n"
     ]
    },
    {
     "output_type": "stream",
     "name": "stdout",
     "text": [
      "Accuracy at epoch 28: 77.66%\n",
      "Best val model 28\n"
     ]
    },
    {
     "output_type": "stream",
     "name": "stderr",
     "text": [
      "Epoch 30 Iter 352: loss 0.21484. : 100%|██████████| 352/352 [00:03<00:00, 94.97it/s]\n"
     ]
    },
    {
     "output_type": "stream",
     "name": "stdout",
     "text": [
      "Accuracy at epoch 29: 76.34%\n"
     ]
    },
    {
     "output_type": "stream",
     "name": "stderr",
     "text": [
      "Epoch 31 Iter 352: loss 0.28998. : 100%|██████████| 352/352 [00:03<00:00, 96.68it/s]\n"
     ]
    },
    {
     "output_type": "stream",
     "name": "stdout",
     "text": [
      "Accuracy at epoch 30: 76.36%\n"
     ]
    },
    {
     "output_type": "stream",
     "name": "stderr",
     "text": [
      "Epoch 32 Iter 352: loss 0.39086. : 100%|██████████| 352/352 [00:03<00:00, 88.35it/s]\n"
     ]
    },
    {
     "output_type": "stream",
     "name": "stdout",
     "text": [
      "Accuracy at epoch 31: 76.62%\n"
     ]
    },
    {
     "output_type": "stream",
     "name": "stderr",
     "text": [
      "Epoch 33 Iter 352: loss 0.22089. : 100%|██████████| 352/352 [00:03<00:00, 97.79it/s] \n"
     ]
    },
    {
     "output_type": "stream",
     "name": "stdout",
     "text": [
      "Accuracy at epoch 32: 76.86%\n"
     ]
    },
    {
     "output_type": "stream",
     "name": "stderr",
     "text": [
      "Epoch 34 Iter 352: loss 0.37690. : 100%|██████████| 352/352 [00:03<00:00, 89.90it/s]\n"
     ]
    },
    {
     "output_type": "stream",
     "name": "stdout",
     "text": [
      "Accuracy at epoch 33: 76.68%\n"
     ]
    },
    {
     "output_type": "stream",
     "name": "stderr",
     "text": [
      "Epoch 35 Iter 352: loss 0.38501. : 100%|██████████| 352/352 [00:03<00:00, 93.06it/s]\n"
     ]
    },
    {
     "output_type": "stream",
     "name": "stdout",
     "text": [
      "Accuracy at epoch 34: 77.54%\n"
     ]
    },
    {
     "output_type": "stream",
     "name": "stderr",
     "text": [
      "Epoch 36 Iter 352: loss 0.47767. : 100%|██████████| 352/352 [00:03<00:00, 97.29it/s]\n"
     ]
    },
    {
     "output_type": "stream",
     "name": "stdout",
     "text": [
      "Accuracy at epoch 35: 77.18%\n"
     ]
    },
    {
     "output_type": "stream",
     "name": "stderr",
     "text": [
      "Epoch 37 Iter 352: loss 0.33219. : 100%|██████████| 352/352 [00:03<00:00, 94.65it/s]\n"
     ]
    },
    {
     "output_type": "stream",
     "name": "stdout",
     "text": [
      "Accuracy at epoch 36: 77.14%\n"
     ]
    },
    {
     "output_type": "stream",
     "name": "stderr",
     "text": [
      "Epoch 38 Iter 352: loss 0.39583. : 100%|██████████| 352/352 [00:03<00:00, 95.45it/s]\n"
     ]
    },
    {
     "output_type": "stream",
     "name": "stdout",
     "text": [
      "Accuracy at epoch 37: 76.82%\n"
     ]
    },
    {
     "output_type": "stream",
     "name": "stderr",
     "text": [
      "Epoch 39 Iter 352: loss 0.25859. : 100%|██████████| 352/352 [00:03<00:00, 96.41it/s]\n"
     ]
    },
    {
     "output_type": "stream",
     "name": "stdout",
     "text": [
      "Accuracy at epoch 38: 77.84%\n",
      "Best val model 38\n"
     ]
    },
    {
     "output_type": "stream",
     "name": "stderr",
     "text": [
      "Epoch 40 Iter 352: loss 0.29089. : 100%|██████████| 352/352 [00:03<00:00, 97.51it/s]\n"
     ]
    },
    {
     "output_type": "stream",
     "name": "stdout",
     "text": [
      "Accuracy at epoch 39: 77.5%\n"
     ]
    },
    {
     "output_type": "stream",
     "name": "stderr",
     "text": [
      "Epoch 41 Iter 352: loss 0.28294. : 100%|██████████| 352/352 [00:03<00:00, 99.51it/s] \n"
     ]
    },
    {
     "output_type": "stream",
     "name": "stdout",
     "text": [
      "Accuracy at epoch 40: 77.26%\n"
     ]
    },
    {
     "output_type": "stream",
     "name": "stderr",
     "text": [
      "Epoch 42 Iter 352: loss 0.32132. : 100%|██████████| 352/352 [00:03<00:00, 96.33it/s]\n"
     ]
    },
    {
     "output_type": "stream",
     "name": "stdout",
     "text": [
      "Accuracy at epoch 41: 76.06%\n"
     ]
    },
    {
     "output_type": "stream",
     "name": "stderr",
     "text": [
      "Epoch 43 Iter 352: loss 0.37147. : 100%|██████████| 352/352 [00:03<00:00, 98.34it/s] \n"
     ]
    },
    {
     "output_type": "stream",
     "name": "stdout",
     "text": [
      "Accuracy at epoch 42: 76.9%\n"
     ]
    },
    {
     "output_type": "stream",
     "name": "stderr",
     "text": [
      "Epoch 44 Iter 352: loss 0.28962. : 100%|██████████| 352/352 [00:03<00:00, 96.95it/s] \n"
     ]
    },
    {
     "output_type": "stream",
     "name": "stdout",
     "text": [
      "Accuracy at epoch 43: 77.76%\n"
     ]
    },
    {
     "output_type": "stream",
     "name": "stderr",
     "text": [
      "Epoch 45 Iter 352: loss 0.32261. : 100%|██████████| 352/352 [00:03<00:00, 97.53it/s]\n"
     ]
    },
    {
     "output_type": "stream",
     "name": "stdout",
     "text": [
      "Accuracy at epoch 44: 78.48%\n",
      "Best val model 44\n"
     ]
    },
    {
     "output_type": "stream",
     "name": "stderr",
     "text": [
      "Epoch 46 Iter 352: loss 0.16633. : 100%|██████████| 352/352 [00:03<00:00, 97.29it/s] \n"
     ]
    },
    {
     "output_type": "stream",
     "name": "stdout",
     "text": [
      "Accuracy at epoch 45: 77.82%\n"
     ]
    },
    {
     "output_type": "stream",
     "name": "stderr",
     "text": [
      "Epoch 47 Iter 352: loss 0.51933. : 100%|██████████| 352/352 [00:03<00:00, 99.41it/s] \n"
     ]
    },
    {
     "output_type": "stream",
     "name": "stdout",
     "text": [
      "Accuracy at epoch 46: 78.44%\n"
     ]
    },
    {
     "output_type": "stream",
     "name": "stderr",
     "text": [
      "Epoch 48 Iter 352: loss 0.16003. : 100%|██████████| 352/352 [00:03<00:00, 98.22it/s] \n"
     ]
    },
    {
     "output_type": "stream",
     "name": "stdout",
     "text": [
      "Accuracy at epoch 47: 78.5%\n",
      "Best val model 47\n"
     ]
    },
    {
     "output_type": "stream",
     "name": "stderr",
     "text": [
      "Epoch 49 Iter 352: loss 0.24748. : 100%|██████████| 352/352 [00:03<00:00, 97.51it/s]\n"
     ]
    },
    {
     "output_type": "stream",
     "name": "stdout",
     "text": [
      "Accuracy at epoch 48: 78.14%\n"
     ]
    },
    {
     "output_type": "stream",
     "name": "stderr",
     "text": [
      "Epoch 50 Iter 352: loss 0.33329. : 100%|██████████| 352/352 [00:03<00:00, 98.09it/s] \n"
     ]
    },
    {
     "output_type": "stream",
     "name": "stdout",
     "text": [
      "Accuracy at epoch 49: 78.06%\n"
     ]
    }
   ],
   "metadata": {}
  },
  {
   "cell_type": "markdown",
   "source": [
    "# Testing"
   ],
   "metadata": {}
  },
  {
   "cell_type": "code",
   "execution_count": 28,
   "source": [
    "savepath = os.path.join(os.getcwd(), \"models/\", \"best_val_naiive.pth\")\n"
   ],
   "outputs": [],
   "metadata": {}
  },
  {
   "cell_type": "code",
   "execution_count": 29,
   "source": [
    "cnn_test = SCNN(activation='lrelu',batch_norm='none',dropout=False)\n",
    "device = torch.device(\"cuda\" if torch.cuda.is_available() else \"cpu\")\n",
    "cnn_test = cnn_test.to(device)\n",
    "criterion = nn.CrossEntropyLoss().to(device)\n",
    "optimizer = torch.optim.Adam(params=cnn_test.parameters(), lr=LR)"
   ],
   "outputs": [
    {
     "output_type": "stream",
     "name": "stdout",
     "text": [
      "CNN with no dropout\n"
     ]
    }
   ],
   "metadata": {}
  },
  {
   "cell_type": "code",
   "execution_count": 30,
   "source": [
    "model_lrelu,optimizer_lrelu,epoch_lrelu,stats_lrelu,time_lrelu = load_model(model=cnn_test,optimizer=optimizer,savepath=savepath)"
   ],
   "outputs": [],
   "metadata": {}
  },
  {
   "cell_type": "code",
   "execution_count": 31,
   "source": [
    "acc = test_model(model_lrelu)\n",
    "print(acc)"
   ],
   "outputs": [
    {
     "output_type": "stream",
     "name": "stdout",
     "text": [
      "74.13\n",
      "36\n"
     ]
    }
   ],
   "metadata": {}
  },
  {
   "cell_type": "markdown",
   "source": [
    "# Comparision"
   ],
   "metadata": {}
  },
  {
   "cell_type": "markdown",
   "source": [
    "## Training Time,Accuracy & Parameters"
   ],
   "metadata": {}
  },
  {
   "cell_type": "markdown",
   "source": [
    "**Evaluated on best validation model**\n",
    "\n",
    "$$\n",
    "\\begin{aligned}\n",
    "& \\text {Comparision of accuracy,parameters and training time of different models}\\\\\n",
    "&\\begin{array}{llccc}\n",
    "\\hline \\text { Models } & \\text {Activation} & \\text {Accuracy} & \\text {Training Time} & \\text {Parameters}  \\\\\n",
    "\\hline \\text {BaseModel}       & \\text{ReLU}             & 73.06          & 302.558                & 550570   \\\\\n",
    "\\text{BaseModel}                      & \\text{LeakyReLU} & 73.24          & 207.877                & 550570   \\\\\n",
    "\\text{BaseModel}                      & \\text{ELU}       & 75.09          & 205.762                & 550570   \\\\ \n",
    "\\text{BaseModel w/ Dropout}           & \\text{ReLU}      & \\textbf{81.84} & 1037.688               & 550570   \\\\\n",
    "\\text{BaseModel w/ Batch-Norm}        & \\text{ReLU}      & 78.11          & \\textbf{173.929}       & 551466   \\\\\n",
    "\\text{BaseModel w/ Group-Norm}        & \\text{ReLU}      & 77.6           & 233.996                & 551466   \\\\\n",
    "\\text{MLP}                            & \\text{ReLU}      & 51.2           & -                      & 869578   \\\\\n",
    "\\hline\n",
    "\\end{array}\n",
    "\\end{aligned}\n",
    "$$"
   ],
   "metadata": {}
  },
  {
   "cell_type": "markdown",
   "source": [
    "- Droupout, Batch Norm are methods for reguralization and we can see improvement in accuracy\n",
    "- Same behaviour is seen in activation as LeakyRelu and ELU improves over some disadvantages of ReLU improvement is seen in accuracy but just by small margin"
   ],
   "metadata": {}
  },
  {
   "cell_type": "markdown",
   "source": [
    "## Generalization"
   ],
   "metadata": {}
  },
  {
   "cell_type": "markdown",
   "source": [
    "- Plots for different training and validation loss\n",
    "- "
   ],
   "metadata": {}
  },
  {
   "cell_type": "code",
   "execution_count": 15,
   "source": [
    "cnn = SCNN(activation='relu', batch_norm='none', dropout=False)\n",
    "device = torch.device(\"cuda\" if torch.cuda.is_available() else \"cpu\")\n",
    "cnn = cnn.to(device)\n",
    "criterion = nn.CrossEntropyLoss().to(device)\n",
    "optimizer = torch.optim.Adam(params=cnn.parameters(), lr=LR)\n",
    "\n",
    "savepath = os.path.join(os.getcwd(\n",
    "), \"models/\", \"naiive_checkpoint_epoch_49.pth\")\n",
    "\n",
    "model_naiive, optimizer_naiive, epoch_naiive, stats_naiive, time_naiive = load_model(\n",
    "    model=cnn, optimizer=optimizer, savepath=savepath)\n",
    "\n",
    "\n",
    "cnn = SCNN(activation='relu', batch_norm='none', dropout=True)\n",
    "device = torch.device(\"cuda\" if torch.cuda.is_available() else \"cpu\")\n",
    "cnn = cnn.to(device)\n",
    "criterion = nn.CrossEntropyLoss().to(device)\n",
    "optimizer = torch.optim.Adam(params=cnn.parameters(), lr=LR)\n",
    "\n",
    "savepath = os.path.join(os.getcwd(\n",
    "), \"models/\", \"dropout_checkpoint_epoch_49.pth\")\n",
    "\n",
    "model_dropout, optimizer_dropout, epoch_dropout, stats_dropout, time_dropout = load_model(\n",
    "    model=cnn, optimizer=optimizer, savepath=savepath)\n",
    "\n",
    "\n",
    "cnn = SCNN(activation='relu', batch_norm='bnorm', dropout=False)\n",
    "device = torch.device(\"cuda\" if torch.cuda.is_available() else \"cpu\")\n",
    "cnn= cnn.to(device)\n",
    "criterion = nn.CrossEntropyLoss().to(device)\n",
    "optimizer = torch.optim.Adam(params=cnn.parameters(), lr=LR)\n",
    "savepath = os.path.join(os.getcwd(\n",
    "), \"models/\", \"bnorm_checkpoint_epoch_49.pth\")\n",
    "\n",
    "model_bnorm, optimizer_bnorm, epoch_bnorm, stats_bnorm, time_bnorm = load_model(\n",
    "    model=cnn, optimizer=optimizer, savepath=savepath)\n",
    "\n",
    "\n",
    "cnn = SCNN(activation='relu', batch_norm='gnorm', dropout=False)\n",
    "device = torch.device(\"cuda\" if torch.cuda.is_available() else \"cpu\")\n",
    "cnn = cnn.to(device)\n",
    "criterion = nn.CrossEntropyLoss().to(device)\n",
    "optimizer = torch.optim.Adam(params=cnn.parameters(), lr=LR)\n",
    "\n",
    "\n",
    "savepath = os.path.join(os.getcwd(\n",
    "), \"models/\", \"gnorm_checkpoint_epoch_49.pth\")\n",
    "\n",
    "model_gnorm,optimizer_gnorm,epoch_gnorm,stats_gnorm,time_gnorm = load_model(model=cnn,optimizer=optimizer,savepath=savepath)"
   ],
   "outputs": [
    {
     "output_type": "stream",
     "name": "stdout",
     "text": [
      "CNN with no dropout\n",
      "CNN with dropout \n",
      "CNN with no dropout\n",
      "CNN with no dropout\n"
     ]
    }
   ],
   "metadata": {}
  },
  {
   "cell_type": "code",
   "execution_count": 18,
   "source": [
    "train_losses_naiive = np.array(stats_naiive['train_loss'],dtype=np.float)\n",
    "train_losses_bnorm = np.array(stats_bnorm['train_loss'],dtype=np.float)\n",
    "train_losses_gnorm = np.array(stats_gnorm['train_loss'],dtype=np.float)\n",
    "train_losses_dropout = np.array(stats_dropout['train_loss'],dtype=np.float)\n",
    "\n",
    "val_losses_naiive = np.array(stats_naiive['valid_loss'],dtype=np.float)\n",
    "val_losses_bnorm  = np.array(stats_bnorm['valid_loss'],dtype=np.float)\n",
    "val_losses_gnorm  = np.array(stats_gnorm['valid_loss'],dtype=np.float)\n",
    "val_losses_dropout  = np.array(stats_dropout['valid_loss'],dtype=np.float)"
   ],
   "outputs": [
    {
     "output_type": "stream",
     "name": "stderr",
     "text": [
      "/home/dhagash/anaconda3/envs/dl/lib/python3.7/site-packages/ipykernel_launcher.py:1: DeprecationWarning: `np.float` is a deprecated alias for the builtin `float`. To silence this warning, use `float` by itself. Doing this will not modify any behavior and is safe. If you specifically wanted the numpy scalar type, use `np.float64` here.\n",
      "Deprecated in NumPy 1.20; for more details and guidance: https://numpy.org/devdocs/release/1.20.0-notes.html#deprecations\n",
      "  \"\"\"Entry point for launching an IPython kernel.\n",
      "/home/dhagash/anaconda3/envs/dl/lib/python3.7/site-packages/ipykernel_launcher.py:2: DeprecationWarning: `np.float` is a deprecated alias for the builtin `float`. To silence this warning, use `float` by itself. Doing this will not modify any behavior and is safe. If you specifically wanted the numpy scalar type, use `np.float64` here.\n",
      "Deprecated in NumPy 1.20; for more details and guidance: https://numpy.org/devdocs/release/1.20.0-notes.html#deprecations\n",
      "  \n",
      "/home/dhagash/anaconda3/envs/dl/lib/python3.7/site-packages/ipykernel_launcher.py:3: DeprecationWarning: `np.float` is a deprecated alias for the builtin `float`. To silence this warning, use `float` by itself. Doing this will not modify any behavior and is safe. If you specifically wanted the numpy scalar type, use `np.float64` here.\n",
      "Deprecated in NumPy 1.20; for more details and guidance: https://numpy.org/devdocs/release/1.20.0-notes.html#deprecations\n",
      "  This is separate from the ipykernel package so we can avoid doing imports until\n",
      "/home/dhagash/anaconda3/envs/dl/lib/python3.7/site-packages/ipykernel_launcher.py:4: DeprecationWarning: `np.float` is a deprecated alias for the builtin `float`. To silence this warning, use `float` by itself. Doing this will not modify any behavior and is safe. If you specifically wanted the numpy scalar type, use `np.float64` here.\n",
      "Deprecated in NumPy 1.20; for more details and guidance: https://numpy.org/devdocs/release/1.20.0-notes.html#deprecations\n",
      "  after removing the cwd from sys.path.\n",
      "/home/dhagash/anaconda3/envs/dl/lib/python3.7/site-packages/ipykernel_launcher.py:6: DeprecationWarning: `np.float` is a deprecated alias for the builtin `float`. To silence this warning, use `float` by itself. Doing this will not modify any behavior and is safe. If you specifically wanted the numpy scalar type, use `np.float64` here.\n",
      "Deprecated in NumPy 1.20; for more details and guidance: https://numpy.org/devdocs/release/1.20.0-notes.html#deprecations\n",
      "  \n",
      "/home/dhagash/anaconda3/envs/dl/lib/python3.7/site-packages/ipykernel_launcher.py:7: DeprecationWarning: `np.float` is a deprecated alias for the builtin `float`. To silence this warning, use `float` by itself. Doing this will not modify any behavior and is safe. If you specifically wanted the numpy scalar type, use `np.float64` here.\n",
      "Deprecated in NumPy 1.20; for more details and guidance: https://numpy.org/devdocs/release/1.20.0-notes.html#deprecations\n",
      "  import sys\n",
      "/home/dhagash/anaconda3/envs/dl/lib/python3.7/site-packages/ipykernel_launcher.py:8: DeprecationWarning: `np.float` is a deprecated alias for the builtin `float`. To silence this warning, use `float` by itself. Doing this will not modify any behavior and is safe. If you specifically wanted the numpy scalar type, use `np.float64` here.\n",
      "Deprecated in NumPy 1.20; for more details and guidance: https://numpy.org/devdocs/release/1.20.0-notes.html#deprecations\n",
      "  \n",
      "/home/dhagash/anaconda3/envs/dl/lib/python3.7/site-packages/ipykernel_launcher.py:9: DeprecationWarning: `np.float` is a deprecated alias for the builtin `float`. To silence this warning, use `float` by itself. Doing this will not modify any behavior and is safe. If you specifically wanted the numpy scalar type, use `np.float64` here.\n",
      "Deprecated in NumPy 1.20; for more details and guidance: https://numpy.org/devdocs/release/1.20.0-notes.html#deprecations\n",
      "  if __name__ == '__main__':\n"
     ]
    }
   ],
   "metadata": {}
  },
  {
   "cell_type": "code",
   "execution_count": 24,
   "source": [
    "plt.style.use('seaborn')\n",
    "fig, ax = plt.subplots(1, 4)\n",
    "fig.set_size_inches(18, 5)\n",
    "\n",
    "\n",
    "ax[0].plot(train_losses_naiive, c=\"blue\", label=\"Training loss\", linewidth=3)\n",
    "ax[0].plot(val_losses_naiive, c=\"red\", label=\"Val loss\", linewidth=3)\n",
    "ax[0].set_title(\"Basic Model\")\n",
    "ax[0].legend(loc=\"best\")\n",
    "ax[0].set_xlabel(\"Iteration\")\n",
    "ax[0].set_ylabel(\"Loss\")\n",
    "# ax[0].set_title(\"Train/Val Loss\")\n",
    "\n",
    "ax[1].plot(train_losses_bnorm, c=\"blue\",\n",
    "           label=\"Training loss\", linewidth=3)\n",
    "ax[1].plot(val_losses_bnorm, c=\"red\", label=\"Val loss\", linewidth=3)\n",
    "ax[1].legend(loc=\"best\")\n",
    "ax[1].set_title(\"Basic Model w/ Batch Norm\")\n",
    "ax[1].set_xlabel(\"Iteration\")\n",
    "ax[1].set_ylabel(\"Accuracy\")\n",
    "# ax[1].set_yscale(\"log\")\n",
    "# ax[1].set_title(\"Train/Val Loss\")\n",
    "\n",
    "\n",
    "ax[2].plot(train_losses_gnorm, c=\"blue\",\n",
    "           label=\"Training loss\", linewidth=3)\n",
    "ax[2].plot(val_losses_gnorm, c=\"red\", label=\"Val loss\", linewidth=3)\n",
    "ax[2].legend(loc=\"best\")\n",
    "ax[2].set_title(\"Basic Model w/ Group Norm\")\n",
    "ax[2].set_xlabel(\"Iteration\")\n",
    "ax[2].set_ylabel(\"Accuracy\")\n",
    "# ax[2].set_yscale(\"log\")\n",
    "# ax[2].set_title(\"Train/Val Loss\")\n",
    "\n",
    "ax[3].plot(train_losses_dropout, c=\"blue\",\n",
    "       label=\"Training loss\", linewidth=3)\n",
    "ax[3].plot(val_losses_dropout, c=\"red\", label=\"Val loss\", linewidth=3)\n",
    "ax[3].legend(loc=\"best\")\n",
    "ax[3].set_title(\"Basic Model w/ Dropout\")\n",
    "ax[3].set_xlabel(\"Iteration\")\n",
    "ax[3].set_ylabel(\"Accuracy\")\n",
    "# ax[3].set_yscale(\"log\")\n",
    "# ax[3].set_title(\"Train/Val Loss\")\n"
   ],
   "outputs": [
    {
     "output_type": "execute_result",
     "data": {
      "text/plain": [
       "Text(0, 0.5, 'Accuracy')"
      ]
     },
     "metadata": {},
     "execution_count": 24
    },
    {
     "output_type": "display_data",
     "data": {
      "image/png": "[encoded data removed]",
      "text/plain": [
       "<Figure size 1296x360 with 4 Axes>"
      ]
     },
     "metadata": {}
    }
   ],
   "metadata": {}
  },
  {
   "cell_type": "markdown",
   "source": [
    "- All the models are overfitting the data expect dropout to some extent\n",
    "- Models with regulizers converges faster than basic model"
   ],
   "metadata": {}
  },
  {
   "cell_type": "markdown",
   "source": [
    "# Activation Visualization"
   ],
   "metadata": {}
  },
  {
   "cell_type": "code",
   "execution_count": 19,
   "source": [
    "savepath = os.path.join(os.getcwd(), \"models\", \"best_val_scnn_elu.pth\")\n",
    "model,optimizer,epoch,stats,time= load_model(model=cnn,optimizer=optimizer,savepath=savepath)"
   ],
   "outputs": [],
   "metadata": {}
  },
  {
   "cell_type": "code",
   "execution_count": 20,
   "source": [
    "#Code from https://discuss.pytorch.org/t/visualize-feature-map/29597/6 {PyTorch Forum}\n",
    "# Visualize feature maps\n",
    "def get_activation(name):\n",
    "    def hook(model, input, output):\n",
    "        activation[name] = output.detach()\n",
    "    return hook\n"
   ],
   "outputs": [],
   "metadata": {}
  },
  {
   "cell_type": "code",
   "execution_count": 21,
   "source": [
    "datait = iter(test_loader)"
   ],
   "outputs": [],
   "metadata": {}
  },
  {
   "cell_type": "code",
   "execution_count": 22,
   "source": [
    "images,labels = datait.next()\n"
   ],
   "outputs": [],
   "metadata": {}
  },
  {
   "cell_type": "code",
   "execution_count": 23,
   "source": [
    "#Code from https://discuss.pytorch.org/t/visualize-feature-map/29597/6 {PyTorch Forum}\n",
    "activation = {}\n",
    "model.conv_net[0].register_forward_hook(get_activation('activation_conv1_1'))\n",
    "model.conv_net[2].register_forward_hook(get_activation('activation_conv1_2'))\n",
    "model.conv_net[5].register_forward_hook(get_activation('activation_conv2_1'))\n",
    "model.conv_net[7].register_forward_hook(get_activation('activation_conv2_2'))\n",
    "model.conv_net[10].register_forward_hook(get_activation('activation_conv3_1'))\n",
    "model.conv_net[12].register_forward_hook(get_activation('activation_conv3_2'))\n",
    "\n",
    "output = model(images[0].unsqueeze(0).to(device))\n",
    "# print(output.shape)\n",
    "\n",
    "\n"
   ],
   "outputs": [],
   "metadata": {}
  },
  {
   "cell_type": "code",
   "execution_count": 24,
   "source": [
    "num_plot = 5\n",
    "fig, axarr = plt.subplots(6, num_plot, figsize=(20, 20))\n",
    "fig.supxlabel('Different Channels')\n",
    "fig.supylabel('Activations of Conv layer')\n",
    "fig.tight_layout()\n",
    "\n",
    "for cnt,(k, v) in zip(range(6),activation.items()):\n",
    "    act = activation[k].squeeze()   \n",
    "    for idx in range(num_plot):\n",
    "        axarr[cnt,idx].imshow(act[idx].cpu().numpy(),cmap=\"gray\")"
   ],
   "outputs": [
    {
     "output_type": "display_data",
     "data": {
      "image/png": "[encoded data removed]",
      "text/plain": [
       "<Figure size 1440x1440 with 30 Axes>"
      ]
     },
     "metadata": {
      "needs_background": "light"
     }
    }
   ],
   "metadata": {}
  },
  {
   "cell_type": "markdown",
   "source": [
    "- As seen in the lecture the initial layers will learn about edges and orientation which is quite visible in first two rows and then its learning complex structures which are hard to recognize"
   ],
   "metadata": {}
  },
  {
   "cell_type": "markdown",
   "source": [
    "# Kernel Visualization "
   ],
   "metadata": {}
  },
  {
   "cell_type": "code",
   "execution_count": 25,
   "source": [
    "# https: // github.com/Niranjankumar-c/DeepLearning-PadhAI/blob/master/DeepLearning_Materials/6_VisualizationCNN_Pytorch/CNNVisualisation.ipynb\n",
    "\n",
    "def plot_rgb(weights):\n",
    "   \n",
    "    n_filters = 5\n",
    "    fig,ax = plt.subplots(1,n_filters,figsize = (8,8))\n",
    "\n",
    "\n",
    "    for i in range(n_filters):\n",
    "        weight = weights[i]\n",
    "        weight = weight - torch.min(weight)\n",
    "        weight = weight / torch.max(weight)\n",
    "        # weight.shape\n",
    "       \n",
    "        ax[i].imshow(weight.permute(1,2,0).cpu().numpy())\n",
    "    plt.show()\n",
    "\n",
    "def plot_single_channel(weights):\n",
    "\n",
    "    n_filters = 5\n",
    "    n_channels = 5\n",
    "    fig, ax = plt.subplots(n_filters, n_channels,figsize=(8, 8))\n",
    "\n",
    "    for i in  range(n_filters):\n",
    "        for j in range(n_channels):\n",
    "            # print(i,j)\n",
    "            weight = weights[i,j]\n",
    "            weight = weight - torch.min(weight)\n",
    "            weight = weight / torch.max(weight)\n",
    "\n",
    "            ax[i,j].imshow(weight.cpu().numpy())\n",
    "            ax[i, j].axis('off')\n",
    "            ax[i, j].set_title(str(i)+str(j))\n",
    "            ax[i, j].set_xticklabels([])\n",
    "            ax[i, j].set_yticklabels([])\n",
    "    \n",
    "    # plt.tight_layout()\n",
    "    plt.show()\n"
   ],
   "outputs": [],
   "metadata": {}
  },
  {
   "cell_type": "code",
   "execution_count": 26,
   "source": [
    "def plot_weights(model,layer_num):\n",
    "\n",
    "    layer = model.conv_net[layer_num]\n",
    "    print(layer)\n",
    "    \n",
    "    if isinstance(layer,nn.Conv2d):\n",
    "        weight_tensor = layer.weight.data.detach()\n",
    " \n",
    "        if weight_tensor.shape[1] == 3:\n",
    "            plot_rgb(weight_tensor)\n",
    "        else:\n",
    "            \n",
    "            plot_single_channel(weight_tensor)\n",
    "\n"
   ],
   "outputs": [],
   "metadata": {}
  },
  {
   "cell_type": "code",
   "execution_count": 27,
   "source": [
    "plot_weights(model,0)\n",
    "plot_weights(model,2)\n",
    "plot_weights(model,5)\n",
    "plot_weights(model,7)\n",
    "plot_weights(model,10)\n",
    "plot_weights(model, 12)\n"
   ],
   "outputs": [
    {
     "output_type": "stream",
     "name": "stdout",
     "text": [
      "Conv2d(3, 32, kernel_size=(3, 3), stride=(1, 1), padding=(1, 1))\n"
     ]
    },
    {
     "output_type": "display_data",
     "data": {
      "image/png": "[encoded data removed]",
      "text/plain": [
       "<Figure size 576x576 with 5 Axes>"
      ]
     },
     "metadata": {
      "needs_background": "light"
     }
    },
    {
     "output_type": "stream",
     "name": "stdout",
     "text": [
      "Conv2d(32, 32, kernel_size=(3, 3), stride=(1, 1), padding=(1, 1))\n"
     ]
    },
    {
     "output_type": "display_data",
     "data": {
      "image/png": "[encoded data removed]",
      "text/plain": [
       "<Figure size 576x576 with 25 Axes>"
      ]
     },
     "metadata": {
      "needs_background": "light"
     }
    },
    {
     "output_type": "stream",
     "name": "stdout",
     "text": [
      "Conv2d(32, 64, kernel_size=(3, 3), stride=(1, 1), padding=(1, 1))\n"
     ]
    },
    {
     "output_type": "display_data",
     "data": {
      "image/png": "[encoded data removed]",
      "text/plain": [
       "<Figure size 576x576 with 25 Axes>"
      ]
     },
     "metadata": {
      "needs_background": "light"
     }
    },
    {
     "output_type": "stream",
     "name": "stdout",
     "text": [
      "Conv2d(64, 64, kernel_size=(3, 3), stride=(1, 1), padding=(1, 1))\n"
     ]
    },
    {
     "output_type": "display_data",
     "data": {
      "image/png": "[encoded data removed]",
      "text/plain": [
       "<Figure size 576x576 with 25 Axes>"
      ]
     },
     "metadata": {
      "needs_background": "light"
     }
    },
    {
     "output_type": "stream",
     "name": "stdout",
     "text": [
      "Conv2d(64, 128, kernel_size=(3, 3), stride=(1, 1), padding=(1, 1))\n"
     ]
    },
    {
     "output_type": "display_data",
     "data": {
      "image/png": "[encoded data removed]",
      "text/plain": [
       "<Figure size 576x576 with 25 Axes>"
      ]
     },
     "metadata": {
      "needs_background": "light"
     }
    },
    {
     "output_type": "stream",
     "name": "stdout",
     "text": [
      "Conv2d(128, 128, kernel_size=(3, 3), stride=(1, 1), padding=(1, 1))\n"
     ]
    },
    {
     "output_type": "display_data",
     "data": {
      "image/png": "[encoded data removed]",
      "text/plain": [
       "<Figure size 576x576 with 25 Axes>"
      ]
     },
     "metadata": {
      "needs_background": "light"
     }
    }
   ],
   "metadata": {}
  },
  {
   "cell_type": "markdown",
   "source": [
    "- Kernels as they are 3x3 are hard to visualize"
   ],
   "metadata": {}
  },
  {
   "cell_type": "markdown",
   "source": [
    "# MLP Model"
   ],
   "metadata": {}
  },
  {
   "cell_type": "code",
   "execution_count": 32,
   "source": [
    "class Classifier(nn.Module):\n",
    "    def __init__(self):\n",
    "        super().__init__()\n",
    "        self.fc1 = nn.Linear(3072, 256)\n",
    "        self.fc2 = nn.Linear(256, 256)\n",
    "        self.fc3 = nn.Linear(256, 64)\n",
    "        self.fc4 = nn.Linear(64, 10)\n",
    "\n",
    "    def forward(self, x):\n",
    "        # make sure input tensor is flattened\n",
    "        x = x.view(x.shape[0], -1)\n",
    "\n",
    "        x = F.relu(self.fc1(x))\n",
    "        x = F.relu(self.fc2(x))\n",
    "        x = F.relu(self.fc3(x))\n",
    "        x = F.log_softmax(self.fc4(x), dim=1)\n",
    "\n",
    "        return x"
   ],
   "outputs": [],
   "metadata": {}
  },
  {
   "cell_type": "code",
   "execution_count": 34,
   "source": [
    "model = Classifier()\n",
    "model = model.to(device)\n",
    "\n",
    "criterion = nn.NLLLoss().to(device)\n",
    "lr = 0.00083\n",
    "optimizer = torch.optim.Adam(model.parameters(), lr=lr)\n",
    "\n",
    "epochs = 50\n",
    "steps = 0\n",
    "cm = [[0 for i in range(10)] for j in range(10)]\n"
   ],
   "outputs": [],
   "metadata": {}
  },
  {
   "cell_type": "code",
   "execution_count": 36,
   "source": [
    "print(count_model_params(model))\n"
   ],
   "outputs": [
    {
     "output_type": "stream",
     "name": "stdout",
     "text": [
      "869578\n"
     ]
    }
   ],
   "metadata": {}
  },
  {
   "cell_type": "code",
   "execution_count": 35,
   "source": [
    "train_losses, test_losses = [], []\n",
    "train_acc, test_acc = [], []\n",
    "start = time.perf_counter()\n",
    "for e in range(epochs):\n",
    "\n",
    "    running_loss = 0\n",
    "    accuracy2 = 0\n",
    "\n",
    "    for images, labels in train_loader:\n",
    "        images= images.to(device)\n",
    "        labels = labels.to(device)\n",
    "\n",
    "        optimizer.zero_grad()\n",
    "        log_ps = model(images)\n",
    "        loss = criterion(log_ps, labels)\n",
    "        loss.backward()\n",
    "\n",
    "        optimizer.step()\n",
    "        with torch.no_grad():\n",
    "          model.eval()\n",
    "          log_ps2 = log_ps.clone().detach()\n",
    "          ps2 = torch.exp(log_ps2)\n",
    "          top_p2, top_class2 = ps2.topk(1, dim=1)\n",
    "          equals2 = top_class2 == labels.view(*top_class2.shape)\n",
    "          accuracy2 += torch.mean(equals2.type(torch.FloatTensor))\n",
    "\n",
    "        model.train()\n",
    "        running_loss += loss.item()\n",
    "\n",
    "    else:\n",
    "        test_loss = 0\n",
    "        accuracy = 0\n",
    "\n",
    "        # Turn off gradients for validation, saves memory and computations\n",
    "        with torch.no_grad():\n",
    "\n",
    "            model.eval()\n",
    "            for images, labels in test_loader:\n",
    "                images= images.to(device)\n",
    "                labels = labels.to(device)\n",
    "                log_ps = model(images)\n",
    "                test_loss += criterion(log_ps, labels)\n",
    "\n",
    "                ps = torch.exp(log_ps)\n",
    "                top_p, top_class = ps.topk(1, dim=1)\n",
    "                equals = top_class == labels.view(*top_class.shape)\n",
    "                accuracy += torch.mean(equals.type(torch.FloatTensor))\n",
    "                # cm += confusion_matrix(labels.view(*top_class.shape).cpu(), top_class.cpu())\n",
    "\n",
    "        model.train()\n",
    "\n",
    "        train_losses.append(running_loss/len(train_loader))\n",
    "        test_losses.append(test_loss/len(test_loader))\n",
    "        train_acc.append(accuracy2/len(train_loader))\n",
    "        test_acc.append(accuracy/len(test_loader))\n",
    "        # Norm_grad.append(total_norm)\n",
    "\n",
    "        print(\"Epoch: {}/{}.. \".format(e+1, epochs),\n",
    "              \"Training Loss: {:.3f}.. \".format(train_losses[-1]),\n",
    "              \"Train Accuracy: {:.3f}\".format(accuracy2/len(train_loader)),\n",
    "              \"Test Loss: {:.3f}.. \".format(test_losses[-1]),\n",
    "              \"Test Accuracy: {:.3f}\".format(accuracy/len(test_loader)))\n",
    "end = time.perf_counter()\n",
    "\n",
    "print(end-start)\n"
   ],
   "outputs": [
    {
     "output_type": "stream",
     "name": "stdout",
     "text": [
      "Epoch: 1/50..  Training Loss: 1.673..  Train Accuracy: 0.406 Test Loss: 1.529..  Test Accuracy: 0.460\n",
      "Epoch: 2/50..  Training Loss: 1.449..  Train Accuracy: 0.486 Test Loss: 1.442..  Test Accuracy: 0.487\n",
      "Epoch: 3/50..  Training Loss: 1.330..  Train Accuracy: 0.530 Test Loss: 1.392..  Test Accuracy: 0.501\n",
      "Epoch: 4/50..  Training Loss: 1.237..  Train Accuracy: 0.563 Test Loss: 1.342..  Test Accuracy: 0.526\n",
      "Epoch: 5/50..  Training Loss: 1.156..  Train Accuracy: 0.590 Test Loss: 1.347..  Test Accuracy: 0.525\n",
      "Epoch: 6/50..  Training Loss: 1.082..  Train Accuracy: 0.619 Test Loss: 1.335..  Test Accuracy: 0.532\n",
      "Epoch: 7/50..  Training Loss: 1.004..  Train Accuracy: 0.647 Test Loss: 1.392..  Test Accuracy: 0.535\n",
      "Epoch: 8/50..  Training Loss: 0.932..  Train Accuracy: 0.671 Test Loss: 1.407..  Test Accuracy: 0.538\n",
      "Epoch: 9/50..  Training Loss: 0.873..  Train Accuracy: 0.693 Test Loss: 1.408..  Test Accuracy: 0.543\n",
      "Epoch: 10/50..  Training Loss: 0.801..  Train Accuracy: 0.718 Test Loss: 1.495..  Test Accuracy: 0.532\n",
      "Epoch: 11/50..  Training Loss: 0.737..  Train Accuracy: 0.737 Test Loss: 1.520..  Test Accuracy: 0.527\n",
      "Epoch: 12/50..  Training Loss: 0.686..  Train Accuracy: 0.758 Test Loss: 1.586..  Test Accuracy: 0.540\n",
      "Epoch: 13/50..  Training Loss: 0.622..  Train Accuracy: 0.780 Test Loss: 1.695..  Test Accuracy: 0.523\n",
      "Epoch: 14/50..  Training Loss: 0.567..  Train Accuracy: 0.801 Test Loss: 1.705..  Test Accuracy: 0.534\n",
      "Epoch: 15/50..  Training Loss: 0.514..  Train Accuracy: 0.818 Test Loss: 1.808..  Test Accuracy: 0.530\n",
      "Epoch: 16/50..  Training Loss: 0.471..  Train Accuracy: 0.833 Test Loss: 1.929..  Test Accuracy: 0.525\n",
      "Epoch: 17/50..  Training Loss: 0.431..  Train Accuracy: 0.849 Test Loss: 2.022..  Test Accuracy: 0.520\n",
      "Epoch: 18/50..  Training Loss: 0.397..  Train Accuracy: 0.858 Test Loss: 2.178..  Test Accuracy: 0.530\n",
      "Epoch: 19/50..  Training Loss: 0.364..  Train Accuracy: 0.870 Test Loss: 2.191..  Test Accuracy: 0.529\n",
      "Epoch: 20/50..  Training Loss: 0.324..  Train Accuracy: 0.886 Test Loss: 2.395..  Test Accuracy: 0.520\n",
      "Epoch: 21/50..  Training Loss: 0.306..  Train Accuracy: 0.893 Test Loss: 2.476..  Test Accuracy: 0.515\n",
      "Epoch: 22/50..  Training Loss: 0.291..  Train Accuracy: 0.897 Test Loss: 2.524..  Test Accuracy: 0.522\n",
      "Epoch: 23/50..  Training Loss: 0.258..  Train Accuracy: 0.910 Test Loss: 2.656..  Test Accuracy: 0.527\n",
      "Epoch: 24/50..  Training Loss: 0.259..  Train Accuracy: 0.909 Test Loss: 2.749..  Test Accuracy: 0.531\n",
      "Epoch: 25/50..  Training Loss: 0.222..  Train Accuracy: 0.923 Test Loss: 2.827..  Test Accuracy: 0.521\n",
      "Epoch: 26/50..  Training Loss: 0.222..  Train Accuracy: 0.921 Test Loss: 2.981..  Test Accuracy: 0.514\n",
      "Epoch: 27/50..  Training Loss: 0.219..  Train Accuracy: 0.924 Test Loss: 3.026..  Test Accuracy: 0.516\n",
      "Epoch: 28/50..  Training Loss: 0.202..  Train Accuracy: 0.928 Test Loss: 3.181..  Test Accuracy: 0.520\n",
      "Epoch: 29/50..  Training Loss: 0.192..  Train Accuracy: 0.932 Test Loss: 3.179..  Test Accuracy: 0.520\n",
      "Epoch: 30/50..  Training Loss: 0.171..  Train Accuracy: 0.941 Test Loss: 3.304..  Test Accuracy: 0.524\n",
      "Epoch: 31/50..  Training Loss: 0.187..  Train Accuracy: 0.934 Test Loss: 3.359..  Test Accuracy: 0.519\n",
      "Epoch: 32/50..  Training Loss: 0.162..  Train Accuracy: 0.943 Test Loss: 3.461..  Test Accuracy: 0.523\n",
      "Epoch: 33/50..  Training Loss: 0.161..  Train Accuracy: 0.943 Test Loss: 3.618..  Test Accuracy: 0.517\n",
      "Epoch: 34/50..  Training Loss: 0.151..  Train Accuracy: 0.947 Test Loss: 3.570..  Test Accuracy: 0.526\n",
      "Epoch: 35/50..  Training Loss: 0.166..  Train Accuracy: 0.942 Test Loss: 3.648..  Test Accuracy: 0.513\n",
      "Epoch: 36/50..  Training Loss: 0.162..  Train Accuracy: 0.945 Test Loss: 3.659..  Test Accuracy: 0.515\n",
      "Epoch: 37/50..  Training Loss: 0.154..  Train Accuracy: 0.946 Test Loss: 3.807..  Test Accuracy: 0.517\n",
      "Epoch: 38/50..  Training Loss: 0.125..  Train Accuracy: 0.957 Test Loss: 3.796..  Test Accuracy: 0.518\n",
      "Epoch: 39/50..  Training Loss: 0.126..  Train Accuracy: 0.956 Test Loss: 3.972..  Test Accuracy: 0.527\n",
      "Epoch: 40/50..  Training Loss: 0.156..  Train Accuracy: 0.946 Test Loss: 4.022..  Test Accuracy: 0.518\n",
      "Epoch: 41/50..  Training Loss: 0.136..  Train Accuracy: 0.954 Test Loss: 4.048..  Test Accuracy: 0.520\n",
      "Epoch: 42/50..  Training Loss: 0.117..  Train Accuracy: 0.961 Test Loss: 4.064..  Test Accuracy: 0.522\n",
      "Epoch: 43/50..  Training Loss: 0.129..  Train Accuracy: 0.956 Test Loss: 4.185..  Test Accuracy: 0.512\n",
      "Epoch: 44/50..  Training Loss: 0.113..  Train Accuracy: 0.962 Test Loss: 4.220..  Test Accuracy: 0.529\n",
      "Epoch: 45/50..  Training Loss: 0.128..  Train Accuracy: 0.957 Test Loss: 4.244..  Test Accuracy: 0.516\n",
      "Epoch: 46/50..  Training Loss: 0.131..  Train Accuracy: 0.957 Test Loss: 4.188..  Test Accuracy: 0.518\n",
      "Epoch: 47/50..  Training Loss: 0.116..  Train Accuracy: 0.961 Test Loss: 4.241..  Test Accuracy: 0.524\n",
      "Epoch: 48/50..  Training Loss: 0.117..  Train Accuracy: 0.960 Test Loss: 4.470..  Test Accuracy: 0.518\n",
      "Epoch: 49/50..  Training Loss: 0.119..  Train Accuracy: 0.960 Test Loss: 4.344..  Test Accuracy: 0.523\n",
      "Epoch: 50/50..  Training Loss: 0.116..  Train Accuracy: 0.961 Test Loss: 4.471..  Test Accuracy: 0.519\n"
     ]
    }
   ],
   "metadata": {}
  },
  {
   "cell_type": "code",
   "execution_count": null,
   "source": [],
   "outputs": [],
   "metadata": {}
  }
 ],
 "metadata": {
  "orig_nbformat": 4,
  "language_info": {
   "name": "python",
   "version": "3.7.10",
   "mimetype": "text/x-python",
   "codemirror_mode": {
    "name": "ipython",
    "version": 3
   },
   "pygments_lexer": "ipython3",
   "nbconvert_exporter": "python",
   "file_extension": ".py"
  },
  "kernelspec": {
   "name": "python3",
   "display_name": "Python 3.7.10 64-bit ('dl': conda)"
  },
  "interpreter": {
   "hash": "f7881038a8c0c2c5168ac80e20ff544f471faf7d5bc66c5653256549b0169354"
  }
 },
 "nbformat": 4,
 "nbformat_minor": 2
}