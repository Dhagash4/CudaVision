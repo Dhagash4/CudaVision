{
  "nbformat": 4,
  "nbformat_minor": 0,
  "metadata": {
    "orig_nbformat": 4,
    "language_info": {
      "name": "python",
      "version": "3.7.10",
      "mimetype": "text/x-python",
      "codemirror_mode": {
        "name": "ipython",
        "version": 3
      },
      "pygments_lexer": "ipython3",
      "nbconvert_exporter": "python",
      "file_extension": ".py"
    },
    "kernelspec": {
      "name": "python3",
      "display_name": "Python 3.7.10 64-bit ('dl': conda)"
    },
    "interpreter": {
      "hash": "f7881038a8c0c2c5168ac80e20ff544f471faf7d5bc66c5653256549b0169354"
    },
    "colab": {
      "name": "CNNs.ipynb",
      "provenance": []
    },
    "accelerator": "GPU"
  },
  "cells": [
    {
      "cell_type": "markdown",
      "metadata": {
        "id": "giIJpEEMiELp"
      },
      "source": [
        "# Import"
      ]
    },
    {
      "cell_type": "code",
      "metadata": {
        "id": "hOmdhOYeiELq"
      },
      "source": [
        "import torch\n",
        "import torchvision\n",
        "import torch.nn as nn\n",
        "import torch.nn.functional as F\n",
        "import torchvision.transforms as transforms\n",
        "from torch.utils.data.dataloader import DataLoader\n",
        "from torch.utils.data import random_split\n",
        "from torchvision.utils import make_grid\n",
        "import time\n",
        "\n",
        "\n",
        "import numpy as np\n",
        "import matplotlib.pyplot as plt\n",
        "import os\n",
        "from tqdm import tqdm\n",
        "from typing import Tuple, NoReturn\n",
        "import seaborn as sns\n"
      ],
      "execution_count": 144,
      "outputs": []
    },
    {
      "cell_type": "markdown",
      "metadata": {
        "id": "1lvUCNm-iELq"
      },
      "source": [
        "# Dataloader"
      ]
    },
    {
      "cell_type": "code",
      "metadata": {
        "colab": {
          "base_uri": "https://localhost:8080/"
        },
        "id": "qECwsO8qiELq",
        "outputId": "deabba44-02f2-4fe5-9137-8c07fe62a00a"
      },
      "source": [
        "#Transforms from https://pytorch.org/tutorials/beginner/blitz/cifar10_tutorial.html\n",
        "\n",
        "transform = transforms.Compose(\n",
        "    [transforms.ToTensor(),\n",
        "     transforms.Normalize((0.5, 0.5, 0.5), (0.5, 0.5, 0.5))])\n",
        "\n",
        "train_dataset = torchvision.datasets.CIFAR10(root='./data', train=True, transform=transform, download=True)\n",
        "test_dataset = torchvision.datasets.CIFAR10(root='./data', train=False, transform=transform, download=True)\n",
        "train_dataset,validation_dataset = random_split(train_dataset,[round(0.9 * len(train_dataset)), round(0.1 * len(train_dataset))])"
      ],
      "execution_count": 145,
      "outputs": [
        {
          "output_type": "stream",
          "name": "stdout",
          "text": [
            "Files already downloaded and verified\n",
            "Files already downloaded and verified\n"
          ]
        }
      ]
    },
    {
      "cell_type": "code",
      "metadata": {
        "colab": {
          "base_uri": "https://localhost:8080/"
        },
        "id": "n0QBa4vMiELr",
        "outputId": "d84e9f67-226c-49af-89fa-089eeb6f4568"
      },
      "source": [
        "BATCH_SIZE = 128\n",
        "SHUFFLE = True\n",
        "train_loader = DataLoader(train_dataset, batch_size=BATCH_SIZE, num_workers=4, shuffle=SHUFFLE)\n",
        "test_loader = DataLoader(test_dataset, batch_size=BATCH_SIZE, num_workers=4, shuffle=SHUFFLE)\n",
        "val_loader = DataLoader(validation_dataset, batch_size=BATCH_SIZE, num_workers=4, shuffle=SHUFFLE)\n"
      ],
      "execution_count": 146,
      "outputs": [
        {
          "output_type": "stream",
          "name": "stderr",
          "text": [
            "/usr/local/lib/python3.7/dist-packages/torch/utils/data/dataloader.py:481: UserWarning: This DataLoader will create 4 worker processes in total. Our suggested max number of worker in current system is 2, which is smaller than what this DataLoader is going to create. Please be aware that excessive worker creation might get DataLoader running slow or even freeze, lower the worker number to avoid potential slowness/freeze if necessary.\n",
            "  cpuset_checked))\n"
          ]
        }
      ]
    },
    {
      "cell_type": "markdown",
      "metadata": {
        "id": "tcYNHUlxiELr"
      },
      "source": [
        "## Visualizing Data"
      ]
    },
    {
      "cell_type": "code",
      "metadata": {
        "id": "IMncVBz1iELr"
      },
      "source": [
        ""
      ],
      "execution_count": 146,
      "outputs": []
    },
    {
      "cell_type": "markdown",
      "metadata": {
        "id": "5lSCbV8TiELs"
      },
      "source": [
        "# Model"
      ]
    },
    {
      "cell_type": "code",
      "metadata": {
        "id": "TxweW5KfiELs"
      },
      "source": [
        "class SCNN(nn.Module):\n",
        "    def __init__(self, activation: str, batch_norm: str, dropout: bool) -> None:\n",
        "        super().__init__()\n",
        "\n",
        "        #BASE MODEL\n",
        "     \n",
        "        #VGG Style architecture\n",
        "\n",
        "        #Conv Block 1\n",
        "        #(Nx3x32x32) -> (Nx32x16x16)\n",
        "        conv1_1 = nn.Conv2d(in_channels=3, out_channels=32,\n",
        "                          kernel_size=3, padding=1)\n",
        "        conv1_2 = nn.Conv2d(in_channels=32, out_channels=32,\n",
        "                          kernel_size=3, padding=1)\n",
        "        pool1 = nn.MaxPool2d(kernel_size=2, stride=2)\n",
        "\n",
        "        #Conv Block 2\n",
        "        #(Nx32x16x16) -> (Nx64x8x8)\n",
        "        conv2_1 = nn.Conv2d(in_channels=32, out_channels=64,\n",
        "                            kernel_size=3, padding=1)\n",
        "        conv2_2 = nn.Conv2d(in_channels=64, out_channels=64,\n",
        "                            kernel_size=3, padding=1)\n",
        "        pool2 = nn.MaxPool2d(kernel_size=2, stride=2)\n",
        "\n",
        "        #Conv Block 3\n",
        "        #(Nx64x8x8) -> (Nx128x4x4)\n",
        "        conv3_1 = nn.Conv2d(in_channels=64, out_channels=128,\n",
        "                            kernel_size=3, padding=1)\n",
        "        conv3_2 = nn.Conv2d(in_channels=128, out_channels=128,\n",
        "                            kernel_size=3, padding=1)\n",
        "        pool3 = nn.MaxPool2d(kernel_size=2, stride=2)\n",
        "        \n",
        "        in_dim = 128*4*4\n",
        "        fc1 = nn.Linear(in_dim,128)\n",
        "        fc2 = nn.Linear(128,10)\n",
        "\n",
        "        activation_layer = None\n",
        "        dropout_layer = None\n",
        "        if activation == 'relu':\n",
        "            activation_layer = nn.ReLU()\n",
        "        elif activation == 'lrelu':\n",
        "            activation_layer = nn.LeakyReLU()\n",
        "        else:\n",
        "            if activation == 'elu':\n",
        "                activation_layer = nn.ELU()\n",
        "\n",
        "\n",
        "        self.conv_net = nn.Sequential(conv1_1,\n",
        "                                      activation_layer,\n",
        "                                      conv1_2,\n",
        "                                      activation_layer,\n",
        "                                      pool1,\n",
        "                                      conv2_1,\n",
        "                                      activation_layer,\n",
        "                                      conv2_2,\n",
        "                                      activation_layer,\n",
        "                                      pool2,\n",
        "                                      conv3_1,\n",
        "                                      activation_layer,\n",
        "                                      conv3_2,\n",
        "                                      activation_layer,\n",
        "                                      pool3,\n",
        "                                      nn.Flatten(start_dim=1),\n",
        "                                      fc1,\n",
        "                                      activation_layer,\n",
        "                                      fc2)\n",
        "\n",
        "        if batch_norm == 'bnorm':\n",
        "            bnorm1_1 = nn.BatchNorm2d(32)\n",
        "            bnorm1_2 = nn.BatchNorm2d(32)\n",
        "            bnorm2_1 = nn.BatchNorm2d(64)\n",
        "            bnorm2_2 = nn.BatchNorm2d(64)\n",
        "            bnorm3_1 = nn.BatchNorm2d(128)\n",
        "            bnorm3_2 = nn.BatchNorm2d(128)\n",
        "\n",
        "            self.conv_net = nn.Sequential(conv1_1,\n",
        "                                          bnorm1_1,\n",
        "                                          activation_layer,\n",
        "                                          conv1_2,\n",
        "                                          bnorm1_2,\n",
        "                                          activation_layer,\n",
        "                                          pool1,\n",
        "                                          conv2_1,\n",
        "                                          bnorm2_1,\n",
        "                                          activation_layer,\n",
        "                                          conv2_2,\n",
        "                                          bnorm2_2,\n",
        "                                          activation_layer,\n",
        "                                          pool2,\n",
        "                                          conv3_1,\n",
        "                                          bnorm3_1,\n",
        "                                          activation_layer,\n",
        "                                          conv3_2,\n",
        "                                          bnorm3_2,\n",
        "                                          activation_layer,\n",
        "                                          pool3,\n",
        "                                          nn.Flatten(start_dim=1),\n",
        "                                          fc1,\n",
        "                                          activation_layer,\n",
        "                                          fc2)\n",
        "        elif batch_norm == 'gnorm':\n",
        "\n",
        "            gnorm1_1 = nn.GroupNorm(8, 32)\n",
        "            gnorm1_2 = nn.GroupNorm(8, 32)\n",
        "            gnorm2_1 = nn.GroupNorm(8, 64)\n",
        "            gnorm2_2 = nn.GroupNorm(8, 64)\n",
        "            gnorm3_1 = nn.GroupNorm(8, 128)\n",
        "            gnorm3_2 = nn.GroupNorm(8, 128)\n",
        "\n",
        "            self.conv_net = nn.Sequential(conv1_1,\n",
        "                                          gnorm1_1,\n",
        "                                          activation_layer,\n",
        "                                          conv1_2,\n",
        "                                          gnorm1_2,\n",
        "                                          activation_layer,\n",
        "                                          pool1,\n",
        "                                          conv2_1,\n",
        "                                          gnorm2_1,\n",
        "                                          activation_layer,\n",
        "                                          conv2_2,\n",
        "                                          gnorm2_2,\n",
        "                                          activation_layer,\n",
        "                                          pool2,\n",
        "                                          conv3_1,\n",
        "                                          gnorm3_1,\n",
        "                                          activation_layer,\n",
        "                                          conv3_2,\n",
        "                                          gnorm3_2,\n",
        "                                          activation_layer,\n",
        "                                          pool3,\n",
        "                                          nn.Flatten(start_dim=1),\n",
        "                                          fc1,\n",
        "                                          activation_layer,\n",
        "                                          fc2)\n",
        "\n",
        "        else:\n",
        "            pass\n",
        "\n",
        "\n",
        "        if dropout == True :\n",
        "            print(\"CNN with dropout \")\n",
        "            dropout_layer = nn.Dropout(0.5)\n",
        "            dropout_layer1 = nn.Dropout(0.3)\n",
        "            self.conv_net = nn.Sequential(conv1_1,\n",
        "                                          activation_layer,\n",
        "                                          conv1_2,\n",
        "                                          activation_layer,\n",
        "                                          pool1,\n",
        "                                          conv2_1,\n",
        "                                          activation_layer,\n",
        "                                          conv2_2,\n",
        "                                          activation_layer,\n",
        "                                          pool2,\n",
        "                                          conv3_1,\n",
        "                                          activation_layer,\n",
        "                                          conv3_2,\n",
        "                                          activation_layer,\n",
        "                                          pool3,\n",
        "                                          nn.Flatten(start_dim=1),\n",
        "                                          dropout_layer,\n",
        "                                          fc1,\n",
        "                                          activation_layer,\n",
        "                                          dropout_layer1,\n",
        "                                          fc2)\n",
        "\n",
        "\n",
        "        else:\n",
        "            print(\"CNN with no dropout\")\n",
        "            pass\n",
        "\n",
        "\n",
        "\n",
        "\n",
        "\n",
        "\n",
        "        #############################################################################################\n",
        "        #Add dropout in similar way, so one code for all\n",
        "        ###############################################################################################\n",
        "\n",
        "    def forward(self, x):\n",
        "        \n",
        "        \n",
        "        y = self.conv_net(x)\n",
        "\n",
        "        return y\n",
        "\n",
        "def count_model_params(model):\n",
        "    \"\"\" Counting the number of learnable parameters in a nn.Module \"\"\"\n",
        "    num_params = sum(p.numel() for p in model.parameters() if p.requires_grad)\n",
        "    return num_params"
      ],
      "execution_count": 147,
      "outputs": []
    },
    {
      "cell_type": "code",
      "metadata": {
        "colab": {
          "base_uri": "https://localhost:8080/"
        },
        "id": "jeJLsEKIiELt",
        "outputId": "eb8c41b2-27d9-40cc-8684-8008df582d32"
      },
      "source": [
        "cnn = SCNN(activation='relu',batch_norm= 'gnorm' ,dropout=False)\n",
        "params = count_model_params(cnn)\n",
        "print(cnn)\n",
        "print(f\"Model has {params} learnable parameters\")\n"
      ],
      "execution_count": 148,
      "outputs": [
        {
          "output_type": "stream",
          "name": "stdout",
          "text": [
            "CNN with no dropout\n",
            "SCNN(\n",
            "  (conv_net): Sequential(\n",
            "    (0): Conv2d(3, 32, kernel_size=(3, 3), stride=(1, 1), padding=(1, 1))\n",
            "    (1): GroupNorm(8, 32, eps=1e-05, affine=True)\n",
            "    (2): ReLU()\n",
            "    (3): Conv2d(32, 32, kernel_size=(3, 3), stride=(1, 1), padding=(1, 1))\n",
            "    (4): GroupNorm(8, 32, eps=1e-05, affine=True)\n",
            "    (5): ReLU()\n",
            "    (6): MaxPool2d(kernel_size=2, stride=2, padding=0, dilation=1, ceil_mode=False)\n",
            "    (7): Conv2d(32, 64, kernel_size=(3, 3), stride=(1, 1), padding=(1, 1))\n",
            "    (8): GroupNorm(8, 64, eps=1e-05, affine=True)\n",
            "    (9): ReLU()\n",
            "    (10): Conv2d(64, 64, kernel_size=(3, 3), stride=(1, 1), padding=(1, 1))\n",
            "    (11): GroupNorm(8, 64, eps=1e-05, affine=True)\n",
            "    (12): ReLU()\n",
            "    (13): MaxPool2d(kernel_size=2, stride=2, padding=0, dilation=1, ceil_mode=False)\n",
            "    (14): Conv2d(64, 128, kernel_size=(3, 3), stride=(1, 1), padding=(1, 1))\n",
            "    (15): GroupNorm(8, 128, eps=1e-05, affine=True)\n",
            "    (16): ReLU()\n",
            "    (17): Conv2d(128, 128, kernel_size=(3, 3), stride=(1, 1), padding=(1, 1))\n",
            "    (18): GroupNorm(8, 128, eps=1e-05, affine=True)\n",
            "    (19): ReLU()\n",
            "    (20): MaxPool2d(kernel_size=2, stride=2, padding=0, dilation=1, ceil_mode=False)\n",
            "    (21): Flatten(start_dim=1, end_dim=-1)\n",
            "    (22): Linear(in_features=2048, out_features=128, bias=True)\n",
            "    (23): ReLU()\n",
            "    (24): Linear(in_features=128, out_features=10, bias=True)\n",
            "  )\n",
            ")\n",
            "Model has 551466 learnable parameters\n"
          ]
        }
      ]
    },
    {
      "cell_type": "markdown",
      "metadata": {
        "id": "QfSvgOrqiELu"
      },
      "source": [
        "# Training"
      ]
    },
    {
      "cell_type": "markdown",
      "metadata": {
        "id": "CMN-_eoFiELu"
      },
      "source": [
        "## Parameters for training"
      ]
    },
    {
      "cell_type": "code",
      "metadata": {
        "id": "guk00GmFiELu"
      },
      "source": [
        "LR = 3e-4\n",
        "EPOCHS = 50\n",
        "EVAL_FREQ = 1\n",
        "SAVE_FREQ = 10\n",
        "val_loss = 1000"
      ],
      "execution_count": 149,
      "outputs": []
    },
    {
      "cell_type": "code",
      "metadata": {
        "id": "VZ1DcaejiELu"
      },
      "source": [
        "stats = {\n",
        "    \"epoch\": [],\n",
        "    \"train_loss\": [],\n",
        "    \"valid_loss\": [],\n",
        "    \"accuracy\": [],\n",
        "    \"parameters\" : 0.0\n",
        "}\n",
        "init_epoch = 0"
      ],
      "execution_count": 150,
      "outputs": []
    },
    {
      "cell_type": "code",
      "metadata": {
        "id": "C161KKQbiELu"
      },
      "source": [
        "device = torch.device(\"cuda\" if torch.cuda.is_available() else \"cpu\")\n",
        "\n",
        "cnn = cnn.to(device)"
      ],
      "execution_count": 151,
      "outputs": []
    },
    {
      "cell_type": "code",
      "metadata": {
        "id": "dg6OvW2EiELu"
      },
      "source": [
        "criterion = nn.CrossEntropyLoss().to(device)\n",
        "optimizer = torch.optim.Adam(params=cnn.parameters(), lr=LR)"
      ],
      "execution_count": 152,
      "outputs": []
    },
    {
      "cell_type": "code",
      "metadata": {
        "id": "w0PFqAf5iELv"
      },
      "source": [
        "@torch.no_grad()\n",
        "def eval_model(model):\n",
        "    correct = 0\n",
        "    total = 0\n",
        "    loss_list = []\n",
        "\n",
        "    model.eval()\n",
        "    for images, labels in val_loader:\n",
        "        images = images.to(device)\n",
        "        labels = labels.to(device)\n",
        "\n",
        "        # Forward pass only to get logits/output\n",
        "        outputs = model(images)\n",
        "\n",
        "        loss = criterion(outputs, labels)\n",
        "        loss_list.append(loss.item())\n",
        "\n",
        "        # Get predictions from the maximum value\n",
        "        preds = torch.argmax(outputs, dim=1)\n",
        "        correct += len(torch.where(preds == labels)[0])\n",
        "        total += len(labels)\n",
        "\n",
        "    # Total correct predictions and loss\n",
        "    accuracy = correct / total * 100\n",
        "    loss = np.mean(loss_list)\n",
        "    model.train()\n",
        "    return accuracy, loss\n",
        "\n",
        "\n",
        "def save_model(model, optimizer, epoch, stats, val,time):\n",
        "    \"\"\" Saving model checkpoint \"\"\"\n",
        "    if(not os.path.exists(\"models\")):\n",
        "        os.makedirs(\"models\")\n",
        "    if (val):\n",
        "\n",
        "        savepath = f\"models/best_val_{stats['model']}.pth\"\n",
        "\n",
        "        torch.save({\n",
        "            'time' : time,\n",
        "            'epoch': epoch,\n",
        "            'model_state_dict': model.state_dict(),\n",
        "            'optimizer_state_dict': optimizer.state_dict(),\n",
        "            'stats': stats\n",
        "        }, savepath)\n",
        "        \n",
        "    else:\n",
        "\n",
        "        savepath = f\"models/{stats['model']}_checkpoint_epoch_{epoch}.pth\"\n",
        "\n",
        "        torch.save({\n",
        "            'time' : time,\n",
        "            'epoch': epoch,\n",
        "            'model_state_dict': model.state_dict(),\n",
        "            'optimizer_state_dict': optimizer.state_dict(),\n",
        "            'stats': stats\n",
        "        }, savepath)\n",
        "\n",
        "    return\n",
        "\n",
        "\n",
        "def load_model(model, optimizer, savepath):\n",
        "    \"\"\" Loading pretrained checkpoint \"\"\"\n",
        "\n",
        "    checkpoint = torch.load(savepath)\n",
        "    model.load_state_dict(checkpoint['model_state_dict'])\n",
        "    optimizer.load_state_dict(checkpoint['optimizer_state_dict'])\n",
        "    epoch = checkpoint[\"epoch\"]\n",
        "    stats = checkpoint[\"stats\"]\n",
        "    time = checkpoint[\"time\"]\n",
        "\n",
        "    return model, optimizer, epoch, stats,time\n",
        "\n",
        "\n",
        "def test_model(model):\n",
        "\n",
        "    correct = 0\n",
        "    total = 0\n",
        "    model.eval()\n",
        "    for images, labels in test_loader:\n",
        "        images = images.to(device)\n",
        "        labels = labels.to(device)\n",
        "\n",
        "        # Forward pass only to get logits/output\n",
        "        outputs = model(images)\n",
        "\n",
        "        # Get predictions from the maximum value\n",
        "        preds = torch.argmax(outputs, dim=1)\n",
        "        correct += len(torch.where(preds == labels)[0])\n",
        "        total += len(labels)\n",
        "\n",
        "    # Total correct predictions and loss\n",
        "    accuracy = correct / total * 100\n",
        "    model.train()\n",
        "    return accuracy"
      ],
      "execution_count": 153,
      "outputs": []
    },
    {
      "cell_type": "code",
      "metadata": {
        "colab": {
          "base_uri": "https://localhost:8080/"
        },
        "id": "EFEkVu9yiELv",
        "outputId": "f3b99cbe-687e-4b11-e826-04efcbe9a5e4"
      },
      "source": [
        "loss_hist = []\n",
        "stats['model'] = 'gnorm'\n",
        "stats['parameters'] = params\n",
        "start = time.perf_counter()\n",
        "\n",
        "\n",
        "for epoch in range(EPOCHS):\n",
        "    progress_bar = tqdm(enumerate(train_loader), total=len(train_loader))\n",
        "    for i,(images,labels) in progress_bar:\n",
        "\n",
        "        loss_list = []\n",
        "\n",
        "        x = images.to(device)\n",
        "        y_train = labels.to(device)\n",
        "        # Clear gradients w.r.t. parameters\n",
        "        optimizer.zero_grad()\n",
        "\n",
        "        # Forward pass to get output/logits\n",
        "        outputs = cnn(x)\n",
        "\n",
        "        # Calculate Loss: softmax --> cross entropy loss\n",
        "        loss = criterion(outputs, y_train)\n",
        "\n",
        "        # Getting gradients w.r.t. parameters\n",
        "        loss.backward()\n",
        "        loss_list.append(loss.item())\n",
        "\n",
        "        # Updating parameters\n",
        "        optimizer.step()\n",
        "        progress_bar.set_description(f\"Epoch {epoch+1} Iter {i+1}: loss {loss.item():.5f}. \")\n",
        "    \n",
        "    loss_hist.append(np.mean(loss_list))\n",
        "    stats[\"epoch\"].append(epoch)\n",
        "    stats[\"train_loss\"].append(loss_hist[-1])\n",
        "    \n",
        "\n",
        "    if epoch % EVAL_FREQ == 0:\n",
        "        accuracy, valid_loss = eval_model(cnn)\n",
        "        print(f\"training loss : {loss_hist[-1]}  ,  validation loss : {valid_loss}\")\n",
        "        print(f\"Accuracy at epoch {epoch}: {round(accuracy, 2)}%\")\n",
        "    else:\n",
        "        accuracy, valid_loss = -1, -1\n",
        "    \n",
        "    stats[\"accuracy\"].append(accuracy)\n",
        "    stats[\"valid_loss\"].append(valid_loss)\n",
        "\n",
        "\n",
        "    #Saving best validation model\n",
        "    if valid_loss < val_loss:\n",
        "        val_loss = valid_loss\n",
        "        end = time.perf_counter()\n",
        "        save_model(model=cnn, optimizer=optimizer,\n",
        "                   epoch=epoch, stats=stats, val = True, time = end - start )\n",
        "\n",
        "\n",
        "    if epoch % SAVE_FREQ == 0:\n",
        "\n",
        "        end = time.perf_counter()\n",
        "        save_model(model=cnn, optimizer=optimizer, epoch=epoch, stats=stats,val = False, time = end - start)\n",
        "\n",
        "end = time.perf_counter()\n",
        "time = end - start\n",
        "save_model(model=cnn, optimizer=optimizer, epoch=epoch, stats=stats, val=False, time = time)\n",
        "\n"
      ],
      "execution_count": 154,
      "outputs": [
        {
          "output_type": "stream",
          "name": "stderr",
          "text": [
            "/usr/local/lib/python3.7/dist-packages/torch/utils/data/dataloader.py:481: UserWarning: This DataLoader will create 4 worker processes in total. Our suggested max number of worker in current system is 2, which is smaller than what this DataLoader is going to create. Please be aware that excessive worker creation might get DataLoader running slow or even freeze, lower the worker number to avoid potential slowness/freeze if necessary.\n",
            "  cpuset_checked))\n",
            "Epoch 1 Iter 352: loss 1.19537. : 100%|██████████| 352/352 [00:24<00:00, 14.44it/s]\n"
          ]
        },
        {
          "output_type": "stream",
          "name": "stdout",
          "text": [
            "training loss : 1.1953740119934082  ,  validation loss : 1.1644865572452545\n",
            "Accuracy at epoch 0: 58.58%\n"
          ]
        },
        {
          "output_type": "stream",
          "name": "stderr",
          "text": [
            "Epoch 2 Iter 352: loss 0.89903. : 100%|██████████| 352/352 [00:24<00:00, 14.55it/s]\n"
          ]
        },
        {
          "output_type": "stream",
          "name": "stdout",
          "text": [
            "training loss : 0.8990298509597778  ,  validation loss : 0.9447118446230889\n",
            "Accuracy at epoch 1: 67.04%\n"
          ]
        },
        {
          "output_type": "stream",
          "name": "stderr",
          "text": [
            "Epoch 3 Iter 352: loss 0.77980. : 100%|██████████| 352/352 [00:24<00:00, 14.63it/s]\n"
          ]
        },
        {
          "output_type": "stream",
          "name": "stdout",
          "text": [
            "training loss : 0.7797976732254028  ,  validation loss : 0.8662879526615143\n",
            "Accuracy at epoch 2: 69.32%\n"
          ]
        },
        {
          "output_type": "stream",
          "name": "stderr",
          "text": [
            "Epoch 4 Iter 352: loss 0.76350. : 100%|██████████| 352/352 [00:24<00:00, 14.57it/s]\n"
          ]
        },
        {
          "output_type": "stream",
          "name": "stdout",
          "text": [
            "training loss : 0.7635014057159424  ,  validation loss : 0.7664098933339119\n",
            "Accuracy at epoch 3: 72.82%\n"
          ]
        },
        {
          "output_type": "stream",
          "name": "stderr",
          "text": [
            "Epoch 5 Iter 352: loss 0.67492. : 100%|██████████| 352/352 [00:24<00:00, 14.57it/s]\n"
          ]
        },
        {
          "output_type": "stream",
          "name": "stdout",
          "text": [
            "training loss : 0.674923300743103  ,  validation loss : 0.7778880074620247\n",
            "Accuracy at epoch 4: 72.64%\n"
          ]
        },
        {
          "output_type": "stream",
          "name": "stderr",
          "text": [
            "Epoch 6 Iter 352: loss 0.47688. : 100%|██████████| 352/352 [00:24<00:00, 14.61it/s]\n"
          ]
        },
        {
          "output_type": "stream",
          "name": "stdout",
          "text": [
            "training loss : 0.47688382863998413  ,  validation loss : 0.7504729375243187\n",
            "Accuracy at epoch 5: 74.92%\n"
          ]
        },
        {
          "output_type": "stream",
          "name": "stderr",
          "text": [
            "Epoch 7 Iter 352: loss 0.39032. : 100%|██████████| 352/352 [00:24<00:00, 14.53it/s]\n"
          ]
        },
        {
          "output_type": "stream",
          "name": "stdout",
          "text": [
            "training loss : 0.39032167196273804  ,  validation loss : 0.6945006996393204\n",
            "Accuracy at epoch 6: 76.0%\n"
          ]
        },
        {
          "output_type": "stream",
          "name": "stderr",
          "text": [
            "Epoch 8 Iter 352: loss 0.31023. : 100%|██████████| 352/352 [00:24<00:00, 14.59it/s]\n"
          ]
        },
        {
          "output_type": "stream",
          "name": "stdout",
          "text": [
            "training loss : 0.31023305654525757  ,  validation loss : 0.718185105919838\n",
            "Accuracy at epoch 7: 75.14%\n"
          ]
        },
        {
          "output_type": "stream",
          "name": "stderr",
          "text": [
            "Epoch 9 Iter 352: loss 0.44116. : 100%|██████████| 352/352 [00:24<00:00, 14.59it/s]\n"
          ]
        },
        {
          "output_type": "stream",
          "name": "stdout",
          "text": [
            "training loss : 0.44115808606147766  ,  validation loss : 0.693914569914341\n",
            "Accuracy at epoch 8: 77.26%\n"
          ]
        },
        {
          "output_type": "stream",
          "name": "stderr",
          "text": [
            "Epoch 10 Iter 352: loss 0.29862. : 100%|██████████| 352/352 [00:24<00:00, 14.51it/s]\n"
          ]
        },
        {
          "output_type": "stream",
          "name": "stdout",
          "text": [
            "training loss : 0.2986213266849518  ,  validation loss : 0.6947365969419479\n",
            "Accuracy at epoch 9: 77.3%\n"
          ]
        },
        {
          "output_type": "stream",
          "name": "stderr",
          "text": [
            "Epoch 11 Iter 352: loss 0.39031. : 100%|██████████| 352/352 [00:24<00:00, 14.55it/s]\n"
          ]
        },
        {
          "output_type": "stream",
          "name": "stdout",
          "text": [
            "training loss : 0.39031243324279785  ,  validation loss : 0.7522921800613404\n",
            "Accuracy at epoch 10: 77.32%\n"
          ]
        },
        {
          "output_type": "stream",
          "name": "stderr",
          "text": [
            "Epoch 12 Iter 352: loss 0.30599. : 100%|██████████| 352/352 [00:24<00:00, 14.66it/s]\n"
          ]
        },
        {
          "output_type": "stream",
          "name": "stdout",
          "text": [
            "training loss : 0.3059873580932617  ,  validation loss : 0.7566384017467499\n",
            "Accuracy at epoch 11: 77.24%\n"
          ]
        },
        {
          "output_type": "stream",
          "name": "stderr",
          "text": [
            "Epoch 13 Iter 352: loss 0.16825. : 100%|██████████| 352/352 [00:24<00:00, 14.60it/s]\n"
          ]
        },
        {
          "output_type": "stream",
          "name": "stdout",
          "text": [
            "training loss : 0.16824834048748016  ,  validation loss : 0.7740645438432694\n",
            "Accuracy at epoch 12: 77.26%\n"
          ]
        },
        {
          "output_type": "stream",
          "name": "stderr",
          "text": [
            "Epoch 14 Iter 352: loss 0.11683. : 100%|██████████| 352/352 [00:24<00:00, 14.62it/s]\n"
          ]
        },
        {
          "output_type": "stream",
          "name": "stdout",
          "text": [
            "training loss : 0.11682923883199692  ,  validation loss : 0.8390066251158714\n",
            "Accuracy at epoch 13: 76.5%\n"
          ]
        },
        {
          "output_type": "stream",
          "name": "stderr",
          "text": [
            "Epoch 15 Iter 352: loss 0.09998. : 100%|██████████| 352/352 [00:24<00:00, 14.65it/s]\n"
          ]
        },
        {
          "output_type": "stream",
          "name": "stdout",
          "text": [
            "training loss : 0.09997723251581192  ,  validation loss : 0.9740141302347183\n",
            "Accuracy at epoch 14: 74.14%\n"
          ]
        },
        {
          "output_type": "stream",
          "name": "stderr",
          "text": [
            "Epoch 16 Iter 352: loss 0.17127. : 100%|██████████| 352/352 [00:24<00:00, 14.65it/s]\n"
          ]
        },
        {
          "output_type": "stream",
          "name": "stdout",
          "text": [
            "training loss : 0.17127251625061035  ,  validation loss : 0.9129693508148193\n",
            "Accuracy at epoch 15: 76.18%\n"
          ]
        },
        {
          "output_type": "stream",
          "name": "stderr",
          "text": [
            "Epoch 17 Iter 352: loss 0.11380. : 100%|██████████| 352/352 [00:24<00:00, 14.64it/s]\n"
          ]
        },
        {
          "output_type": "stream",
          "name": "stdout",
          "text": [
            "training loss : 0.11380203813314438  ,  validation loss : 0.9322257868945598\n",
            "Accuracy at epoch 16: 76.82%\n"
          ]
        },
        {
          "output_type": "stream",
          "name": "stderr",
          "text": [
            "Epoch 18 Iter 352: loss 0.05033. : 100%|██████████| 352/352 [00:24<00:00, 14.57it/s]\n"
          ]
        },
        {
          "output_type": "stream",
          "name": "stdout",
          "text": [
            "training loss : 0.05033378303050995  ,  validation loss : 0.9552926421165466\n",
            "Accuracy at epoch 17: 76.04%\n"
          ]
        },
        {
          "output_type": "stream",
          "name": "stderr",
          "text": [
            "Epoch 19 Iter 352: loss 0.12727. : 100%|██████████| 352/352 [00:24<00:00, 14.55it/s]\n"
          ]
        },
        {
          "output_type": "stream",
          "name": "stdout",
          "text": [
            "training loss : 0.1272655576467514  ,  validation loss : 1.059553611278534\n",
            "Accuracy at epoch 18: 74.86%\n"
          ]
        },
        {
          "output_type": "stream",
          "name": "stderr",
          "text": [
            "Epoch 20 Iter 352: loss 0.14124. : 100%|██████████| 352/352 [00:24<00:00, 14.58it/s]\n"
          ]
        },
        {
          "output_type": "stream",
          "name": "stdout",
          "text": [
            "training loss : 0.1412404477596283  ,  validation loss : 0.9574590466916562\n",
            "Accuracy at epoch 19: 75.92%\n"
          ]
        },
        {
          "output_type": "stream",
          "name": "stderr",
          "text": [
            "Epoch 21 Iter 352: loss 0.06902. : 100%|██████████| 352/352 [00:24<00:00, 14.60it/s]\n"
          ]
        },
        {
          "output_type": "stream",
          "name": "stdout",
          "text": [
            "training loss : 0.06901538372039795  ,  validation loss : 0.9842420950531959\n",
            "Accuracy at epoch 20: 77.5%\n"
          ]
        },
        {
          "output_type": "stream",
          "name": "stderr",
          "text": [
            "Epoch 22 Iter 352: loss 0.04038. : 100%|██████████| 352/352 [00:24<00:00, 14.57it/s]\n"
          ]
        },
        {
          "output_type": "stream",
          "name": "stdout",
          "text": [
            "training loss : 0.04037801921367645  ,  validation loss : 1.0211361795663834\n",
            "Accuracy at epoch 21: 77.72%\n"
          ]
        },
        {
          "output_type": "stream",
          "name": "stderr",
          "text": [
            "Epoch 23 Iter 352: loss 0.00187. : 100%|██████████| 352/352 [00:24<00:00, 14.61it/s]\n"
          ]
        },
        {
          "output_type": "stream",
          "name": "stdout",
          "text": [
            "training loss : 0.0018672134028747678  ,  validation loss : 1.0663894325494767\n",
            "Accuracy at epoch 22: 78.42%\n"
          ]
        },
        {
          "output_type": "stream",
          "name": "stderr",
          "text": [
            "Epoch 24 Iter 352: loss 0.00095. : 100%|██████████| 352/352 [00:23<00:00, 14.67it/s]\n"
          ]
        },
        {
          "output_type": "stream",
          "name": "stdout",
          "text": [
            "training loss : 0.0009470371878705919  ,  validation loss : 1.003696869313717\n",
            "Accuracy at epoch 23: 78.94%\n"
          ]
        },
        {
          "output_type": "stream",
          "name": "stderr",
          "text": [
            "Epoch 25 Iter 352: loss 0.00177. : 100%|██████████| 352/352 [00:24<00:00, 14.54it/s]\n"
          ]
        },
        {
          "output_type": "stream",
          "name": "stdout",
          "text": [
            "training loss : 0.0017698761075735092  ,  validation loss : 1.0258122444152833\n",
            "Accuracy at epoch 24: 79.02%\n"
          ]
        },
        {
          "output_type": "stream",
          "name": "stderr",
          "text": [
            "Epoch 26 Iter 352: loss 0.00112. : 100%|██████████| 352/352 [00:24<00:00, 14.51it/s]\n"
          ]
        },
        {
          "output_type": "stream",
          "name": "stdout",
          "text": [
            "training loss : 0.001121332636103034  ,  validation loss : 1.0613581404089927\n",
            "Accuracy at epoch 25: 79.06%\n"
          ]
        },
        {
          "output_type": "stream",
          "name": "stderr",
          "text": [
            "Epoch 27 Iter 352: loss 0.00060. : 100%|██████████| 352/352 [00:24<00:00, 14.56it/s]\n"
          ]
        },
        {
          "output_type": "stream",
          "name": "stdout",
          "text": [
            "training loss : 0.0005987779004499316  ,  validation loss : 1.0339484512805939\n",
            "Accuracy at epoch 26: 79.2%\n"
          ]
        },
        {
          "output_type": "stream",
          "name": "stderr",
          "text": [
            "Epoch 28 Iter 352: loss 0.00044. : 100%|██████████| 352/352 [00:24<00:00, 14.64it/s]\n"
          ]
        },
        {
          "output_type": "stream",
          "name": "stdout",
          "text": [
            "training loss : 0.0004435399314388633  ,  validation loss : 1.0346663862466812\n",
            "Accuracy at epoch 27: 79.08%\n"
          ]
        },
        {
          "output_type": "stream",
          "name": "stderr",
          "text": [
            "Epoch 29 Iter 352: loss 0.00046. : 100%|██████████| 352/352 [00:24<00:00, 14.56it/s]\n"
          ]
        },
        {
          "output_type": "stream",
          "name": "stdout",
          "text": [
            "training loss : 0.00046474707778543234  ,  validation loss : 1.1039551988244056\n",
            "Accuracy at epoch 28: 78.94%\n"
          ]
        },
        {
          "output_type": "stream",
          "name": "stderr",
          "text": [
            "Epoch 30 Iter 352: loss 0.00035. : 100%|██████████| 352/352 [00:24<00:00, 14.54it/s]\n"
          ]
        },
        {
          "output_type": "stream",
          "name": "stdout",
          "text": [
            "training loss : 0.000347118970239535  ,  validation loss : 1.078371898829937\n",
            "Accuracy at epoch 29: 79.06%\n"
          ]
        },
        {
          "output_type": "stream",
          "name": "stderr",
          "text": [
            "Epoch 31 Iter 352: loss 0.00041. : 100%|██████████| 352/352 [00:24<00:00, 14.55it/s]\n"
          ]
        },
        {
          "output_type": "stream",
          "name": "stdout",
          "text": [
            "training loss : 0.0004082649538759142  ,  validation loss : 1.119828462600708\n",
            "Accuracy at epoch 30: 79.14%\n"
          ]
        },
        {
          "output_type": "stream",
          "name": "stderr",
          "text": [
            "Epoch 32 Iter 352: loss 0.00040. : 100%|██████████| 352/352 [00:24<00:00, 14.57it/s]\n"
          ]
        },
        {
          "output_type": "stream",
          "name": "stdout",
          "text": [
            "training loss : 0.0004019533807877451  ,  validation loss : 1.1070379465818405\n",
            "Accuracy at epoch 31: 79.22%\n"
          ]
        },
        {
          "output_type": "stream",
          "name": "stderr",
          "text": [
            "Epoch 33 Iter 352: loss 0.00017. : 100%|██████████| 352/352 [00:24<00:00, 14.47it/s]\n"
          ]
        },
        {
          "output_type": "stream",
          "name": "stdout",
          "text": [
            "training loss : 0.00017471431056037545  ,  validation loss : 1.1093945011496544\n",
            "Accuracy at epoch 32: 79.1%\n"
          ]
        },
        {
          "output_type": "stream",
          "name": "stderr",
          "text": [
            "Epoch 34 Iter 352: loss 0.00013. : 100%|██████████| 352/352 [00:24<00:00, 14.51it/s]\n"
          ]
        },
        {
          "output_type": "stream",
          "name": "stdout",
          "text": [
            "training loss : 0.00013152362953405827  ,  validation loss : 1.1411994978785516\n",
            "Accuracy at epoch 33: 79.0%\n"
          ]
        },
        {
          "output_type": "stream",
          "name": "stderr",
          "text": [
            "Epoch 35 Iter 352: loss 0.00015. : 100%|██████████| 352/352 [00:24<00:00, 14.52it/s]\n"
          ]
        },
        {
          "output_type": "stream",
          "name": "stdout",
          "text": [
            "training loss : 0.00015087048814166337  ,  validation loss : 1.1349808275699615\n",
            "Accuracy at epoch 34: 79.0%\n"
          ]
        },
        {
          "output_type": "stream",
          "name": "stderr",
          "text": [
            "Epoch 36 Iter 352: loss 0.00014. : 100%|██████████| 352/352 [00:24<00:00, 14.55it/s]\n"
          ]
        },
        {
          "output_type": "stream",
          "name": "stdout",
          "text": [
            "training loss : 0.000142751305247657  ,  validation loss : 1.1454230759642088\n",
            "Accuracy at epoch 35: 79.1%\n"
          ]
        },
        {
          "output_type": "stream",
          "name": "stderr",
          "text": [
            "Epoch 37 Iter 352: loss 0.00013. : 100%|██████████| 352/352 [00:24<00:00, 14.57it/s]\n"
          ]
        },
        {
          "output_type": "stream",
          "name": "stdout",
          "text": [
            "training loss : 0.0001339539303444326  ,  validation loss : 1.1935592338442802\n",
            "Accuracy at epoch 36: 79.06%\n"
          ]
        },
        {
          "output_type": "stream",
          "name": "stderr",
          "text": [
            "Epoch 38 Iter 352: loss 0.00009. : 100%|██████████| 352/352 [00:24<00:00, 14.59it/s]\n"
          ]
        },
        {
          "output_type": "stream",
          "name": "stdout",
          "text": [
            "training loss : 8.64882895257324e-05  ,  validation loss : 1.233658504486084\n",
            "Accuracy at epoch 37: 79.08%\n"
          ]
        },
        {
          "output_type": "stream",
          "name": "stderr",
          "text": [
            "Epoch 39 Iter 352: loss 0.00007. : 100%|██████████| 352/352 [00:24<00:00, 14.52it/s]\n"
          ]
        },
        {
          "output_type": "stream",
          "name": "stdout",
          "text": [
            "training loss : 7.46634032111615e-05  ,  validation loss : 1.2505224272608757\n",
            "Accuracy at epoch 38: 78.92%\n"
          ]
        },
        {
          "output_type": "stream",
          "name": "stderr",
          "text": [
            "Epoch 40 Iter 352: loss 0.00007. : 100%|██████████| 352/352 [00:24<00:00, 14.48it/s]\n"
          ]
        },
        {
          "output_type": "stream",
          "name": "stdout",
          "text": [
            "training loss : 6.904167094035074e-05  ,  validation loss : 1.2239950135350228\n",
            "Accuracy at epoch 39: 79.04%\n"
          ]
        },
        {
          "output_type": "stream",
          "name": "stderr",
          "text": [
            "Epoch 41 Iter 352: loss 0.00006. : 100%|██████████| 352/352 [00:24<00:00, 14.44it/s]\n"
          ]
        },
        {
          "output_type": "stream",
          "name": "stdout",
          "text": [
            "training loss : 5.636991045321338e-05  ,  validation loss : 1.2334631107747556\n",
            "Accuracy at epoch 40: 79.06%\n"
          ]
        },
        {
          "output_type": "stream",
          "name": "stderr",
          "text": [
            "Epoch 42 Iter 352: loss 0.00005. : 100%|██████████| 352/352 [00:24<00:00, 14.41it/s]\n"
          ]
        },
        {
          "output_type": "stream",
          "name": "stdout",
          "text": [
            "training loss : 5.1760958740487695e-05  ,  validation loss : 1.3074875235557557\n",
            "Accuracy at epoch 41: 79.04%\n"
          ]
        },
        {
          "output_type": "stream",
          "name": "stderr",
          "text": [
            "Epoch 43 Iter 352: loss 0.00005. : 100%|██████████| 352/352 [00:24<00:00, 14.48it/s]\n"
          ]
        },
        {
          "output_type": "stream",
          "name": "stdout",
          "text": [
            "training loss : 4.5949909690534696e-05  ,  validation loss : 1.2676994308829308\n",
            "Accuracy at epoch 42: 79.06%\n"
          ]
        },
        {
          "output_type": "stream",
          "name": "stderr",
          "text": [
            "Epoch 44 Iter 352: loss 0.00003. : 100%|██████████| 352/352 [00:24<00:00, 14.44it/s]\n"
          ]
        },
        {
          "output_type": "stream",
          "name": "stdout",
          "text": [
            "training loss : 2.932429197244346e-05  ,  validation loss : 1.292661216855049\n",
            "Accuracy at epoch 43: 78.94%\n"
          ]
        },
        {
          "output_type": "stream",
          "name": "stderr",
          "text": [
            "Epoch 45 Iter 352: loss 0.00003. : 100%|██████████| 352/352 [00:24<00:00, 14.46it/s]\n"
          ]
        },
        {
          "output_type": "stream",
          "name": "stdout",
          "text": [
            "training loss : 3.118654421996325e-05  ,  validation loss : 1.370310890674591\n",
            "Accuracy at epoch 44: 79.0%\n"
          ]
        },
        {
          "output_type": "stream",
          "name": "stderr",
          "text": [
            "Epoch 46 Iter 352: loss 0.00003. : 100%|██████████| 352/352 [00:24<00:00, 14.49it/s]\n"
          ]
        },
        {
          "output_type": "stream",
          "name": "stdout",
          "text": [
            "training loss : 2.5139042918453924e-05  ,  validation loss : 1.359554871916771\n",
            "Accuracy at epoch 45: 79.04%\n"
          ]
        },
        {
          "output_type": "stream",
          "name": "stderr",
          "text": [
            "Epoch 47 Iter 352: loss 0.00002. : 100%|██████████| 352/352 [00:24<00:00, 14.50it/s]\n"
          ]
        },
        {
          "output_type": "stream",
          "name": "stdout",
          "text": [
            "training loss : 1.7051332179107703e-05  ,  validation loss : 1.3680347353219986\n",
            "Accuracy at epoch 46: 78.78%\n"
          ]
        },
        {
          "output_type": "stream",
          "name": "stderr",
          "text": [
            "Epoch 48 Iter 352: loss 0.00002. : 100%|██████████| 352/352 [00:24<00:00, 14.48it/s]\n"
          ]
        },
        {
          "output_type": "stream",
          "name": "stdout",
          "text": [
            "training loss : 1.671864629315678e-05  ,  validation loss : 1.395697270333767\n",
            "Accuracy at epoch 47: 79.12%\n"
          ]
        },
        {
          "output_type": "stream",
          "name": "stderr",
          "text": [
            "Epoch 49 Iter 352: loss 0.00001. : 100%|██████████| 352/352 [00:24<00:00, 14.45it/s]\n"
          ]
        },
        {
          "output_type": "stream",
          "name": "stdout",
          "text": [
            "training loss : 1.242071175511228e-05  ,  validation loss : 1.385921885073185\n",
            "Accuracy at epoch 48: 78.86%\n"
          ]
        },
        {
          "output_type": "stream",
          "name": "stderr",
          "text": [
            "Epoch 50 Iter 352: loss 0.00001. : 100%|██████████| 352/352 [00:24<00:00, 14.43it/s]\n"
          ]
        },
        {
          "output_type": "stream",
          "name": "stdout",
          "text": [
            "training loss : 1.3089525054965634e-05  ,  validation loss : 1.3840334874286782\n",
            "Accuracy at epoch 49: 79.02%\n"
          ]
        }
      ]
    },
    {
      "cell_type": "markdown",
      "metadata": {
        "id": "m3Ylh7EgiELv"
      },
      "source": [
        "# Testing"
      ]
    },
    {
      "cell_type": "code",
      "metadata": {
        "colab": {
          "base_uri": "https://localhost:8080/"
        },
        "id": "mNLiR5sDiELw",
        "outputId": "57fd210b-3ce7-474c-a278-370381b25f24"
      },
      "source": [
        "cnn = SCNN(activation='relu',batch_norm= None ,dropout=False)\n",
        "cnn = cnn.to(device)\n",
        "optimizer = torch.optim.Adam(params=cnn.parameters(), lr=LR)\n",
        "savepath = os.path.join(os.getcwd(), \"models/\", \"best_val_naiive.pth\")\n",
        "model,optimizer,epoch,stats,time= load_model(model=cnn,optimizer=optimizer,savepath=savepath)\n",
        "final_accuracy = test_model(model)\n",
        "print(f\"final acc : {final_accuracy}\")\n",
        "\n",
        "cnn = SCNN(activation='relu',batch_norm= None ,dropout=True)\n",
        "cnn = cnn.to(device)\n",
        "optimizer = torch.optim.Adam(params=cnn.parameters(), lr=LR)\n",
        "savepath = os.path.join(os.getcwd(), \"models/\", \"best_val_dropout.pth\")\n",
        "model1,optimizer1,epoch1,stats1,time1= load_model(model=cnn,optimizer=optimizer,savepath=savepath)\n",
        "final_accuracy1 = test_model(model1)\n",
        "print(f\"final acc : {final_accuracy1}\")"
      ],
      "execution_count": 175,
      "outputs": [
        {
          "output_type": "stream",
          "name": "stdout",
          "text": [
            "CNN with no dropout\n"
          ]
        },
        {
          "output_type": "stream",
          "name": "stderr",
          "text": [
            "/usr/local/lib/python3.7/dist-packages/torch/utils/data/dataloader.py:481: UserWarning: This DataLoader will create 4 worker processes in total. Our suggested max number of worker in current system is 2, which is smaller than what this DataLoader is going to create. Please be aware that excessive worker creation might get DataLoader running slow or even freeze, lower the worker number to avoid potential slowness/freeze if necessary.\n",
            "  cpuset_checked))\n"
          ]
        },
        {
          "output_type": "stream",
          "name": "stdout",
          "text": [
            "final acc : 73.06\n",
            "CNN with dropout \n",
            "final acc : 81.84\n"
          ]
        }
      ]
    },
    {
      "cell_type": "code",
      "metadata": {
        "id": "gIWtr46ViELw",
        "colab": {
          "base_uri": "https://localhost:8080/",
          "height": 303
        },
        "outputId": "c6ea68e8-55f3-4fe2-e92f-741c6b2d8288"
      },
      "source": [
        "columns = ('Accuracy', 'Running time', 'Parameters')\n",
        "rows = [\"No Dropout\", \"Dropout\"]\n",
        "cell_text = [[final_accuracy, round(time,3),stats['parameters']], [final_accuracy1,round(time1,3),stats1['parameters']]]\n",
        "# Add a table at the bottom of the axes\n",
        "fig, ax = plt.subplots()\n",
        "fig.set_size_inches(10,5)\n",
        "ax.axis('tight')\n",
        "ax.axis('off')\n",
        "the_table = ax.table(cellText=cell_text,\n",
        "                     colLabels=columns,rowLabels = rows,loc='center')\n",
        "the_table.auto_set_font_size(False) \n",
        "the_table.set_fontsize(10) \n",
        "plt.show()\n"
      ],
      "execution_count": 210,
      "outputs": [
        {
          "output_type": "display_data",
          "data": {
            "image/png": "[encoded data removed]",
            "text/plain": [
              "<Figure size 720x360 with 1 Axes>"
            ]
          },
          "metadata": {
            "needs_background": "light"
          }
        }
      ]
    },
    {
      "cell_type": "code",
      "metadata": {
        "colab": {
          "base_uri": "https://localhost:8080/"
        },
        "id": "3cto_fhFhafK",
        "outputId": "3dbffc09-f956-480c-efa9-b483000465c5"
      },
      "source": [
        "cnn = SCNN(activation='relu',batch_norm= 'bnorm' ,dropout=False)\n",
        "cnn = cnn.to(device)\n",
        "optimizer = torch.optim.Adam(params=cnn.parameters(), lr=LR)\n",
        "savepath = os.path.join(os.getcwd(), \"models/\", \"best_val_bnorm.pth\")\n",
        "model2,optimizer2,epoch2,stats2,time2= load_model(model=cnn,optimizer=optimizer,savepath=savepath)\n",
        "final_accuracy2 = test_model(model2)\n",
        "print(f\"final acc : {final_accuracy2}\")\n",
        "\n",
        "cnn = SCNN(activation='relu',batch_norm= 'gnorm' ,dropout=False)\n",
        "cnn = cnn.to(device)\n",
        "optimizer = torch.optim.Adam(params=cnn.parameters(), lr=LR)\n",
        "savepath = os.path.join(os.getcwd(), \"models/\", \"best_val_gnorm.pth\")\n",
        "model3,optimizer3,epoch3,stats3,time3= load_model(model=cnn,optimizer=optimizer,savepath=savepath)\n",
        "final_accuracy3 = test_model(model3)\n",
        "print(f\"final acc : {final_accuracy3}\")"
      ],
      "execution_count": 216,
      "outputs": [
        {
          "output_type": "stream",
          "name": "stdout",
          "text": [
            "CNN with no dropout\n"
          ]
        },
        {
          "output_type": "stream",
          "name": "stderr",
          "text": [
            "/usr/local/lib/python3.7/dist-packages/torch/utils/data/dataloader.py:481: UserWarning: This DataLoader will create 4 worker processes in total. Our suggested max number of worker in current system is 2, which is smaller than what this DataLoader is going to create. Please be aware that excessive worker creation might get DataLoader running slow or even freeze, lower the worker number to avoid potential slowness/freeze if necessary.\n",
            "  cpuset_checked))\n"
          ]
        },
        {
          "output_type": "stream",
          "name": "stdout",
          "text": [
            "final acc : 78.11\n",
            "CNN with no dropout\n",
            "final acc : 77.60000000000001\n"
          ]
        }
      ]
    },
    {
      "cell_type": "code",
      "metadata": {
        "colab": {
          "base_uri": "https://localhost:8080/",
          "height": 303
        },
        "id": "yyZ7qRJZk6dl",
        "outputId": "3fddcf31-0f11-4694-efd1-b72b8fb68c73"
      },
      "source": [
        "columns = ('Accuracy', 'Running time', 'Parameters')\n",
        "rows = [\"No Normalization\", \"Batch Normalization\", \"Group Normalization\"]\n",
        "cell_text = [[final_accuracy, round(time,3),stats['parameters']], [final_accuracy2,round(time2,3),stats2['parameters']], [round(final_accuracy3,4),round(time3,3),stats3['parameters']]]\n",
        "# Add a table at the bottom of the axes\n",
        "fig, ax = plt.subplots()\n",
        "fig.set_size_inches(10,5)\n",
        "ax.axis('tight')\n",
        "ax.axis('off')\n",
        "the_table = ax.table(cellText=cell_text,\n",
        "                     colLabels=columns,rowLabels = rows,loc='center')\n",
        "the_table.auto_set_font_size(False) \n",
        "the_table.set_fontsize(10) \n",
        "plt.show()"
      ],
      "execution_count": 219,
      "outputs": [
        {
          "output_type": "display_data",
          "data": {
            "image/png": "[encoded data removed]",
            "text/plain": [
              "<Figure size 720x360 with 1 Axes>"
            ]
          },
          "metadata": {
            "image/png": {
              "width": 682,
              "height": 286
            }
          }
        }
      ]
    },
    {
      "cell_type": "markdown",
      "metadata": {
        "id": "uDJFyoRRiELw"
      },
      "source": [
        "# Activation Visualization"
      ]
    },
    {
      "cell_type": "code",
      "metadata": {
        "id": "jAO-9YoviELw"
      },
      "source": [
        "# savepath = os.path.join(os.getcwd(), \"models/\", \"best_val_dropout.pth\")\n",
        "# model1,optimizer1,epoch1,stats1,time1= load_model(model=cnn,optimizer=optimizer,savepath=savepath)\n",
        "# savepath = os.path.join(os.getcwd(), \"models/\", \"best_val_naiive.pth\")\n",
        "# model2,optimizer2,epoch2,stats2,time2= load_model(model=cnn,optimizer=optimizer,savepath=savepath)\n",
        "# savepath = os.path.join(os.getcwd(), \"models/\", \"best_val_bnorm.pth\")\n",
        "# model3,optimizer3,epoch3,stats3,time3= load_model(model=cnn,optimizer=optimizer,savepath=savepath)\n",
        "# savepath = os.path.join(os.getcwd(), \"models/\", \"best_val_gnorm.pth\")\n",
        "# model4,optimizer4,epoch4,stats4,time4= load_model(model=cnn,optimizer=optimizer,savepath=savepath)"
      ],
      "execution_count": 176,
      "outputs": []
    },
    {
      "cell_type": "code",
      "metadata": {
        "id": "3eAS1uYxKSBw"
      },
      "source": [
        ""
      ],
      "execution_count": 156,
      "outputs": []
    },
    {
      "cell_type": "code",
      "metadata": {
        "colab": {
          "base_uri": "https://localhost:8080/"
        },
        "id": "w0g7-0kcRMRH",
        "outputId": "d747c801-12f4-46dd-d329-09dce871538f"
      },
      "source": [
        "print(time4)"
      ],
      "execution_count": 157,
      "outputs": [
        {
          "output_type": "stream",
          "name": "stdout",
          "text": [
            "233.99614345700047\n"
          ]
        }
      ]
    },
    {
      "cell_type": "code",
      "metadata": {
        "id": "77sn8AlhiELw"
      },
      "source": [
        "#Code from https://discuss.pytorch.org/t/visualize-feature-map/29597/6 {PyTorch Forum}\n",
        "# Visualize feature maps\n",
        "def get_activation(name):\n",
        "    def hook(model, input, output):\n",
        "        activation[name] = output.detach()\n",
        "    return hook\n"
      ],
      "execution_count": 177,
      "outputs": []
    },
    {
      "cell_type": "code",
      "metadata": {
        "colab": {
          "base_uri": "https://localhost:8080/"
        },
        "id": "GY3ihAPCiELw",
        "outputId": "e74fd54a-f201-4ad9-9e05-490e6972c25e"
      },
      "source": [
        "datait = iter(test_loader)"
      ],
      "execution_count": 178,
      "outputs": [
        {
          "output_type": "stream",
          "name": "stderr",
          "text": [
            "/usr/local/lib/python3.7/dist-packages/torch/utils/data/dataloader.py:481: UserWarning: This DataLoader will create 4 worker processes in total. Our suggested max number of worker in current system is 2, which is smaller than what this DataLoader is going to create. Please be aware that excessive worker creation might get DataLoader running slow or even freeze, lower the worker number to avoid potential slowness/freeze if necessary.\n",
            "  cpuset_checked))\n"
          ]
        }
      ]
    },
    {
      "cell_type": "code",
      "metadata": {
        "id": "aP7M3K9UiELw"
      },
      "source": [
        "images,labels = datait.next()\n"
      ],
      "execution_count": 179,
      "outputs": []
    },
    {
      "cell_type": "code",
      "metadata": {
        "id": "51C0cYhDiELw"
      },
      "source": [
        "#Code from https://discuss.pytorch.org/t/visualize-feature-map/29597/6 {PyTorch Forum}\n",
        "activation = {}\n",
        "model.conv_net[0].register_forward_hook(get_activation('activation_conv1_1'))\n",
        "model.conv_net[3].register_forward_hook(get_activation('activation_conv1_2'))\n",
        "model.conv_net[7].register_forward_hook(get_activation('activation_conv2_1'))\n",
        "model.conv_net[10].register_forward_hook(get_activation('activation_conv2_2'))\n",
        "model.conv_net[14].register_forward_hook(get_activation('activation_conv3_1'))\n",
        "model.conv_net[17].register_forward_hook(get_activation('activation_conv3_2'))\n",
        "\n",
        "output = model(images[0].unsqueeze(0).to(device))\n",
        "# print(output.shape)\n",
        "\n",
        "\n"
      ],
      "execution_count": 180,
      "outputs": []
    },
    {
      "cell_type": "code",
      "metadata": {
        "colab": {
          "base_uri": "https://localhost:8080/",
          "height": 1000
        },
        "id": "F-xpeE61iELx",
        "outputId": "a89ed729-25c7-4d56-f2d5-77ffbe621b79"
      },
      "source": [
        "num_plot = 5\n",
        "fig, axarr = plt.subplots(6, num_plot, figsize=(20, 20))\n",
        "fig.supxlabel('Different Channels')\n",
        "fig.supylabel('Activations of Conv layer')\n",
        "fig.tight_layout()\n",
        "\n",
        "for cnt,(k, v) in zip(range(6),activation.items()):\n",
        "    act = activation[k].squeeze()    \n",
        "    for idx in range(num_plot):\n",
        "        axarr[cnt,idx].imshow(act[idx].cpu().numpy(),cmap=\"gray\")"
      ],
      "execution_count": 181,
      "outputs": [
        {
          "output_type": "error",
          "ename": "AttributeError",
          "evalue": "ignored",
          "traceback": [
            "\u001b[0;31m---------------------------------------------------------------------------\u001b[0m",
            "\u001b[0;31mAttributeError\u001b[0m                            Traceback (most recent call last)",
            "\u001b[0;32m<ipython-input-181-9320d51c17a4>\u001b[0m in \u001b[0;36m<module>\u001b[0;34m()\u001b[0m\n\u001b[1;32m      1\u001b[0m \u001b[0mnum_plot\u001b[0m \u001b[0;34m=\u001b[0m \u001b[0;36m5\u001b[0m\u001b[0;34m\u001b[0m\u001b[0;34m\u001b[0m\u001b[0m\n\u001b[1;32m      2\u001b[0m \u001b[0mfig\u001b[0m\u001b[0;34m,\u001b[0m \u001b[0maxarr\u001b[0m \u001b[0;34m=\u001b[0m \u001b[0mplt\u001b[0m\u001b[0;34m.\u001b[0m\u001b[0msubplots\u001b[0m\u001b[0;34m(\u001b[0m\u001b[0;36m6\u001b[0m\u001b[0;34m,\u001b[0m \u001b[0mnum_plot\u001b[0m\u001b[0;34m,\u001b[0m \u001b[0mfigsize\u001b[0m\u001b[0;34m=\u001b[0m\u001b[0;34m(\u001b[0m\u001b[0;36m20\u001b[0m\u001b[0;34m,\u001b[0m \u001b[0;36m20\u001b[0m\u001b[0;34m)\u001b[0m\u001b[0;34m)\u001b[0m\u001b[0;34m\u001b[0m\u001b[0;34m\u001b[0m\u001b[0m\n\u001b[0;32m----> 3\u001b[0;31m \u001b[0mfig\u001b[0m\u001b[0;34m.\u001b[0m\u001b[0msupxlabel\u001b[0m\u001b[0;34m(\u001b[0m\u001b[0;34m'Different Channels'\u001b[0m\u001b[0;34m)\u001b[0m\u001b[0;34m\u001b[0m\u001b[0;34m\u001b[0m\u001b[0m\n\u001b[0m\u001b[1;32m      4\u001b[0m \u001b[0mfig\u001b[0m\u001b[0;34m.\u001b[0m\u001b[0msupylabel\u001b[0m\u001b[0;34m(\u001b[0m\u001b[0;34m'Activations of Conv layer'\u001b[0m\u001b[0;34m)\u001b[0m\u001b[0;34m\u001b[0m\u001b[0;34m\u001b[0m\u001b[0m\n\u001b[1;32m      5\u001b[0m \u001b[0mfig\u001b[0m\u001b[0;34m.\u001b[0m\u001b[0mtight_layout\u001b[0m\u001b[0;34m(\u001b[0m\u001b[0;34m)\u001b[0m\u001b[0;34m\u001b[0m\u001b[0;34m\u001b[0m\u001b[0m\n",
            "\u001b[0;31mAttributeError\u001b[0m: 'Figure' object has no attribute 'supxlabel'"
          ]
        },
        {
          "output_type": "display_data",
          "data": {
            "image/png": "[encoded data removed]",
            "text/plain": [
              "<Figure size 1440x1440 with 30 Axes>"
            ]
          },
          "metadata": {
            "needs_background": "light"
          }
        }
      ]
    },
    {
      "cell_type": "markdown",
      "metadata": {
        "id": "b2vsjZoyiELx"
      },
      "source": [
        "# Kernel Visualization "
      ]
    },
    {
      "cell_type": "code",
      "metadata": {
        "id": "PZ-yVQd9iELx"
      },
      "source": [
        "# https: // github.com/Niranjankumar-c/DeepLearning-PadhAI/blob/master/DeepLearning_Materials/6_VisualizationCNN_Pytorch/CNNVisualisation.ipynb\n",
        "\n",
        "def plot_rgb(weights):\n",
        "   \n",
        "    n_filters = 5\n",
        "    fig,ax = plt.subplots(1,n_filters,figsize = (8,8))\n",
        "\n",
        "\n",
        "    for i in range(n_filters):\n",
        "        weight = weights[i]\n",
        "        weight = weight - torch.min(weight)\n",
        "        weight = weight / torch.max(weight)\n",
        "        # weight.shape\n",
        "       \n",
        "        ax[i].imshow(weight.permute(1,2,0).cpu().numpy())\n",
        "    plt.show()\n",
        "\n",
        "def plot_single_channel(weights):\n",
        "\n",
        "    n_filters = 5\n",
        "    n_channels = 5\n",
        "    fig, ax = plt.subplots(n_filters, n_channels,figsize=(8, 8))\n",
        "\n",
        "    for i in  range(n_filters):\n",
        "        for j in range(n_channels):\n",
        "            # print(i,j)\n",
        "            weight = weights[i,j]\n",
        "            weight = weight - torch.min(weight)\n",
        "            weight = weight / torch.max(weight)\n",
        "\n",
        "            ax[i,j].imshow(weight.cpu().numpy())\n",
        "            ax[i, j].axis('off')\n",
        "            ax[i, j].set_title(str(i)+str(j))\n",
        "            ax[i, j].set_xticklabels([])\n",
        "            ax[i, j].set_yticklabels([])\n",
        "    \n",
        "    # plt.tight_layout()\n",
        "    plt.show()\n"
      ],
      "execution_count": 182,
      "outputs": []
    },
    {
      "cell_type": "code",
      "metadata": {
        "id": "4p3aEwQ6iELx"
      },
      "source": [
        "def plot_weights(model,layer_num):\n",
        "\n",
        "    layer = model.conv_net[layer_num]\n",
        "    print(layer)\n",
        "    \n",
        "    if isinstance(layer,nn.Conv2d):\n",
        "        weight_tensor = layer.weight.data.detach()\n",
        " \n",
        "        if weight_tensor.shape[1] == 3:\n",
        "            plot_rgb(weight_tensor)\n",
        "        else:\n",
        "            \n",
        "            plot_single_channel(weight_tensor)\n",
        "\n"
      ],
      "execution_count": 183,
      "outputs": []
    },
    {
      "cell_type": "code",
      "metadata": {
        "id": "C978lUj5iELx",
        "colab": {
          "base_uri": "https://localhost:8080/",
          "height": 1000
        },
        "outputId": "08528b03-3a4a-4fe9-f8e3-b46b3052c889"
      },
      "source": [
        "plot_weights(model,0)\n",
        "plot_weights(model,3)\n",
        "plot_weights(model,7)\n",
        "plot_weights(model,10)\n",
        "plot_weights(model,14)\n",
        "plot_weights(model, 17)\n"
      ],
      "execution_count": 184,
      "outputs": [
        {
          "output_type": "stream",
          "name": "stdout",
          "text": [
            "Conv2d(3, 32, kernel_size=(3, 3), stride=(1, 1), padding=(1, 1))\n"
          ]
        },
        {
          "output_type": "display_data",
          "data": {
            "image/png": "[encoded data removed]",
            "text/plain": [
              "<Figure size 576x576 with 5 Axes>"
            ]
          },
          "metadata": {
            "needs_background": "light"
          }
        },
        {
          "output_type": "stream",
          "name": "stdout",
          "text": [
            "ReLU()\n",
            "Conv2d(64, 64, kernel_size=(3, 3), stride=(1, 1), padding=(1, 1))\n"
          ]
        },
        {
          "output_type": "display_data",
          "data": {
            "image/png": "[encoded data removed]",
            "text/plain": [
              "<Figure size 576x576 with 25 Axes>"
            ]
          },
          "metadata": {
            "needs_background": "light"
          }
        },
        {
          "output_type": "stream",
          "name": "stdout",
          "text": [
            "Conv2d(64, 128, kernel_size=(3, 3), stride=(1, 1), padding=(1, 1))\n"
          ]
        },
        {
          "output_type": "display_data",
          "data": {
            "image/png": "[encoded data removed]",
            "text/plain": [
              "<Figure size 576x576 with 25 Axes>"
            ]
          },
          "metadata": {
            "needs_background": "light"
          }
        },
        {
          "output_type": "stream",
          "name": "stdout",
          "text": [
            "MaxPool2d(kernel_size=2, stride=2, padding=0, dilation=1, ceil_mode=False)\n",
            "ReLU()\n"
          ]
        }
      ]
    },
    {
      "cell_type": "code",
      "metadata": {
        "id": "WUPQlJ0diELx"
      },
      "source": [
        ""
      ],
      "execution_count": null,
      "outputs": []
    }
  ]
}