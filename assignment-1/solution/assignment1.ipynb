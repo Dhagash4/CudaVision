{
 "cells": [
  {
   "cell_type": "markdown",
   "metadata": {},
   "source": [
    "# Team Members\n",
    "\n",
    "Dhagash Desai, Lina Hashem"
   ]
  },
  {
   "cell_type": "markdown",
   "metadata": {},
   "source": [
    "# Import"
   ]
  },
  {
   "cell_type": "code",
   "execution_count": 1,
   "metadata": {},
   "outputs": [],
   "source": [
    "import matplotlib.pyplot as plt\n",
    "import numpy as np\n",
    "import os\n",
    "from typing import Tuple\n",
    "import torch\n",
    "import torch.nn as nn\n",
    "import torchvision.transforms as transforms\n",
    "import torchvision.datasets as datasets\n",
    "import torch.nn.functional as F\n",
    "from tqdm import tqdm\n",
    "from utils import array_to_one_hot\n",
    "from sklearn.metrics import accuracy_score\n",
    "import pickle"
   ]
  },
  {
   "cell_type": "markdown",
   "metadata": {},
   "source": [
    "# Dataloader"
   ]
  },
  {
   "cell_type": "code",
   "execution_count": 2,
   "metadata": {},
   "outputs": [],
   "source": [
    "train_dataset = datasets.MNIST(\n",
    "    root='./data', train=True, transform=transforms.ToTensor(), download=True)\n",
    "test_dataset = datasets.MNIST(\n",
    "    root='./data', train=False, transform=transforms.ToTensor(), download=True)"
   ]
  },
  {
   "cell_type": "code",
   "execution_count": 3,
   "metadata": {},
   "outputs": [],
   "source": [
    "BATCH_SIZE = 20\n",
    "SHUFFLE = True\n",
    "\n",
    "train_loader = torch.utils.data.DataLoader(train_dataset,batch_size=BATCH_SIZE,shuffle=SHUFFLE)\n",
    "test_loader = torch.utils.data.DataLoader(test_dataset,batch_size=BATCH_SIZE,shuffle=SHUFFLE)"
   ]
  },
  {
   "cell_type": "markdown",
   "metadata": {},
   "source": [
    "# Model"
   ]
  },
  {
   "cell_type": "code",
   "execution_count": 4,
   "metadata": {},
   "outputs": [],
   "source": [
    "class TwoLayerNet():\n",
    "\n",
    "    def __init__(self, input_dim: int, hidden_dim: int, output_dim: int,load_config):\n",
    "\n",
    "        if load_config:\n",
    "          config_load = open(\n",
    "              \"twolayer_mnist_weights_epcoh_300.pkl\", \"rb\")\n",
    "\n",
    "          self.params = pickle.load(config_load)\n",
    "\n",
    "        else:\n",
    "\n",
    "          self.params = {}\n",
    "\n",
    "        self.params['w1'] = np.random.uniform(-0.5, 0.5, (input_dim, hidden_dim))\n",
    "        self.params['w2'] = np.random.uniform(-0.5, 0.5, (hidden_dim, output_dim))\n",
    "\n",
    "\n",
    "        \n",
    "\n",
    "    def sigmoid_function(self, x: np.ndarray):\n",
    "\n",
    "        return 1 / (1 + np.exp(-x))\n",
    "\n",
    "    def sigmoid_function_backward(self, x: np.ndarray):\n",
    "\n",
    "        output = self.sigmoid_function(x) * (1 - self.sigmoid_function(x))\n",
    "\n",
    "        return output\n",
    "\n",
    "    def softmax_function(self, x: np.ndarray):\n",
    "\n",
    "        exp = np.exp(x)\n",
    "        sumexp = np.sum(exp, axis=1, keepdims=True)\n",
    "\n",
    "        output = exp/(sumexp)\n",
    "\n",
    "        return output\n",
    "\n",
    "    def softmax_function_backward(self, x: np.ndarray, y: np.ndarray):\n",
    "\n",
    "        s = self.y_pred\n",
    "        output = np.zeros((x.shape[0], x.shape[1]))\n",
    "\n",
    "        for i in range(x.shape[0]):\n",
    "\n",
    "            s_vector = s[i].reshape((s[i].shape[0], 1))\n",
    "            s_matrix = np.tile(s_vector, s[i].shape[0])\n",
    "            softmax_derivative = np.sum(\n",
    "                (s[i]-y[i]) * (np.diag(s[i]) - (s_matrix * np.transpose(s_matrix))), axis=1)\n",
    "            output[i] = softmax_derivative\n",
    "\n",
    "        return output\n",
    "\n",
    "    def linear_backward_x(self, upstream_grad: np.ndarray, w: np.ndarray):\n",
    "\n",
    "        dx = np.dot(upstream_grad, w.T)\n",
    "\n",
    "        return dx\n",
    "\n",
    "    def linear_backward_w(self, upstream_grad, x):\n",
    "\n",
    "        dw = np.dot(x.T, upstream_grad)\n",
    "\n",
    "        return dw\n",
    "\n",
    "    def forward(self, X: np.ndarray):\n",
    "\n",
    "        self.x = X\n",
    "        self.layer_1 = self.x @ self.params['w1']\n",
    "        self.sigmoid_layer = self.sigmoid_function(self.layer_1)\n",
    "        self.layer_2 = self.sigmoid_layer @ self.params['w2']\n",
    "        self.y_pred = self.softmax_function(self.layer_2)\n",
    "\n",
    "        return self.y_pred\n",
    "\n",
    "    def backward(self, y: np.ndarray):\n",
    "\n",
    "        softmax_backward = self.softmax_function_backward(self.layer_2, y)\n",
    "        linear_layer2_backward_x = self.linear_backward_x(softmax_backward, self.params['w2'])\n",
    "        sigmoid_backward = self.sigmoid_function_backward(self.layer_1)\n",
    "        sigmoid_backward = linear_layer2_backward_x * sigmoid_backward\n",
    "\n",
    "        dw2 = 1 / y.shape[0] * self.linear_backward_w(softmax_backward, self.sigmoid_layer) \n",
    "        dw1 = 1 / y.shape[0] * self.linear_backward_w(sigmoid_backward, self.x)\n",
    "\n",
    "        #Update gradients\n",
    "\n",
    "        self.params['w1'] = self.params['w1'] - (self.learning_rate * dw1)\n",
    "        self.params['w2'] = self.params['w2'] - (self.learning_rate * dw2)\n",
    "\n",
    "\n",
    "    def loss_mse(self, y_pred: np.ndarray, y: np.ndarray):\n",
    "\n",
    "        return np.mean((y_pred - y) ** 2)\n",
    "\n",
    "    def train(self, num_iterations, train_dataloader, learning_rate):\n",
    "\n",
    "        loss_train = []\n",
    "\n",
    "        self.learning_rate = learning_rate\n",
    "        progress_bar = tqdm(range(num_iterations), total=num_iterations)\n",
    "        loss_train = []\n",
    "\n",
    "        for t in progress_bar:\n",
    "\n",
    "            loss = 0.0\n",
    "\n",
    "            for imgs, labels in train_dataloader:\n",
    "\n",
    "                X_batch = imgs.squeeze().reshape(\n",
    "                    (imgs.shape[0], np.prod(imgs.shape[1:], axis=0))).numpy()\n",
    "                y_batch = array_to_one_hot(labels.numpy(), 10)\n",
    "\n",
    "                output = self.forward(X_batch)\n",
    "\n",
    "                loss_batch = self.loss_mse(output, y_batch)\n",
    "\n",
    "                self.backward(y_batch)\n",
    "\n",
    "                loss += loss_batch\n",
    "            loss_train.append(loss)\n",
    "            progress_bar.set_description(f\"Iter {t+1}: loss {loss:.5f}. \")\n",
    "            \n",
    "            #Saving params so that it can be loaded afterwards\n",
    "            if (t%100 == 0) & (t != 0):\n",
    "\n",
    "                filename = \"twolayer_mnist_weights_epcoh_%d.pkl\"%(t)\n",
    "\n",
    "                with open(filename,'wb') as f:\n",
    "                    pickle.dump(self.params,f)\n",
    "\n",
    "        return loss_train\n"
   ]
  },
  {
   "cell_type": "markdown",
   "metadata": {},
   "source": [
    "# Train"
   ]
  },
  {
   "cell_type": "code",
   "execution_count": 5,
   "metadata": {},
   "outputs": [
    {
     "name": "stderr",
     "output_type": "stream",
     "text": [
      "Iter 400: loss 2.06811. : 100%|██████████| 400/400 [53:33<00:00,  8.03s/it]\n"
     ]
    }
   ],
   "source": [
    "model = TwoLayerNet(784,64,10,False)\n",
    "loss = model.train(400,train_loader,1e-1)\n",
    "# Saving Loss Progress\n",
    "np.savetxt('loss_progress.txt',np.array(loss))"
   ]
  },
  {
   "cell_type": "markdown",
   "metadata": {},
   "source": [
    "# Test"
   ]
  },
  {
   "cell_type": "code",
   "execution_count": 10,
   "metadata": {},
   "outputs": [],
   "source": [
    "def test(test_dataloader, model):\n",
    "\n",
    "    predict_correct = 0.0\n",
    "\n",
    "    for imgs, labels in test_dataloader:\n",
    "\n",
    "        X_batch = imgs.squeeze().reshape(\n",
    "            (imgs.shape[0], np.prod(imgs.shape[1:], axis=0))).numpy()\n",
    "\n",
    "        output = model.forward(X_batch)\n",
    "\n",
    "        predictions = np.argmax(output, axis=1)\n",
    "\n",
    "        correct_batch = accuracy_score(\n",
    "            labels, predictions, normalize=False)\n",
    "        predict_correct += correct_batch\n",
    "\n",
    "    acc = (predict_correct / (len(test_dataset))) * 100\n",
    "    \n",
    "    return acc"
   ]
  },
  {
   "cell_type": "code",
   "execution_count": 11,
   "metadata": {},
   "outputs": [
    {
     "name": "stdout",
     "output_type": "stream",
     "text": [
      "The accuracy of the model on test dataset is 96.990000\n"
     ]
    }
   ],
   "source": [
    "acc = test(test_loader, model)\n",
    "print(\"The accuracy of the model on test dataset is %f\"%(acc))"
   ]
  },
  {
   "cell_type": "code",
   "execution_count": 21,
   "metadata": {},
   "outputs": [],
   "source": [
    "test_loader = torch.utils.data.DataLoader(test_dataset,batch_size=1,shuffle=SHUFFLE)"
   ]
  },
  {
   "cell_type": "code",
   "execution_count": 26,
   "metadata": {},
   "outputs": [
    {
     "name": "stdout",
     "output_type": "stream",
     "text": [
      "The prediction from network is 5 and the ground truth is 5\n",
      "The prediction from network is 3 and the ground truth is 3\n",
      "The prediction from network is 0 and the ground truth is 0\n",
      "The prediction from network is 9 and the ground truth is 9\n",
      "The prediction from network is 1 and the ground truth is 1\n"
     ]
    }
   ],
   "source": [
    "# Test Output Samples\n",
    "\n",
    "it = iter(test_loader)\n",
    "\n",
    "for i in range(5):\n",
    "\n",
    "    img,label= next(it)\n",
    "    img = img.squeeze().reshape(\n",
    "        (img.shape[0], np.prod(img.shape[1:], axis=0))).numpy()\n",
    "    output = model.forward(img)\n",
    "    label = label.numpy()[0]\n",
    "    prediction = np.argmax(output)\n",
    "    \n",
    "\n",
    "    print(\"The prediction from network is %d and the ground truth is %d\"%(prediction,label))"
   ]
  },
  {
   "cell_type": "markdown",
   "metadata": {},
   "source": [
    "# Plots"
   ]
  },
  {
   "cell_type": "code",
   "execution_count": 12,
   "metadata": {},
   "outputs": [
    {
     "data": {
      "text/plain": [
       "Text(0.5, 1.0, 'Training Progress(Linear Scale')"
      ]
     },
     "execution_count": 12,
     "metadata": {},
     "output_type": "execute_result"
    },
    {
     "data": {
      "image/png": "[encoded data removed]",
      "text/plain": [
       "<Figure size 576x396 with 1 Axes>"
      ]
     },
     "metadata": {},
     "output_type": "display_data"
    }
   ],
   "source": [
    "# Loss Plot\n",
    "\n",
    "plt.style.use('seaborn')\n",
    "\n",
    "plt.plot(loss, c=\"blue\", label=\"Training Loss\", linewidth=3, alpha=0.5)\n",
    "plt.xlabel('Iterations')\n",
    "plt.ylabel('MSE Loss')\n",
    "plt.title('Training Progress(Linear Scale')"
   ]
  }
 ],
 "metadata": {
  "interpreter": {
   "hash": "f7881038a8c0c2c5168ac80e20ff544f471faf7d5bc66c5653256549b0169354"
  },
  "kernelspec": {
   "display_name": "Python 3",
   "language": "python",
   "name": "python3"
  },
  "language_info": {
   "codemirror_mode": {
    "name": "ipython",
    "version": 3
   },
   "file_extension": ".py",
   "mimetype": "text/x-python",
   "name": "python",
   "nbconvert_exporter": "python",
   "pygments_lexer": "ipython3",
   "version": "3.7.10"
  }
 },
 "nbformat": 4,
 "nbformat_minor": 4
}
